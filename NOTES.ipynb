{
 "cells": [
  {
   "cell_type": "markdown",
   "id": "4cc3472e",
   "metadata": {},
   "source": [
    "Is there a sweet spot for sfpbed/bath/room? Imagine a one bedroom home with 1000 sqft and one bathroom.  Bigger houses must have moree bathrooms, but what's the rule on sq ft per? Candidate for clustering?"
   ]
  },
  {
   "cell_type": "markdown",
   "id": "4670ff77",
   "metadata": {},
   "source": [
    "Note the histogram on sq_ft_per_room, which has a lot of values at the low end.  \n",
    "This is because you imputed all the homes with 0 rooms as having 1 room.  \n",
    "Maybe impute to the mean?"
   ]
  },
  {
   "cell_type": "code",
   "execution_count": 1,
   "id": "82028d06",
   "metadata": {},
   "outputs": [],
   "source": [
    "import pandas as pd\n",
    "import numpy as np\n",
    "import os\n",
    "from env import host, user, password\n",
    "from sklearn.impute import SimpleImputer\n",
    "import matplotlib.pyplot as plt\n",
    "from scipy import stats\n",
    "import seaborn as sns\n",
    "import env\n",
    "from sklearn.model_selection import train_test_split\n",
    "from sklearn.preprocessing import MinMaxScaler\n",
    "\n",
    "from sklearn.impute import SimpleImputer\n",
    "import scipy\n",
    "import sklearn.linear_model\n",
    "import sklearn.preprocessing\n",
    "import warnings\n",
    "warnings.filterwarnings(\"ignore\")\n",
    "import wrangle\n",
    "import viz_explore\n",
    "import scipy.stats as stats"
   ]
  },
  {
   "cell_type": "code",
   "execution_count": 2,
   "id": "0dd8d3e3",
   "metadata": {},
   "outputs": [],
   "source": [
    "df = wrangle.get_zillow_data()"
   ]
  },
  {
   "cell_type": "code",
   "execution_count": 3,
   "id": "c9dedea2",
   "metadata": {},
   "outputs": [],
   "source": [
    "df = wrangle.clean_and_prep_data(df)"
   ]
  },
  {
   "cell_type": "code",
   "execution_count": 4,
   "id": "a0c9bc35",
   "metadata": {},
   "outputs": [],
   "source": [
    "df = wrangle.encode_zillow(df)"
   ]
  },
  {
   "cell_type": "code",
   "execution_count": 5,
   "id": "8de7c0fc",
   "metadata": {},
   "outputs": [
    {
     "data": {
      "text/plain": [
       "Index(['parcelid', 'bathrooms', 'bedrooms', 'condition', 'sq_ft', 'full_baths',\n",
       "       'latitude', 'longitude', 'lot_size', 'census_tract', 'city_id', 'zip',\n",
       "       'rooms', 'structure_value', 'tax_value', 'year_assessed', 'land_value',\n",
       "       'tax_amount', 'logerror', 'county', 'age', 'sq_ft_per_bathroom',\n",
       "       'sq_ft_per_bedroom', 'sq_ft_per_room', 'has_half_bath', 'age_bin',\n",
       "       'Los_Angeles', 'Orange', 'Ventura'],\n",
       "      dtype='object')"
      ]
     },
     "execution_count": 5,
     "metadata": {},
     "output_type": "execute_result"
    }
   ],
   "source": [
    "df.columns"
   ]
  },
  {
   "cell_type": "code",
   "execution_count": null,
   "id": "45861109",
   "metadata": {},
   "outputs": [],
   "source": []
  }
 ],
 "metadata": {
  "kernelspec": {
   "display_name": "Python 3",
   "language": "python",
   "name": "python3"
  },
  "language_info": {
   "codemirror_mode": {
    "name": "ipython",
    "version": 3
   },
   "file_extension": ".py",
   "mimetype": "text/x-python",
   "name": "python",
   "nbconvert_exporter": "python",
   "pygments_lexer": "ipython3",
   "version": "3.8.8"
  }
 },
 "nbformat": 4,
 "nbformat_minor": 5
}
