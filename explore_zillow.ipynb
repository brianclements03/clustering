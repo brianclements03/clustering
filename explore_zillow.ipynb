{
 "cells": [
  {
   "cell_type": "code",
   "execution_count": 1,
   "id": "d0804ffe",
   "metadata": {},
   "outputs": [],
   "source": [
    "import pandas as pd\n",
    "import numpy as np\n",
    "import os\n",
    "from env import host, user, password\n",
    "from sklearn.impute import SimpleImputer\n",
    "import matplotlib.pyplot as plt\n",
    "import statistics\n",
    "import seaborn as sns\n",
    "import env\n",
    "from sklearn.model_selection import train_test_split\n",
    "from sklearn.preprocessing import MinMaxScaler\n",
    "\n",
    "from sklearn.impute import SimpleImputer\n",
    "import scipy\n",
    "import sklearn.linear_model\n",
    "import sklearn.preprocessing\n",
    "import warnings\n",
    "warnings.filterwarnings(\"ignore\")\n",
    "import wrangle\n",
    "import scipy.stats as stats"
   ]
  },
  {
   "cell_type": "markdown",
   "id": "c8d9becb",
   "metadata": {},
   "source": [
    "### 1. Ask at least 5 questions about the data, keeping in mind that your target variable is logerror. e.g. Is logerror significantly different for properties in LA County vs Orange County vs Ventura County?\n",
    "\n",
    "### 2. Answer those questions through a mix of statistical tests and visualizations.\n",
    "\n",
    "### 3. Bonus: Compute the mean(logerror) by zipcode and the overall mean(logerror). Write a loop that will run a t-test between the overall mean and the mean for each zip code. We want to identify the zip codes where the error is significantly higher or lower than the expected error."
   ]
  },
  {
   "cell_type": "markdown",
   "id": "8bac7169",
   "metadata": {},
   "source": [
    "## Before I get further down any rabbit hole, let's scale and split this data please\n",
    "\n",
    "The wrange_zillow function is pretty good, just needs to be added to scale and split i think.\n",
    "\n",
    "# NOTES TO THE EFFECT:\n",
    "I have moved a number of operations from the wrangle function to the clean_and_prep function--i want the wrangle function to be a simple wrapper for all the other functions in the script\n",
    "    - I'm expecting errors as a result that will need troubleshooting"
   ]
  },
  {
   "cell_type": "code",
   "execution_count": 3,
   "id": "2fe13bad",
   "metadata": {},
   "outputs": [],
   "source": [
    "# df, train, validate, test, X_train, y_train, X_validate, y_validate, X_test, y_test, \\\n",
    "# train_scaled, X_train_scaled, y_train_scaled, validate_scaled, X_validate_scaled, \\\n",
    "# y_validate_scaled, test_scaled, X_test_scaled, y_test_scaled \\\n",
    "# = wrangle.wrangle_zillow()\n"
   ]
  },
  {
   "cell_type": "code",
   "execution_count": 4,
   "id": "8641357e",
   "metadata": {},
   "outputs": [
    {
     "data": {
      "text/plain": [
       "(77574, 68)"
      ]
     },
     "execution_count": 4,
     "metadata": {},
     "output_type": "execute_result"
    }
   ],
   "source": [
    "df = wrangle.get_zillow_data()\n",
    "df.shape"
   ]
  },
  {
   "cell_type": "code",
   "execution_count": null,
   "id": "08ebe1d7",
   "metadata": {},
   "outputs": [],
   "source": []
  },
  {
   "cell_type": "code",
   "execution_count": 5,
   "id": "3d30c6df",
   "metadata": {},
   "outputs": [
    {
     "data": {
      "text/plain": [
       "(61427, 27)"
      ]
     },
     "execution_count": 5,
     "metadata": {},
     "output_type": "execute_result"
    }
   ],
   "source": [
    "df = wrangle.clean_and_prep_data(df)\n",
    "df.shape"
   ]
  },
  {
   "cell_type": "code",
   "execution_count": 6,
   "id": "918e4f96",
   "metadata": {
    "scrolled": false
   },
   "outputs": [
    {
     "data": {
      "text/html": [
       "<div>\n",
       "<style scoped>\n",
       "    .dataframe tbody tr th:only-of-type {\n",
       "        vertical-align: middle;\n",
       "    }\n",
       "\n",
       "    .dataframe tbody tr th {\n",
       "        vertical-align: top;\n",
       "    }\n",
       "\n",
       "    .dataframe thead th {\n",
       "        text-align: right;\n",
       "    }\n",
       "</style>\n",
       "<table border=\"1\" class=\"dataframe\">\n",
       "  <thead>\n",
       "    <tr style=\"text-align: right;\">\n",
       "      <th></th>\n",
       "      <th>1</th>\n",
       "      <th>2</th>\n",
       "      <th>3</th>\n",
       "      <th>4</th>\n",
       "      <th>5</th>\n",
       "    </tr>\n",
       "  </thead>\n",
       "  <tbody>\n",
       "    <tr>\n",
       "      <th>parcelid</th>\n",
       "      <td>17052889</td>\n",
       "      <td>14186244</td>\n",
       "      <td>12177905</td>\n",
       "      <td>10887214</td>\n",
       "      <td>17143294</td>\n",
       "    </tr>\n",
       "    <tr>\n",
       "      <th>bathrooms</th>\n",
       "      <td>1.0</td>\n",
       "      <td>2.0</td>\n",
       "      <td>3.0</td>\n",
       "      <td>3.0</td>\n",
       "      <td>2.0</td>\n",
       "    </tr>\n",
       "    <tr>\n",
       "      <th>bedrooms</th>\n",
       "      <td>2.0</td>\n",
       "      <td>3.0</td>\n",
       "      <td>4.0</td>\n",
       "      <td>3.0</td>\n",
       "      <td>3.0</td>\n",
       "    </tr>\n",
       "    <tr>\n",
       "      <th>condition</th>\n",
       "      <td>6.0</td>\n",
       "      <td>6.0</td>\n",
       "      <td>8.0</td>\n",
       "      <td>8.0</td>\n",
       "      <td>6.0</td>\n",
       "    </tr>\n",
       "    <tr>\n",
       "      <th>sq_ft</th>\n",
       "      <td>1465.0</td>\n",
       "      <td>1243.0</td>\n",
       "      <td>2376.0</td>\n",
       "      <td>1312.0</td>\n",
       "      <td>1492.0</td>\n",
       "    </tr>\n",
       "    <tr>\n",
       "      <th>county</th>\n",
       "      <td>6111.0</td>\n",
       "      <td>6059.0</td>\n",
       "      <td>6037.0</td>\n",
       "      <td>6037.0</td>\n",
       "      <td>6111.0</td>\n",
       "    </tr>\n",
       "    <tr>\n",
       "      <th>full_baths</th>\n",
       "      <td>1.0</td>\n",
       "      <td>2.0</td>\n",
       "      <td>3.0</td>\n",
       "      <td>3.0</td>\n",
       "      <td>2.0</td>\n",
       "    </tr>\n",
       "    <tr>\n",
       "      <th>latitude</th>\n",
       "      <td>34449266.0</td>\n",
       "      <td>33886168.0</td>\n",
       "      <td>34245180.0</td>\n",
       "      <td>34185120.0</td>\n",
       "      <td>34230044.0</td>\n",
       "    </tr>\n",
       "    <tr>\n",
       "      <th>longitude</th>\n",
       "      <td>-119281531.0</td>\n",
       "      <td>-117823170.0</td>\n",
       "      <td>-118240722.0</td>\n",
       "      <td>-118414640.0</td>\n",
       "      <td>-118993991.0</td>\n",
       "    </tr>\n",
       "    <tr>\n",
       "      <th>lot_size</th>\n",
       "      <td>12647.0</td>\n",
       "      <td>8432.0</td>\n",
       "      <td>13038.0</td>\n",
       "      <td>278581.0</td>\n",
       "      <td>903.0</td>\n",
       "    </tr>\n",
       "    <tr>\n",
       "      <th>census_tract</th>\n",
       "      <td>61110010.023006</td>\n",
       "      <td>60590218.022012</td>\n",
       "      <td>60373001.001006</td>\n",
       "      <td>60371236.012</td>\n",
       "      <td>61110053.062009</td>\n",
       "    </tr>\n",
       "    <tr>\n",
       "      <th>city_id</th>\n",
       "      <td>13091.0</td>\n",
       "      <td>21412.0</td>\n",
       "      <td>396551.0</td>\n",
       "      <td>12447.0</td>\n",
       "      <td>51239.0</td>\n",
       "    </tr>\n",
       "    <tr>\n",
       "      <th>zip</th>\n",
       "      <td>97099.0</td>\n",
       "      <td>97078.0</td>\n",
       "      <td>96330.0</td>\n",
       "      <td>96451.0</td>\n",
       "      <td>97091.0</td>\n",
       "    </tr>\n",
       "    <tr>\n",
       "      <th>rooms</th>\n",
       "      <td>5.0</td>\n",
       "      <td>6.0</td>\n",
       "      <td>0.0</td>\n",
       "      <td>0.0</td>\n",
       "      <td>6.0</td>\n",
       "    </tr>\n",
       "    <tr>\n",
       "      <th>structure_value</th>\n",
       "      <td>88000.0</td>\n",
       "      <td>85289.0</td>\n",
       "      <td>108918.0</td>\n",
       "      <td>73681.0</td>\n",
       "      <td>198640.0</td>\n",
       "    </tr>\n",
       "    <tr>\n",
       "      <th>tax_value</th>\n",
       "      <td>464000.0</td>\n",
       "      <td>564778.0</td>\n",
       "      <td>145143.0</td>\n",
       "      <td>119407.0</td>\n",
       "      <td>331064.0</td>\n",
       "    </tr>\n",
       "    <tr>\n",
       "      <th>year_assessed</th>\n",
       "      <td>2016.0</td>\n",
       "      <td>2016.0</td>\n",
       "      <td>2016.0</td>\n",
       "      <td>2016.0</td>\n",
       "      <td>2016.0</td>\n",
       "    </tr>\n",
       "    <tr>\n",
       "      <th>land_value</th>\n",
       "      <td>376000.0</td>\n",
       "      <td>479489.0</td>\n",
       "      <td>36225.0</td>\n",
       "      <td>45726.0</td>\n",
       "      <td>132424.0</td>\n",
       "    </tr>\n",
       "    <tr>\n",
       "      <th>tax_amount</th>\n",
       "      <td>5672.48</td>\n",
       "      <td>6488.3</td>\n",
       "      <td>1777.51</td>\n",
       "      <td>1533.89</td>\n",
       "      <td>3508.1</td>\n",
       "    </tr>\n",
       "    <tr>\n",
       "      <th>logerror</th>\n",
       "      <td>0.055619</td>\n",
       "      <td>0.005383</td>\n",
       "      <td>-0.10341</td>\n",
       "      <td>0.00694</td>\n",
       "      <td>-0.020526</td>\n",
       "    </tr>\n",
       "    <tr>\n",
       "      <th>county</th>\n",
       "      <td>Ventura</td>\n",
       "      <td>Orange</td>\n",
       "      <td>Los_Angeles</td>\n",
       "      <td>Los_Angeles</td>\n",
       "      <td>Ventura</td>\n",
       "    </tr>\n",
       "    <tr>\n",
       "      <th>age</th>\n",
       "      <td>54.0</td>\n",
       "      <td>59.0</td>\n",
       "      <td>51.0</td>\n",
       "      <td>57.0</td>\n",
       "      <td>39.0</td>\n",
       "    </tr>\n",
       "    <tr>\n",
       "      <th>sq_ft_per_bathroom</th>\n",
       "      <td>1465.0</td>\n",
       "      <td>621.5</td>\n",
       "      <td>792.0</td>\n",
       "      <td>437.333333</td>\n",
       "      <td>746.0</td>\n",
       "    </tr>\n",
       "    <tr>\n",
       "      <th>sq_ft_per_bedroom</th>\n",
       "      <td>732.5</td>\n",
       "      <td>414.333333</td>\n",
       "      <td>594.0</td>\n",
       "      <td>437.333333</td>\n",
       "      <td>497.333333</td>\n",
       "    </tr>\n",
       "    <tr>\n",
       "      <th>sq_ft_per_room</th>\n",
       "      <td>293.0</td>\n",
       "      <td>207.166667</td>\n",
       "      <td>inf</td>\n",
       "      <td>inf</td>\n",
       "      <td>248.666667</td>\n",
       "    </tr>\n",
       "    <tr>\n",
       "      <th>has_half_bath</th>\n",
       "      <td>False</td>\n",
       "      <td>False</td>\n",
       "      <td>False</td>\n",
       "      <td>False</td>\n",
       "      <td>False</td>\n",
       "    </tr>\n",
       "    <tr>\n",
       "      <th>age_bin</th>\n",
       "      <td>(40, 60]</td>\n",
       "      <td>(40, 60]</td>\n",
       "      <td>(40, 60]</td>\n",
       "      <td>(40, 60]</td>\n",
       "      <td>(20, 40]</td>\n",
       "    </tr>\n",
       "  </tbody>\n",
       "</table>\n",
       "</div>"
      ],
      "text/plain": [
       "                                  1                2                3  \\\n",
       "parcelid                   17052889         14186244         12177905   \n",
       "bathrooms                       1.0              2.0              3.0   \n",
       "bedrooms                        2.0              3.0              4.0   \n",
       "condition                       6.0              6.0              8.0   \n",
       "sq_ft                        1465.0           1243.0           2376.0   \n",
       "county                       6111.0           6059.0           6037.0   \n",
       "full_baths                      1.0              2.0              3.0   \n",
       "latitude                 34449266.0       33886168.0       34245180.0   \n",
       "longitude              -119281531.0     -117823170.0     -118240722.0   \n",
       "lot_size                    12647.0           8432.0          13038.0   \n",
       "census_tract        61110010.023006  60590218.022012  60373001.001006   \n",
       "city_id                     13091.0          21412.0         396551.0   \n",
       "zip                         97099.0          97078.0          96330.0   \n",
       "rooms                           5.0              6.0              0.0   \n",
       "structure_value             88000.0          85289.0         108918.0   \n",
       "tax_value                  464000.0         564778.0         145143.0   \n",
       "year_assessed                2016.0           2016.0           2016.0   \n",
       "land_value                 376000.0         479489.0          36225.0   \n",
       "tax_amount                  5672.48           6488.3          1777.51   \n",
       "logerror                   0.055619         0.005383         -0.10341   \n",
       "county                      Ventura           Orange      Los_Angeles   \n",
       "age                            54.0             59.0             51.0   \n",
       "sq_ft_per_bathroom           1465.0            621.5            792.0   \n",
       "sq_ft_per_bedroom             732.5       414.333333            594.0   \n",
       "sq_ft_per_room                293.0       207.166667              inf   \n",
       "has_half_bath                 False            False            False   \n",
       "age_bin                    (40, 60]         (40, 60]         (40, 60]   \n",
       "\n",
       "                               4                5  \n",
       "parcelid                10887214         17143294  \n",
       "bathrooms                    3.0              2.0  \n",
       "bedrooms                     3.0              3.0  \n",
       "condition                    8.0              6.0  \n",
       "sq_ft                     1312.0           1492.0  \n",
       "county                    6037.0           6111.0  \n",
       "full_baths                   3.0              2.0  \n",
       "latitude              34185120.0       34230044.0  \n",
       "longitude           -118414640.0     -118993991.0  \n",
       "lot_size                278581.0            903.0  \n",
       "census_tract        60371236.012  61110053.062009  \n",
       "city_id                  12447.0          51239.0  \n",
       "zip                      96451.0          97091.0  \n",
       "rooms                        0.0              6.0  \n",
       "structure_value          73681.0         198640.0  \n",
       "tax_value               119407.0         331064.0  \n",
       "year_assessed             2016.0           2016.0  \n",
       "land_value               45726.0         132424.0  \n",
       "tax_amount               1533.89           3508.1  \n",
       "logerror                 0.00694        -0.020526  \n",
       "county               Los_Angeles          Ventura  \n",
       "age                         57.0             39.0  \n",
       "sq_ft_per_bathroom    437.333333            746.0  \n",
       "sq_ft_per_bedroom     437.333333       497.333333  \n",
       "sq_ft_per_room               inf       248.666667  \n",
       "has_half_bath              False            False  \n",
       "age_bin                 (40, 60]         (20, 40]  "
      ]
     },
     "execution_count": 6,
     "metadata": {},
     "output_type": "execute_result"
    }
   ],
   "source": [
    "df.head().T"
   ]
  },
  {
   "cell_type": "code",
   "execution_count": 8,
   "id": "933588cc",
   "metadata": {},
   "outputs": [],
   "source": [
    "train, validate, test, X_train, y_train, X_validate, y_validate, X_test, y_test = \\\n",
    "wrangle.split_zillow(df)"
   ]
  },
  {
   "cell_type": "code",
   "execution_count": 11,
   "id": "4bad790a",
   "metadata": {},
   "outputs": [
    {
     "data": {
      "text/plain": [
       "MinMaxScaler()"
      ]
     },
     "execution_count": 11,
     "metadata": {},
     "output_type": "execute_result"
    }
   ],
   "source": [
    "scaler = sklearn.preprocessing.MinMaxScaler()\n",
    "scaler"
   ]
  },
  {
   "cell_type": "code",
   "execution_count": null,
   "id": "a2645fb3",
   "metadata": {},
   "outputs": [],
   "source": [
    "train_scaled = scaler.fit_transform(train[num_vars])\n"
   ]
  },
  {
   "cell_type": "markdown",
   "id": "db1f96cd",
   "metadata": {},
   "source": [
    "# COMPLETE AND RUN YOUR CLEAN_AND_PREP FUNCTION BEFORE PROCEEDING FOR CLARITY\n",
    "#### adding it inside of 'wrangle', or as a separate step?"
   ]
  },
  {
   "cell_type": "code",
   "execution_count": null,
   "id": "9e0894a7",
   "metadata": {},
   "outputs": [],
   "source": [
    "df.dtypes"
   ]
  },
  {
   "cell_type": "code",
   "execution_count": null,
   "id": "147b8651",
   "metadata": {},
   "outputs": [],
   "source": [
    "for col in df.columns:\n",
    "    print(df[col].value_counts())"
   ]
  },
  {
   "cell_type": "code",
   "execution_count": null,
   "id": "8cdbe688",
   "metadata": {},
   "outputs": [],
   "source": [
    "df.full_baths.value_counts()"
   ]
  },
  {
   "cell_type": "code",
   "execution_count": null,
   "id": "78ff1e87",
   "metadata": {},
   "outputs": [],
   "source": [
    "df.has_half_bath.value_counts()"
   ]
  },
  {
   "cell_type": "code",
   "execution_count": null,
   "id": "dafa7009",
   "metadata": {},
   "outputs": [],
   "source": [
    "(df.bathrooms - df.full_baths).value_counts()"
   ]
  },
  {
   "cell_type": "markdown",
   "id": "53b7fda7",
   "metadata": {},
   "source": [
    "There aree 13 homes with 2 half baths"
   ]
  },
  {
   "cell_type": "code",
   "execution_count": null,
   "id": "25cb8444",
   "metadata": {},
   "outputs": [],
   "source": [
    "df[(df.bathrooms - df.full_baths) == 1.0]"
   ]
  },
  {
   "cell_type": "markdown",
   "id": "308aa518",
   "metadata": {},
   "source": [
    "## Is there a time period that has a higher or lower log error?\n",
    "Bin the age group--ten bins? And see results.  Hue on county...if that makes a difference"
   ]
  },
  {
   "cell_type": "code",
   "execution_count": null,
   "id": "7852dd92",
   "metadata": {},
   "outputs": [],
   "source": [
    "sns.scatterplot(x='age', y='logerror', data=df)"
   ]
  },
  {
   "cell_type": "code",
   "execution_count": null,
   "id": "8c9e69b3",
   "metadata": {},
   "outputs": [],
   "source": [
    "sns.relplot(\n",
    "    data=df,\n",
    "    y='logerror',\n",
    "    x='age',\n",
    "    col=pd.cut(df.age, bins=[0, 20, 40, 60,80,100,120,200]),\n",
    ")"
   ]
  },
  {
   "cell_type": "markdown",
   "id": "8874af5a",
   "metadata": {},
   "source": [
    "Things look a little tighter on either end...the 40-60 and the 60-80 look like they have a wider distribution of logerror"
   ]
  },
  {
   "cell_type": "code",
   "execution_count": null,
   "id": "4f61d474",
   "metadata": {},
   "outputs": [],
   "source": [
    "plt.figure(figsize=(20,10))\n",
    "sns.boxplot(x='age_bin', y='logerror', data= df)"
   ]
  },
  {
   "cell_type": "markdown",
   "id": "efe76482",
   "metadata": {},
   "source": [
    "Still looks like there are more outliers in the middle, but this could be due to more data being available in those age bins"
   ]
  },
  {
   "cell_type": "code",
   "execution_count": null,
   "id": "994487fe",
   "metadata": {},
   "outputs": [],
   "source": [
    "sns.histplot(data=df, x= df[df.age_bin == pd.Interval(0, 20)].logerror)"
   ]
  },
  {
   "cell_type": "code",
   "execution_count": null,
   "id": "d94a7d55",
   "metadata": {},
   "outputs": [],
   "source": [
    "plt.figure(figsize=(20,5))\n",
    "plt.subplot(1,7,1)\n",
    "sns.histplot(data=df, x= df[df.age_bin == pd.Interval(0, 20)].logerror)\n",
    "plt.title(\"0 to 20\")\n",
    "plt.subplot(1,7,2)\n",
    "sns.histplot(data=df, x= df[df.age_bin == pd.Interval(20, 40)].logerror)\n",
    "plt.title(\"20 to 40\")\n",
    "plt.subplot(1,7,3)\n",
    "sns.histplot(data=df, x= df[df.age_bin == pd.Interval(40, 60)].logerror)\n",
    "plt.title(\"40 to 60\")\n",
    "plt.subplot(1,7,4)\n",
    "sns.histplot(data=df, x= df[df.age_bin == pd.Interval(60, 80)].logerror)\n",
    "plt.title(\"60 to 80\")\n",
    "plt.subplot(1,7,5)\n",
    "sns.histplot(data=df, x= df[df.age_bin == pd.Interval(80, 100)].logerror)\n",
    "plt.title(\"80 to 100\")\n",
    "plt.subplot(1,7,6)\n",
    "sns.histplot(data=df, x= df[df.age_bin == pd.Interval(100, 120)].logerror)\n",
    "plt.title(\"100 to 120\")\n",
    "plt.subplot(1,7,7)\n",
    "sns.histplot(data=df, x= df[df.age_bin == pd.Interval(120, 200)].logerror)\n",
    "plt.title(\"120 and Up\")"
   ]
  },
  {
   "cell_type": "markdown",
   "id": "f5d3db00",
   "metadata": {},
   "source": [
    "Looking at logerror by age_bin, they are generally normally distributed"
   ]
  },
  {
   "cell_type": "markdown",
   "id": "67b47d13",
   "metadata": {},
   "source": [
    "Maybe run an ANOVA test to see about the variances? \n",
    "\n",
    "First, Levene"
   ]
  },
  {
   "cell_type": "code",
   "execution_count": null,
   "id": "7fa39525",
   "metadata": {},
   "outputs": [],
   "source": [
    "#H0: Variances are equal\n",
    "#Ha: Variances are not equal\n",
    "\n",
    "stats.levene(\n",
    "    df[df.age_bin == pd.Interval(0, 20)].logerror,\n",
    "    df[df.age_bin == pd.Interval(20,40)].logerror,\n",
    "    df[df.age_bin == pd.Interval(40,60)].logerror,\n",
    "    df[df.age_bin == pd.Interval(60,80)].logerror,\n",
    "    df[df.age_bin == pd.Interval(80,100)].logerror,\n",
    "    df[df.age_bin == pd.Interval(100,120)].logerror,\n",
    "    df[df.age_bin == pd.Interval(120,200)].logerror\n",
    ")"
   ]
  },
  {
   "cell_type": "markdown",
   "id": "f0ffe1c5",
   "metadata": {},
   "source": [
    "The results show that the null hypothesis is rejected"
   ]
  },
  {
   "cell_type": "code",
   "execution_count": null,
   "id": "4236f3bc",
   "metadata": {},
   "outputs": [],
   "source": [
    "df[df.age_bin == pd.Interval(0, 20)].logerror.var()"
   ]
  },
  {
   "cell_type": "code",
   "execution_count": null,
   "id": "fa061669",
   "metadata": {},
   "outputs": [],
   "source": [
    "df[df.age_bin == pd.Interval(120,200)].logerror.var()"
   ]
  },
  {
   "cell_type": "markdown",
   "id": "e1849b10",
   "metadata": {},
   "source": [
    "#### Anova testing of the logerror by age_bin"
   ]
  },
  {
   "cell_type": "markdown",
   "id": "4bf98542",
   "metadata": {},
   "source": [
    "Set Hypothesis\n",
    "- 𝐻0 : Population means of logerror (by age_bin) are equal\n",
    "- 𝐻𝑎 : Population means of logerror (by age_bin) are not all equal"
   ]
  },
  {
   "cell_type": "code",
   "execution_count": null,
   "id": "c07ebb6d",
   "metadata": {},
   "outputs": [],
   "source": [
    "# This cell runs an ANOVA test on the different 'age_bins'\n",
    "# We are demonstrating statistically that the age correlates to the logerror\n",
    "f, p = stats.f_oneway(\n",
    "    df[df.age_bin == pd.Interval(0, 20)].logerror,\n",
    "    df[df.age_bin == pd.Interval(20,40)].logerror,\n",
    "    df[df.age_bin == pd.Interval(40,60)].logerror,\n",
    "    df[df.age_bin == pd.Interval(60,80)].logerror,\n",
    "    df[df.age_bin == pd.Interval(80,100)].logerror,\n",
    "    df[df.age_bin == pd.Interval(100,120)].logerror,\n",
    "    df[df.age_bin == pd.Interval(120,200)].logerror\n",
    ")\n",
    "f, p"
   ]
  },
  {
   "cell_type": "code",
   "execution_count": null,
   "id": "7e0b8480",
   "metadata": {},
   "outputs": [],
   "source": [
    "# Setting our alpha and returning a statemtent on the validity of the ANOVA test by comparing alpha to the resulting p-value\n",
    "\n",
    "alpha = 0.05\n",
    "if p < alpha:\n",
    "    print(\"We reject H_O\")\n",
    "else:\n",
    "    print(\"We fail to reject $H_{0}$\")"
   ]
  },
  {
   "cell_type": "markdown",
   "id": "b19cb9c8",
   "metadata": {},
   "source": [
    "#### The anova test shows I can proceed with the understanding that the average logerror is different depending on the age of the home"
   ]
  },
  {
   "cell_type": "code",
   "execution_count": null,
   "id": "8c3c0b1e",
   "metadata": {},
   "outputs": [],
   "source": [
    "sns.relplot(data=df, y='logerror', x='age', col='county')"
   ]
  },
  {
   "cell_type": "markdown",
   "id": "2f9fa1ab",
   "metadata": {},
   "source": [
    "This relplot shows age and logerror by count; any dignificant differences between the counties aren't clear"
   ]
  },
  {
   "cell_type": "markdown",
   "id": "c2e53208",
   "metadata": {},
   "source": [
    "### What about a relationship between tax_value and logerror? (also: are these related targets?)"
   ]
  },
  {
   "cell_type": "code",
   "execution_count": null,
   "id": "9f67c66a",
   "metadata": {},
   "outputs": [],
   "source": [
    "sns.scatterplot(x=df.tax_value, y=df.logerror, data=df)"
   ]
  },
  {
   "cell_type": "code",
   "execution_count": null,
   "id": "e9ec626e",
   "metadata": {},
   "outputs": [],
   "source": [
    "sns.scatterplot(x=df.tax_value, y=df.logerror, data=df, hue='county', alpha=.5)"
   ]
  },
  {
   "cell_type": "code",
   "execution_count": null,
   "id": "7305388f",
   "metadata": {},
   "outputs": [],
   "source": [
    "sns.relplot(x=df.tax_value, y=df.logerror, data=df, col='county', alpha=.5)"
   ]
  },
  {
   "cell_type": "code",
   "execution_count": null,
   "id": "6488d71f",
   "metadata": {
    "scrolled": true
   },
   "outputs": [],
   "source": [
    "df[df.county=='Los_Angeles'].shape"
   ]
  },
  {
   "cell_type": "code",
   "execution_count": null,
   "id": "90246b48",
   "metadata": {},
   "outputs": [],
   "source": [
    "df[df.county=='Orange'].shape"
   ]
  },
  {
   "cell_type": "code",
   "execution_count": null,
   "id": "3e117118",
   "metadata": {},
   "outputs": [],
   "source": [
    "df[df.county=='Ventura'].shape"
   ]
  },
  {
   "cell_type": "markdown",
   "id": "6d4675d7",
   "metadata": {},
   "source": [
    "### No clear impressions"
   ]
  },
  {
   "cell_type": "code",
   "execution_count": null,
   "id": "cf5db235",
   "metadata": {},
   "outputs": [],
   "source": [
    "sns.lmplot(x='tax_value', y='logerror', data=df, scatter_kws={'alpha':.2},hue='county')"
   ]
  },
  {
   "cell_type": "markdown",
   "id": "41db55ad",
   "metadata": {},
   "source": [
    "### Look like perfectly flat trend lines"
   ]
  },
  {
   "cell_type": "code",
   "execution_count": null,
   "id": "ae9ae7ec",
   "metadata": {},
   "outputs": [],
   "source": []
  }
 ],
 "metadata": {
  "kernelspec": {
   "display_name": "Python 3",
   "language": "python",
   "name": "python3"
  },
  "language_info": {
   "codemirror_mode": {
    "name": "ipython",
    "version": 3
   },
   "file_extension": ".py",
   "mimetype": "text/x-python",
   "name": "python",
   "nbconvert_exporter": "python",
   "pygments_lexer": "ipython3",
   "version": "3.8.8"
  }
 },
 "nbformat": 4,
 "nbformat_minor": 5
}
