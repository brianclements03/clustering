{
 "cells": [
  {
   "cell_type": "code",
   "execution_count": 1,
   "id": "742bffce",
   "metadata": {},
   "outputs": [],
   "source": [
    "import warnings\n",
    "warnings.filterwarnings(\"ignore\")\n",
    "\n",
    "import pandas as pd\n",
    "import numpy as np\n",
    "\n",
    "import matplotlib.pyplot as plt\n",
    "from matplotlib import cm\n",
    "import seaborn as sns\n",
    "\n",
    "# custom visuals for this lesson\n",
    "import viz_kmeans\n",
    "\n",
    "# supress scientific notation\n",
    "np.set_printoptions(suppress=True)\n",
    "\n",
    "from sklearn.cluster import KMeans"
   ]
  },
  {
   "cell_type": "code",
   "execution_count": 2,
   "id": "b00f64da",
   "metadata": {},
   "outputs": [
    {
     "data": {
      "text/html": [
       "<div>\n",
       "<style scoped>\n",
       "    .dataframe tbody tr th:only-of-type {\n",
       "        vertical-align: middle;\n",
       "    }\n",
       "\n",
       "    .dataframe tbody tr th {\n",
       "        vertical-align: top;\n",
       "    }\n",
       "\n",
       "    .dataframe thead th {\n",
       "        text-align: right;\n",
       "    }\n",
       "</style>\n",
       "<table border=\"1\" class=\"dataframe\">\n",
       "  <thead>\n",
       "    <tr style=\"text-align: right;\">\n",
       "      <th></th>\n",
       "      <th>Sepal.Length</th>\n",
       "      <th>Sepal.Width</th>\n",
       "      <th>Petal.Length</th>\n",
       "      <th>Petal.Width</th>\n",
       "      <th>Species</th>\n",
       "    </tr>\n",
       "  </thead>\n",
       "  <tbody>\n",
       "    <tr>\n",
       "      <th>1</th>\n",
       "      <td>5.1</td>\n",
       "      <td>3.5</td>\n",
       "      <td>1.4</td>\n",
       "      <td>0.2</td>\n",
       "      <td>setosa</td>\n",
       "    </tr>\n",
       "    <tr>\n",
       "      <th>2</th>\n",
       "      <td>4.9</td>\n",
       "      <td>3.0</td>\n",
       "      <td>1.4</td>\n",
       "      <td>0.2</td>\n",
       "      <td>setosa</td>\n",
       "    </tr>\n",
       "    <tr>\n",
       "      <th>3</th>\n",
       "      <td>4.7</td>\n",
       "      <td>3.2</td>\n",
       "      <td>1.3</td>\n",
       "      <td>0.2</td>\n",
       "      <td>setosa</td>\n",
       "    </tr>\n",
       "    <tr>\n",
       "      <th>4</th>\n",
       "      <td>4.6</td>\n",
       "      <td>3.1</td>\n",
       "      <td>1.5</td>\n",
       "      <td>0.2</td>\n",
       "      <td>setosa</td>\n",
       "    </tr>\n",
       "    <tr>\n",
       "      <th>5</th>\n",
       "      <td>5.0</td>\n",
       "      <td>3.6</td>\n",
       "      <td>1.4</td>\n",
       "      <td>0.2</td>\n",
       "      <td>setosa</td>\n",
       "    </tr>\n",
       "  </tbody>\n",
       "</table>\n",
       "</div>"
      ],
      "text/plain": [
       "   Sepal.Length  Sepal.Width  Petal.Length  Petal.Width Species\n",
       "1           5.1          3.5           1.4          0.2  setosa\n",
       "2           4.9          3.0           1.4          0.2  setosa\n",
       "3           4.7          3.2           1.3          0.2  setosa\n",
       "4           4.6          3.1           1.5          0.2  setosa\n",
       "5           5.0          3.6           1.4          0.2  setosa"
      ]
     },
     "execution_count": 2,
     "metadata": {},
     "output_type": "execute_result"
    }
   ],
   "source": [
    "from pydataset import data\n",
    "\n",
    "# import data\n",
    "iris = data('iris')\n",
    "iris.head()"
   ]
  },
  {
   "cell_type": "code",
   "execution_count": 3,
   "id": "c072a67f",
   "metadata": {},
   "outputs": [
    {
     "data": {
      "text/html": [
       "<div>\n",
       "<style scoped>\n",
       "    .dataframe tbody tr th:only-of-type {\n",
       "        vertical-align: middle;\n",
       "    }\n",
       "\n",
       "    .dataframe tbody tr th {\n",
       "        vertical-align: top;\n",
       "    }\n",
       "\n",
       "    .dataframe thead th {\n",
       "        text-align: right;\n",
       "    }\n",
       "</style>\n",
       "<table border=\"1\" class=\"dataframe\">\n",
       "  <thead>\n",
       "    <tr style=\"text-align: right;\">\n",
       "      <th></th>\n",
       "      <th>sepal_length</th>\n",
       "      <th>sepal_width</th>\n",
       "      <th>petal_length</th>\n",
       "      <th>petal_width</th>\n",
       "      <th>species</th>\n",
       "    </tr>\n",
       "  </thead>\n",
       "  <tbody>\n",
       "    <tr>\n",
       "      <th>1</th>\n",
       "      <td>5.1</td>\n",
       "      <td>3.5</td>\n",
       "      <td>1.4</td>\n",
       "      <td>0.2</td>\n",
       "      <td>setosa</td>\n",
       "    </tr>\n",
       "    <tr>\n",
       "      <th>2</th>\n",
       "      <td>4.9</td>\n",
       "      <td>3.0</td>\n",
       "      <td>1.4</td>\n",
       "      <td>0.2</td>\n",
       "      <td>setosa</td>\n",
       "    </tr>\n",
       "    <tr>\n",
       "      <th>3</th>\n",
       "      <td>4.7</td>\n",
       "      <td>3.2</td>\n",
       "      <td>1.3</td>\n",
       "      <td>0.2</td>\n",
       "      <td>setosa</td>\n",
       "    </tr>\n",
       "    <tr>\n",
       "      <th>4</th>\n",
       "      <td>4.6</td>\n",
       "      <td>3.1</td>\n",
       "      <td>1.5</td>\n",
       "      <td>0.2</td>\n",
       "      <td>setosa</td>\n",
       "    </tr>\n",
       "    <tr>\n",
       "      <th>5</th>\n",
       "      <td>5.0</td>\n",
       "      <td>3.6</td>\n",
       "      <td>1.4</td>\n",
       "      <td>0.2</td>\n",
       "      <td>setosa</td>\n",
       "    </tr>\n",
       "  </tbody>\n",
       "</table>\n",
       "</div>"
      ],
      "text/plain": [
       "   sepal_length  sepal_width  petal_length  petal_width species\n",
       "1           5.1          3.5           1.4          0.2  setosa\n",
       "2           4.9          3.0           1.4          0.2  setosa\n",
       "3           4.7          3.2           1.3          0.2  setosa\n",
       "4           4.6          3.1           1.5          0.2  setosa\n",
       "5           5.0          3.6           1.4          0.2  setosa"
      ]
     },
     "execution_count": 3,
     "metadata": {},
     "output_type": "execute_result"
    }
   ],
   "source": [
    "# rename columns\n",
    "\n",
    "iris.columns = ['sepal_length', 'sepal_width', 'petal_length', 'petal_width',\n",
    "       'species']\n",
    "\n",
    "iris.head()"
   ]
  },
  {
   "cell_type": "markdown",
   "id": "d22b6b0c",
   "metadata": {},
   "source": [
    "# 1. Clustering with the Iris Dataset\n",
    "\n",
    "### a. Choose features other than the ones used in the lesson."
   ]
  },
  {
   "cell_type": "code",
   "execution_count": 4,
   "id": "6fe271c6",
   "metadata": {},
   "outputs": [
    {
     "data": {
      "text/html": [
       "<div>\n",
       "<style scoped>\n",
       "    .dataframe tbody tr th:only-of-type {\n",
       "        vertical-align: middle;\n",
       "    }\n",
       "\n",
       "    .dataframe tbody tr th {\n",
       "        vertical-align: top;\n",
       "    }\n",
       "\n",
       "    .dataframe thead th {\n",
       "        text-align: right;\n",
       "    }\n",
       "</style>\n",
       "<table border=\"1\" class=\"dataframe\">\n",
       "  <thead>\n",
       "    <tr style=\"text-align: right;\">\n",
       "      <th></th>\n",
       "      <th>petal_length</th>\n",
       "      <th>petal_width</th>\n",
       "    </tr>\n",
       "  </thead>\n",
       "  <tbody>\n",
       "    <tr>\n",
       "      <th>1</th>\n",
       "      <td>1.4</td>\n",
       "      <td>0.2</td>\n",
       "    </tr>\n",
       "    <tr>\n",
       "      <th>2</th>\n",
       "      <td>1.4</td>\n",
       "      <td>0.2</td>\n",
       "    </tr>\n",
       "    <tr>\n",
       "      <th>3</th>\n",
       "      <td>1.3</td>\n",
       "      <td>0.2</td>\n",
       "    </tr>\n",
       "    <tr>\n",
       "      <th>4</th>\n",
       "      <td>1.5</td>\n",
       "      <td>0.2</td>\n",
       "    </tr>\n",
       "    <tr>\n",
       "      <th>5</th>\n",
       "      <td>1.4</td>\n",
       "      <td>0.2</td>\n",
       "    </tr>\n",
       "  </tbody>\n",
       "</table>\n",
       "</div>"
      ],
      "text/plain": [
       "   petal_length  petal_width\n",
       "1           1.4          0.2\n",
       "2           1.4          0.2\n",
       "3           1.3          0.2\n",
       "4           1.5          0.2\n",
       "5           1.4          0.2"
      ]
     },
     "execution_count": 4,
     "metadata": {},
     "output_type": "execute_result"
    }
   ],
   "source": [
    "# define independent variables for k-means\n",
    "\n",
    "X = iris[['petal_length', 'petal_width']]\n",
    "X.head()"
   ]
  },
  {
   "cell_type": "code",
   "execution_count": 5,
   "id": "33eb47eb",
   "metadata": {},
   "outputs": [
    {
     "data": {
      "text/plain": [
       "array([[<Axes: title={'center': 'petal_length'}>,\n",
       "        <Axes: title={'center': 'petal_width'}>]], dtype=object)"
      ]
     },
     "execution_count": 5,
     "metadata": {},
     "output_type": "execute_result"
    },
    {
     "data": {
      "image/png": "[encoded data removed]",
      "text/plain": [
       "<Figure size 640x480 with 2 Axes>"
      ]
     },
     "metadata": {},
     "output_type": "display_data"
    }
   ],
   "source": [
    "X.hist()"
   ]
  },
  {
   "cell_type": "code",
   "execution_count": 6,
   "id": "17c5049a",
   "metadata": {},
   "outputs": [],
   "source": [
    "# Scale the X\n",
    "\n",
    "from sklearn.preprocessing import StandardScaler\n",
    "\n",
    "scaler = StandardScaler().fit(X)\n",
    "X_scaled = pd.DataFrame(scaler.transform(X), columns= X.columns).set_index([X.index.values])"
   ]
  },
  {
   "cell_type": "code",
   "execution_count": 7,
   "id": "2a71f84a",
   "metadata": {},
   "outputs": [
    {
     "data": {
      "text/plain": [
       "array([1, 1, 1, 1, 1, 1, 1, 1, 1, 1, 1, 1, 1, 1, 1, 1, 1, 1, 1, 1, 1, 1,\n",
       "       1, 1, 1, 1, 1, 1, 1, 1, 1, 1, 1, 1, 1, 1, 1, 1, 1, 1, 1, 1, 1, 1,\n",
       "       1, 1, 1, 1, 1, 1, 2, 2, 2, 2, 2, 2, 2, 2, 2, 2, 2, 2, 2, 2, 2, 2,\n",
       "       2, 2, 2, 2, 0, 2, 2, 2, 2, 2, 2, 0, 2, 2, 2, 2, 2, 2, 2, 2, 2, 2,\n",
       "       2, 2, 2, 2, 2, 2, 2, 2, 2, 2, 2, 2, 0, 0, 0, 0, 0, 0, 2, 0, 0, 0,\n",
       "       0, 0, 0, 0, 0, 0, 0, 0, 0, 2, 0, 0, 0, 0, 0, 0, 0, 0, 0, 0, 0, 0,\n",
       "       0, 2, 2, 0, 0, 0, 0, 0, 0, 0, 0, 0, 0, 0, 0, 0, 0, 0], dtype=int32)"
      ]
     },
     "execution_count": 7,
     "metadata": {},
     "output_type": "execute_result"
    }
   ],
   "source": [
    "# sklearn implementation of KMeans\n",
    "\n",
    "#define the thing\n",
    "kmeans = KMeans(n_clusters=3, random_state = 123, verbose = 0)\n",
    "\n",
    "# fit the thing\n",
    "kmeans.fit(X_scaled)\n",
    "\n",
    "# Use (predict using) the thing \n",
    "kmeans.predict(X_scaled)"
   ]
  },
  {
   "cell_type": "markdown",
   "id": "02124758",
   "metadata": {},
   "source": [
    "### b. Visualize the results of your clustering."
   ]
  },
  {
   "cell_type": "code",
   "execution_count": 8,
   "id": "4136f982",
   "metadata": {},
   "outputs": [],
   "source": [
    "# make a new column names cluster in iris and X_scaled dataframe\n",
    "\n",
    "iris['cluster'] = kmeans.predict(X_scaled)\n",
    "\n",
    "X_scaled['cluster'] = kmeans.predict(X_scaled)"
   ]
  },
  {
   "cell_type": "code",
   "execution_count": 9,
   "id": "c6dd6472",
   "metadata": {},
   "outputs": [
    {
     "ename": "ValueError",
     "evalue": "Cannot subset columns with a tuple with more than one element. Use a list instead.",
     "output_type": "error",
     "traceback": [
      "\u001b[0;31m---------------------------------------------------------------------------\u001b[0m",
      "\u001b[0;31mValueError\u001b[0m                                Traceback (most recent call last)",
      "Cell \u001b[0;32mIn[9], line 2\u001b[0m\n\u001b[1;32m      1\u001b[0m \u001b[38;5;66;03m# Visualize the scatter plot for Actual vs predicted (K-Means)\u001b[39;00m\n\u001b[0;32m----> 2\u001b[0m viz_kmeans\u001b[38;5;241m.\u001b[39mviz_iris2(iris, kmeans)\n",
      "File \u001b[0;32m~/Coding/DS/clustering/viz_kmeans.py:62\u001b[0m, in \u001b[0;36mviz_iris2\u001b[0;34m(iris, kmeans)\u001b[0m\n\u001b[1;32m     60\u001b[0m \u001b[38;5;28;01mdef\u001b[39;00m \u001b[38;5;21mviz_iris2\u001b[39m(iris, kmeans):\n\u001b[0;32m---> 62\u001b[0m     centroids \u001b[38;5;241m=\u001b[39m np\u001b[38;5;241m.\u001b[39marray(iris\u001b[38;5;241m.\u001b[39mgroupby(\u001b[38;5;124m'\u001b[39m\u001b[38;5;124mcluster\u001b[39m\u001b[38;5;124m'\u001b[39m)[\u001b[38;5;124m'\u001b[39m\u001b[38;5;124mpetal_length\u001b[39m\u001b[38;5;124m'\u001b[39m, \u001b[38;5;124m'\u001b[39m\u001b[38;5;124mpetal_width\u001b[39m\u001b[38;5;124m'\u001b[39m]\u001b[38;5;241m.\u001b[39mmean())\n\u001b[1;32m     63\u001b[0m     cen_x \u001b[38;5;241m=\u001b[39m [i[\u001b[38;5;241m0\u001b[39m] \u001b[38;5;28;01mfor\u001b[39;00m i \u001b[38;5;129;01min\u001b[39;00m centroids]\n\u001b[1;32m     64\u001b[0m     cen_y \u001b[38;5;241m=\u001b[39m [i[\u001b[38;5;241m1\u001b[39m] \u001b[38;5;28;01mfor\u001b[39;00m i \u001b[38;5;129;01min\u001b[39;00m centroids]\n",
      "File \u001b[0;32m/opt/homebrew/anaconda3/lib/python3.11/site-packages/pandas/core/groupby/generic.py:1767\u001b[0m, in \u001b[0;36mDataFrameGroupBy.__getitem__\u001b[0;34m(self, key)\u001b[0m\n\u001b[1;32m   1763\u001b[0m \u001b[38;5;66;03m# per GH 23566\u001b[39;00m\n\u001b[1;32m   1764\u001b[0m \u001b[38;5;28;01mif\u001b[39;00m \u001b[38;5;28misinstance\u001b[39m(key, \u001b[38;5;28mtuple\u001b[39m) \u001b[38;5;129;01mand\u001b[39;00m \u001b[38;5;28mlen\u001b[39m(key) \u001b[38;5;241m>\u001b[39m \u001b[38;5;241m1\u001b[39m:\n\u001b[1;32m   1765\u001b[0m     \u001b[38;5;66;03m# if len == 1, then it becomes a SeriesGroupBy and this is actually\u001b[39;00m\n\u001b[1;32m   1766\u001b[0m     \u001b[38;5;66;03m# valid syntax, so don't raise\u001b[39;00m\n\u001b[0;32m-> 1767\u001b[0m     \u001b[38;5;28;01mraise\u001b[39;00m \u001b[38;5;167;01mValueError\u001b[39;00m(\n\u001b[1;32m   1768\u001b[0m         \u001b[38;5;124m\"\u001b[39m\u001b[38;5;124mCannot subset columns with a tuple with more than one element. \u001b[39m\u001b[38;5;124m\"\u001b[39m\n\u001b[1;32m   1769\u001b[0m         \u001b[38;5;124m\"\u001b[39m\u001b[38;5;124mUse a list instead.\u001b[39m\u001b[38;5;124m\"\u001b[39m\n\u001b[1;32m   1770\u001b[0m     )\n\u001b[1;32m   1771\u001b[0m \u001b[38;5;28;01mreturn\u001b[39;00m \u001b[38;5;28msuper\u001b[39m()\u001b[38;5;241m.\u001b[39m\u001b[38;5;21m__getitem__\u001b[39m(key)\n",
      "\u001b[0;31mValueError\u001b[0m: Cannot subset columns with a tuple with more than one element. Use a list instead."
     ]
    }
   ],
   "source": [
    "# Visualize the scatter plot for Actual vs predicted (K-Means)\n",
    "viz_kmeans.viz_iris2(iris, kmeans)"
   ]
  },
  {
   "cell_type": "markdown",
   "id": "a408c942",
   "metadata": {},
   "source": [
    "### c. Use the elbow method to visually select a good value for k."
   ]
  },
  {
   "cell_type": "code",
   "execution_count": null,
   "id": "86b07aaf",
   "metadata": {},
   "outputs": [],
   "source": [
    "with plt.style.context('seaborn-whitegrid'):\n",
    "    plt.figure(figsize=(9, 6))\n",
    "    pd.Series({k: KMeans(k).fit(X).inertia_ for k in range(2, 12)}).plot(marker='x')\n",
    "    plt.xticks(range(2, 12))\n",
    "    plt.xlabel('k')\n",
    "    plt.ylabel('inertia')\n",
    "    plt.title('Change in inertia as k increases')"
   ]
  },
  {
   "cell_type": "markdown",
   "id": "00344a42",
   "metadata": {},
   "source": [
    "### d. Repeat the clustering, this time with 3 different features."
   ]
  },
  {
   "cell_type": "code",
   "execution_count": null,
   "id": "648dac64",
   "metadata": {},
   "outputs": [],
   "source": [
    "# define independent variables for k-means\n",
    "\n",
    "uy = iris[['sepal_length','petal_length', 'petal_width']]\n",
    "uy.head()"
   ]
  },
  {
   "cell_type": "code",
   "execution_count": null,
   "id": "5f153784",
   "metadata": {
    "scrolled": true
   },
   "outputs": [],
   "source": [
    "uy.hist()"
   ]
  },
  {
   "cell_type": "code",
   "execution_count": null,
   "id": "4d8c1e04",
   "metadata": {},
   "outputs": [],
   "source": [
    "# Scale the uy\n",
    "\n",
    "from sklearn.preprocessing import StandardScaler\n",
    "\n",
    "scaler = StandardScaler().fit(uy)\n",
    "uy_scaled = pd.DataFrame(scaler.transform(uy), columns= uy.columns).set_index([uy.index.values])"
   ]
  },
  {
   "cell_type": "code",
   "execution_count": null,
   "id": "ac8d8ff0",
   "metadata": {},
   "outputs": [],
   "source": [
    "uy_scaled.head()"
   ]
  },
  {
   "cell_type": "code",
   "execution_count": null,
   "id": "a16eefb0",
   "metadata": {},
   "outputs": [],
   "source": [
    "# sklearn implementation of KMeans\n",
    "\n",
    "#define the thing\n",
    "kmeans_uy_scaled = KMeans(n_clusters=3, random_state = 123, verbose = 0)\n",
    "\n",
    "# fit the thing\n",
    "kmeans_uy_scaled.fit(uy_scaled)\n",
    "\n",
    "# Use (predict using) the thing \n",
    "kmeans_uy_scaled.predict(uy_scaled)"
   ]
  },
  {
   "cell_type": "code",
   "execution_count": null,
   "id": "6922143b",
   "metadata": {},
   "outputs": [],
   "source": [
    "# # make a new column names cluster in iris and X_scaled dataframe\n",
    "\n",
    "# iris['uy_cluster'] = kmeans.predict(uy_scaled)\n",
    "\n",
    "# uy_scaled['cluster'] = kmeans.predict(uy_scaled)"
   ]
  },
  {
   "cell_type": "markdown",
   "id": "678af983",
   "metadata": {},
   "source": [
    "# the visual doesn't work bc of 3 dimensions i think\n",
    "### taking a stab at a 3d viz below..."
   ]
  },
  {
   "cell_type": "code",
   "execution_count": null,
   "id": "ea8c15f0",
   "metadata": {
    "scrolled": true
   },
   "outputs": [],
   "source": [
    "kmeans_uy_scaled.predict(uy_scaled)"
   ]
  },
  {
   "cell_type": "code",
   "execution_count": null,
   "id": "4e4717dd",
   "metadata": {},
   "outputs": [],
   "source": [
    "import re, seaborn as sns\n",
    "import numpy as np\n",
    "# from matplotlib import pyplot as plt\n",
    "from mpl_toolkits.mplot3d import Axes3D\n",
    "from matplotlib.colors import ListedColormap"
   ]
  },
  {
   "cell_type": "code",
   "execution_count": null,
   "id": "88d7ddc4",
   "metadata": {},
   "outputs": [],
   "source": [
    "# The following command will make the graphic interactive\n",
    "# but it creates problems for subsequent graphics and should be commented out \n",
    "# until it's being used\n",
    "\n",
    "%matplotlib notebook\n",
    "\n",
    "\n",
    "\n",
    "# assigning the graphing data\n",
    "x = uy_scaled.sepal_length\n",
    "y = uy_scaled.petal_length\n",
    "z = uy_scaled.petal_width\n",
    "# axes instance\n",
    "fig = plt.figure(figsize=(6,6))\n",
    "ax = Axes3D(fig)\n",
    "fig.add_axes(ax)\n",
    "# get colormap from seaborn\n",
    "# cmap = ListedColormap(sns.color_palette(\"husl\", 256).as_hex())\n",
    "t = kmeans_uy_scaled.predict(uy_scaled)\n",
    "# plot\n",
    "# the x,y,z labels might need to be specific...\n",
    "sc = ax.scatter(x, y, z, s=40, c=t, marker='o')#, cmap=t, alpha=1)\n",
    "ax.set_xlabel('sepal_length')\n",
    "ax.set_ylabel('petal_length')\n",
    "ax.set_zlabel('petal_width')\n",
    "# legend\n",
    "plt.legend(*sc.legend_elements(), bbox_to_anchor=(1.05, 1), loc=2)\n",
    "\n",
    "# save\n",
    "plt.savefig(\"scatter_hue\", bbox_inches='tight')\n"
   ]
  },
  {
   "cell_type": "markdown",
   "id": "85c20ba6",
   "metadata": {},
   "source": [
    "try to make it interactive (like rotation)"
   ]
  },
  {
   "cell_type": "code",
   "execution_count": null,
   "id": "fa6e8003",
   "metadata": {},
   "outputs": [],
   "source": [
    "with plt.style.context('seaborn-whitegrid'):\n",
    "    plt.figure(figsize=(9, 6))\n",
    "    pd.Series({k: KMeans(k).fit(uy).inertia_ for k in range(2, 12)}).plot(marker='x')\n",
    "    plt.xticks(range(2, 12))\n",
    "    plt.xlabel('k')\n",
    "    plt.ylabel('inertia')\n",
    "    plt.title('Change in inertia as k increases')"
   ]
  },
  {
   "cell_type": "markdown",
   "id": "0dd70b8f",
   "metadata": {},
   "source": [
    "# 2. Use the techniques discussed in this lesson, as well as the insights gained from the exploration exercise to perform clustering on the mall customers dataset. Be sure to visualize your results!"
   ]
  },
  {
   "cell_type": "code",
   "execution_count": null,
   "id": "8b178ec3",
   "metadata": {
    "scrolled": true
   },
   "outputs": [],
   "source": [
    "import wrangle_mall\n",
    "# min_max_scaler, train, validate, test = wrangle_mall.wrangle_mall_df()\n",
    "mall_df = wrangle_mall.get_mall_customers('select * from customers')"
   ]
  },
  {
   "cell_type": "code",
   "execution_count": null,
   "id": "c7e4b06f",
   "metadata": {
    "scrolled": true
   },
   "outputs": [],
   "source": [
    "mall_df.head()"
   ]
  },
  {
   "cell_type": "code",
   "execution_count": null,
   "id": "be6d25cb",
   "metadata": {},
   "outputs": [],
   "source": [
    "sns.scatterplot(x='annual_income',y='spending_score',data=mall_df)"
   ]
  },
  {
   "cell_type": "code",
   "execution_count": null,
   "id": "66fae4ac",
   "metadata": {},
   "outputs": [],
   "source": [
    "# define independent variables for k-means\n",
    "\n",
    "Z = mall_df[['annual_income', 'spending_score']]\n",
    "Z.head()"
   ]
  },
  {
   "cell_type": "code",
   "execution_count": null,
   "id": "711c3c9c",
   "metadata": {
    "scrolled": true
   },
   "outputs": [],
   "source": [
    "Z.hist()"
   ]
  },
  {
   "cell_type": "code",
   "execution_count": null,
   "id": "9184715e",
   "metadata": {},
   "outputs": [],
   "source": [
    "# Scale the Z\n",
    "\n",
    "from sklearn.preprocessing import StandardScaler\n",
    "\n",
    "scaler = StandardScaler().fit(Z)\n",
    "Z_scaled = pd.DataFrame(scaler.transform(Z), columns= Z.columns).set_index([Z.index.values])\n",
    "Z_scaled.head()"
   ]
  },
  {
   "cell_type": "code",
   "execution_count": null,
   "id": "92de4e8c",
   "metadata": {
    "scrolled": true
   },
   "outputs": [],
   "source": [
    "# let us explore what values of k might be appropriate\n",
    "\n",
    "with plt.style.context('seaborn-whitegrid'):\n",
    "    plt.figure(figsize=(9, 6))\n",
    "    pd.Series({k: KMeans(k).fit(Z).inertia_ for k in range(2, 12)}).plot(marker='x')\n",
    "    plt.xticks(range(2, 12))\n",
    "    plt.xlabel('k')\n",
    "    plt.ylabel('inertia')\n",
    "    plt.title('Change in inertia as k increases')"
   ]
  },
  {
   "cell_type": "markdown",
   "id": "e9e1950d",
   "metadata": {},
   "source": [
    "## The elbow make 5 seem like a good number of k"
   ]
  },
  {
   "cell_type": "code",
   "execution_count": null,
   "id": "9159cac8",
   "metadata": {},
   "outputs": [],
   "source": [
    "# sklearn implementation of KMeans\n",
    "\n",
    "#define the thing\n",
    "kmeans = KMeans(n_clusters=5, random_state = 123, verbose = 0)\n",
    "\n",
    "# fit the thinga\n",
    "kmeans.fit(Z_scaled)\n",
    "\n",
    "# Use (predict using) the thing \n",
    "kmeans.predict(Z_scaled)"
   ]
  },
  {
   "cell_type": "code",
   "execution_count": null,
   "id": "9a1ef840",
   "metadata": {},
   "outputs": [],
   "source": [
    "# make a new column names cluster in iris and X_scaled dataframe\n",
    "\n",
    "mall_df['cluster'] = kmeans.predict(Z_scaled)\n",
    "\n",
    "Z_scaled['cluster'] = kmeans.predict(Z_scaled)"
   ]
  },
  {
   "cell_type": "code",
   "execution_count": null,
   "id": "0e2202c4",
   "metadata": {},
   "outputs": [],
   "source": [
    "sns.relplot(x='annual_income',y='spending_score',data = mall_df, hue='cluster')#,col='gender')"
   ]
  },
  {
   "cell_type": "code",
   "execution_count": null,
   "id": "237e94ed",
   "metadata": {},
   "outputs": [],
   "source": [
    "# Taking a stab at graphing here...\n",
    "centroids = np.array(mall_df.groupby('cluster')['annual_income', 'spending_score'].mean())\n",
    "cen_x = [i[0] for i in centroids]\n",
    "cen_y = [i[1] for i in centroids]\n",
    "# cen_x = [i[0] for i in kmeans.cluster_centers_]\n",
    "# cen_y = [i[1] for i in kmeans.cluster_centers_]\n",
    "mall_df['cen_x'] = mall_df.cluster.map({0:cen_x[0], 1:cen_x[1], 2:cen_x[2], 3:cen_x[3], 4:cen_x[4]})\n",
    "mall_df['cen_y'] = mall_df.cluster.map({0:cen_y[0], 1:cen_y[1], 2:cen_y[2], 3:cen_y[3], 4:cen_y[4]})\n",
    "\n",
    "colors = ['#DF2020','#2095DF', '#81DF20','b','g' ]\n",
    "mall_df['c'] = mall_df.cluster.map({0:colors[0], 1:colors[1], 2:colors[2], 3:colors[3],4:colors[4]})\n",
    "\n",
    "#specify custom palette for sns scatterplot\n",
    "colors1 = ['#2095DF','#81DF20' ,'#DF2020','b','g']\n",
    "customPalette = sns.set_palette(sns.color_palette(colors1))\n",
    "\n",
    "#plot the scatterplots\n",
    "\n",
    "# Plotting the clusters here...\n",
    "plt.scatter(mall_df.annual_income, mall_df.spending_score, c=mall_df.c, alpha = 0.6, s=10)\n",
    "# fig.set_label(xlabel = 'annual_income', ylabel = 'spending_score', title = 'K - Means')\n",
    "plt.xlabel(\"Annual Income\")\n",
    "plt.ylabel(\"Spending Score\")\n",
    "plt.title(\"K-means\")\n",
    "# plot centroids on  ax2\n",
    "plt.scatter(cen_x, cen_y, marker='X', c=colors, s=200)\n",
    "\n",
    "\n",
    "mall_df.drop(columns = ['cen_x', 'cen_y', 'c'], inplace = True)\n",
    "plt.tight_layout()\n",
    "plt.show()"
   ]
  },
  {
   "cell_type": "code",
   "execution_count": null,
   "id": "e3855e26",
   "metadata": {},
   "outputs": [],
   "source": [
    "sns.relplot(x='annual_income',y='spending_score',data=mall_df, col='cluster')"
   ]
  },
  {
   "cell_type": "code",
   "execution_count": null,
   "id": "8e78ff77",
   "metadata": {},
   "outputs": [],
   "source": [
    "sns.relplot(x='age',y='annual_income',data=mall_df, col='cluster', hue='gender')"
   ]
  },
  {
   "cell_type": "code",
   "execution_count": null,
   "id": "bc038421",
   "metadata": {},
   "outputs": [],
   "source": [
    "sns.relplot(x='age',y='spending_score',data=mall_df, col='cluster',hue='gender')"
   ]
  },
  {
   "cell_type": "markdown",
   "id": "7fab427d",
   "metadata": {},
   "source": [
    "# 3. How does scaling impact the results of clustering?\n",
    "\n",
    "### Compare k-means clustering results on scaled and unscaled data (you can choose any dataset for this exercise OR use the data/steps outlined in the bonus below). You can show how the resulting clusters differ either with descriptive statistics or visually."
   ]
  },
  {
   "cell_type": "code",
   "execution_count": null,
   "id": "9b01a685",
   "metadata": {
    "scrolled": true
   },
   "outputs": [],
   "source": [
    "# sklearn implementation of KMeans\n",
    "\n",
    "#define the thing\n",
    "kmeans = KMeans(n_clusters=5, random_state = 123, verbose = 0)\n",
    "\n",
    "# fit the thing\n",
    "kmeans.fit(Z)\n",
    "\n",
    "# Use (predict using) the thing \n",
    "kmeans.predict(Z)"
   ]
  },
  {
   "cell_type": "code",
   "execution_count": null,
   "id": "d4e319d8",
   "metadata": {},
   "outputs": [],
   "source": [
    "# make a new column names cluster in iris and X_scaled dataframe\n",
    "\n",
    "mall_df['Z_cluster'] = kmeans.predict(Z)\n",
    "\n",
    "Z['cluster'] = kmeans.predict(Z)"
   ]
  },
  {
   "cell_type": "code",
   "execution_count": null,
   "id": "3f74acfd",
   "metadata": {},
   "outputs": [],
   "source": [
    "# Taking a stab at graphing here...\n",
    "centroids = np.array(Z.groupby('cluster')['annual_income', 'spending_score'].mean())\n",
    "cen_x = [i[0] for i in centroids]\n",
    "cen_y = [i[1] for i in centroids]\n",
    "# cen_x = [i[0] for i in kmeans.cluster_centers_]\n",
    "# cen_y = [i[1] for i in kmeans.cluster_centers_]\n",
    "Z['cen_x'] = Z.cluster.map({0:cen_x[0], 1:cen_x[1], 2:cen_x[2],3:cen_x[3], 4:cen_x[4]})\n",
    "Z['cen_y'] = Z.cluster.map({0:cen_y[0], 1:cen_y[1], 2:cen_y[2],3:cen_y[3], 4:cen_y[4]})\n",
    "\n",
    "colors = ['#DF2020','#2095DF', '#81DF20','b','g' ]\n",
    "Z['c'] = Z.cluster.map({0:colors[0], 1:colors[1], 2:colors[2], 3:colors[3],4:colors[4]})\n",
    "\n",
    "#specify custom palette for sns scatterplot\n",
    "colors1 = ['#2095DF','#81DF20' ,'#DF2020','b','g']\n",
    "customPalette = sns.set_palette(sns.color_palette(colors1))\n",
    "\n",
    "#plot the scatterplots\n",
    "\n",
    "# Plotting the clusters here...\n",
    "plt.scatter(Z.annual_income, Z.spending_score, c=Z.c, alpha = 0.6, s=10)\n",
    "# fig.set_label(xlabel = 'annual_income', ylabel = 'spending_score', title = 'K - Means')\n",
    "plt.xlabel(\"Annual Income\")\n",
    "plt.ylabel(\"Spending Score\")\n",
    "plt.title(\"K-means\")\n",
    "# plot centroids on  ax2\n",
    "plt.scatter(cen_x, cen_y, marker='X', c=colors, s=200)\n",
    "\n",
    "\n",
    "Z.drop(columns = ['cen_x', 'cen_y', 'c'], inplace = True)\n",
    "plt.tight_layout()\n",
    "plt.show()"
   ]
  },
  {
   "cell_type": "markdown",
   "id": "e568945a",
   "metadata": {},
   "source": [
    "##  What about the change in inertia as k changes?"
   ]
  },
  {
   "cell_type": "code",
   "execution_count": null,
   "id": "50a61851",
   "metadata": {},
   "outputs": [],
   "source": [
    "# code here\n",
    "# develop this more, like what ravinder did in the review"
   ]
  },
  {
   "cell_type": "markdown",
   "id": "4b37e663",
   "metadata": {},
   "source": [
    "# Bonus\n",
    "### a) Read in the data from this google sheet: \n",
    "https://docs.google.com/spreadsheets/d/1j5EgXVTR5ikUj3G5ZCQmkq6ziz_gvtASGAdw23-5_6M/edit?usp=sharing"
   ]
  },
  {
   "cell_type": "code",
   "execution_count": null,
   "id": "46530634",
   "metadata": {},
   "outputs": [],
   "source": [
    "goog=pd.read_csv(\"cluster_data.csv - Sheet1.csv\")\n",
    "goog.head()"
   ]
  },
  {
   "cell_type": "markdown",
   "id": "9214eaae",
   "metadata": {},
   "source": [
    "b) Visualize the data and guess the number and shape of the clusters."
   ]
  },
  {
   "cell_type": "code",
   "execution_count": null,
   "id": "9fc985f5",
   "metadata": {},
   "outputs": [],
   "source": [
    "goog.hist()"
   ]
  },
  {
   "cell_type": "code",
   "execution_count": null,
   "id": "252beb6a",
   "metadata": {},
   "outputs": [],
   "source": [
    "plt.figure(figsize=(6,12))\n",
    "sns.jointplot(x='x',y='y',data=goog)"
   ]
  },
  {
   "cell_type": "markdown",
   "id": "1bdbc38b",
   "metadata": {},
   "source": [
    "### Call me crazy, but there seem to be two clusters"
   ]
  },
  {
   "cell_type": "markdown",
   "id": "32861609",
   "metadata": {},
   "source": [
    "c) Implement the KMeans algorithm on unscaled data and visualize the clusters."
   ]
  },
  {
   "cell_type": "code",
   "execution_count": null,
   "id": "fe3adbe3",
   "metadata": {},
   "outputs": [],
   "source": [
    "# sklearn implementation of KMeans\n",
    "#define the thing\n",
    "kmeans = KMeans(n_clusters=2)\n",
    "# fit the thing\n",
    "kmeans.fit(goog)\n",
    "# Use (predict using) the thing \n",
    "kmeans.predict(goog)"
   ]
  },
  {
   "cell_type": "code",
   "execution_count": null,
   "id": "3c56a19f",
   "metadata": {},
   "outputs": [],
   "source": [
    "goog['cluster'] = kmeans.predict(goog)"
   ]
  },
  {
   "cell_type": "code",
   "execution_count": null,
   "id": "d1bf190f",
   "metadata": {},
   "outputs": [],
   "source": [
    "goog.head()"
   ]
  },
  {
   "cell_type": "code",
   "execution_count": null,
   "id": "c8399574",
   "metadata": {},
   "outputs": [],
   "source": [
    "sns.scatterplot(x='x',y='y',data=goog, hue='cluster')"
   ]
  },
  {
   "cell_type": "markdown",
   "id": "276a7909",
   "metadata": {},
   "source": [
    "d) Repeat the step above but with scaled data. "
   ]
  },
  {
   "cell_type": "code",
   "execution_count": null,
   "id": "cf7b261c",
   "metadata": {},
   "outputs": [],
   "source": [
    "# Scale goog\n",
    "\n",
    "goog.drop(columns=['cluster'],inplace=True)\n",
    "from sklearn.preprocessing import StandardScaler\n",
    "scaler = StandardScaler().fit(goog)\n",
    "\n",
    "goog_scaled = pd.DataFrame(scaler.transform(goog), columns= goog.columns).set_index([goog.index.values])\n"
   ]
  },
  {
   "cell_type": "code",
   "execution_count": null,
   "id": "e47d9e71",
   "metadata": {},
   "outputs": [],
   "source": [
    "goog.head()"
   ]
  },
  {
   "cell_type": "code",
   "execution_count": null,
   "id": "d270a4ff",
   "metadata": {},
   "outputs": [],
   "source": [
    "goog_scaled.head()"
   ]
  },
  {
   "cell_type": "code",
   "execution_count": null,
   "id": "7e810e76",
   "metadata": {},
   "outputs": [],
   "source": [
    "# sklearn implementation of KMeans\n",
    "#define the thing\n",
    "kmeans_scaled = KMeans(n_clusters=2, random_state = 123, verbose = 0)\n",
    "# fit the thing\n",
    "kmeans_scaled.fit(goog_scaled)\n",
    "# Use (predict using) the thing \n",
    "kmeans_scaled.predict(goog_scaled)"
   ]
  },
  {
   "cell_type": "code",
   "execution_count": null,
   "id": "de8dbe0f",
   "metadata": {},
   "outputs": [],
   "source": [
    "# goog.drop(columns=['cluster'], inplace=True)\n",
    "goog_scaled['cluster'] = kmeans_scaled.predict(goog_scaled)\n",
    "goog_scaled.head()"
   ]
  },
  {
   "cell_type": "code",
   "execution_count": null,
   "id": "a096ad55",
   "metadata": {},
   "outputs": [],
   "source": [
    "sns.scatterplot(x='x',y='y',data=goog_scaled, hue='cluster')"
   ]
  },
  {
   "cell_type": "markdown",
   "id": "30dbca2f",
   "metadata": {},
   "source": [
    "c) Write down the takeaways from this exercise."
   ]
  },
  {
   "cell_type": "markdown",
   "id": "c27856b5",
   "metadata": {},
   "source": [
    "## Takeaways: scaling helps!\n",
    "\n",
    "Specifically: the difference in size of the x scale vs y scale made all the difference in correctly clustering the data or not"
   ]
  },
  {
   "cell_type": "code",
   "execution_count": null,
   "id": "a1ce2660",
   "metadata": {},
   "outputs": [],
   "source": [
    "# From the exercise review, so as to see it all together:\n",
    "\n",
    "viz_kmeans.bonus_viz()"
   ]
  },
  {
   "cell_type": "code",
   "execution_count": null,
   "id": "5d2d35a6",
   "metadata": {},
   "outputs": [],
   "source": []
  },
  {
   "cell_type": "code",
   "execution_count": null,
   "id": "865e1548",
   "metadata": {},
   "outputs": [],
   "source": []
  }
 ],
 "metadata": {
  "kernelspec": {
   "display_name": "Python 3 (ipykernel)",
   "language": "python",
   "name": "python3"
  },
  "language_info": {
   "codemirror_mode": {
    "name": "ipython",
    "version": 3
   },
   "file_extension": ".py",
   "mimetype": "text/x-python",
   "name": "python",
   "nbconvert_exporter": "python",
   "pygments_lexer": "ipython3",
   "version": "3.11.5"
  }
 },
 "nbformat": 4,
 "nbformat_minor": 5
}
