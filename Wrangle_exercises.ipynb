{
 "cells": [
  {
   "cell_type": "code",
   "execution_count": 1,
   "id": "1e991676",
   "metadata": {},
   "outputs": [],
   "source": [
    "import pandas as pd\n",
    "import numpy as np\n",
    "import seaborn as sns\n",
    "import matplotlib as plt\n",
    "from sklearn.model_selection import train_test_split\n",
    "from sklearn.preprocessing import MinMaxScaler\n",
    "\n",
    "import viz\n",
    "import wrangle\n",
    "import wrangle_mall"
   ]
  },
  {
   "cell_type": "markdown",
   "id": "b918bebf",
   "metadata": {},
   "source": [
    "### 1. Acquire data from mySQL using the python module to connect and query. You will want to end with a single dataframe. Make sure to include: the logerror, all fields related to the properties that are available. You will end up using all the tables in the database."
   ]
  },
  {
   "cell_type": "code",
   "execution_count": 2,
   "id": "1fcdedbc",
   "metadata": {},
   "outputs": [],
   "source": [
    "# Acquiring the data using the wrangle\n",
    "zillow_sql_query = wrangle.get_zillow_data()\n",
    "# I am working with a copy of the SQL query to be able to access it faster\n",
    "df = zillow_sql_query.copy()"
   ]
  },
  {
   "cell_type": "code",
   "execution_count": 3,
   "id": "a0a4b3d9",
   "metadata": {},
   "outputs": [
    {
     "data": {
      "text/plain": [
       "((77574, 68), (77574, 68))"
      ]
     },
     "execution_count": 3,
     "metadata": {},
     "output_type": "execute_result"
    }
   ],
   "source": [
    "zillow_sql_query.shape, df.shape"
   ]
  },
  {
   "cell_type": "code",
   "execution_count": 4,
   "id": "423c5fc4",
   "metadata": {},
   "outputs": [],
   "source": [
    "# df.head().T"
   ]
  },
  {
   "cell_type": "markdown",
   "id": "1d6bc2b8",
   "metadata": {},
   "source": [
    "### Summarize your data (summary stats, info, dtypes, shape, distributions, value_counts, etc.)"
   ]
  },
  {
   "cell_type": "code",
   "execution_count": 5,
   "id": "83293a65",
   "metadata": {},
   "outputs": [
    {
     "data": {
      "text/plain": [
       "(77574, 68)"
      ]
     },
     "execution_count": 5,
     "metadata": {},
     "output_type": "execute_result"
    }
   ],
   "source": [
    "df.shape"
   ]
  },
  {
   "cell_type": "code",
   "execution_count": 6,
   "id": "9d1905cc",
   "metadata": {},
   "outputs": [],
   "source": [
    "# df.dtypes"
   ]
  },
  {
   "cell_type": "code",
   "execution_count": 7,
   "id": "17b2eb1c",
   "metadata": {},
   "outputs": [],
   "source": [
    "# round(df.describe().T, 2)"
   ]
  },
  {
   "cell_type": "code",
   "execution_count": 8,
   "id": "654ede06",
   "metadata": {
    "scrolled": true
   },
   "outputs": [],
   "source": [
    "# df.info"
   ]
  },
  {
   "cell_type": "code",
   "execution_count": 9,
   "id": "e27d1bac",
   "metadata": {},
   "outputs": [
    {
     "data": {
      "text/plain": [
       "id                               0.000000\n",
       "parcelid                         0.000000\n",
       "airconditioningtypeid           67.764973\n",
       "architecturalstyletypeid        99.734447\n",
       "basementsqft                    99.935545\n",
       "bathroomcnt                      0.000000\n",
       "bedroomcnt                       0.000000\n",
       "buildingclasstypeid             99.980664\n",
       "buildingqualitytypeid           35.792920\n",
       "calculatedbathnbr                0.792791\n",
       "decktypeid                      99.208498\n",
       "finishedfloor1squarefeet        92.220332\n",
       "calculatedfinishedsquarefeet     0.257818\n",
       "finishedsquarefeet12             4.711630\n",
       "finishedsquarefeet13            99.945858\n",
       "finishedsquarefeet15            96.097919\n",
       "finishedsquarefeet50            92.220332\n",
       "finishedsquarefeet6             99.502411\n",
       "fips                             0.000000\n",
       "fireplacecnt                    89.317297\n",
       "fullbathcnt                      0.792791\n",
       "garagecarcnt                    67.106247\n",
       "garagetotalsqft                 67.106247\n",
       "hashottuborspa                  98.016088\n",
       "heatingorsystemtypeid           36.101013\n",
       "latitude                         0.000000\n",
       "longitude                        0.000000\n",
       "lotsizesquarefeet               10.644030\n",
       "poolcnt                         79.151520\n",
       "poolsizesum                     98.879779\n",
       "pooltypeid10                    99.400572\n",
       "pooltypeid2                     98.615516\n",
       "pooltypeid7                     80.563075\n",
       "propertycountylandusecode        0.000000\n",
       "propertylandusetypeid            0.000000\n",
       "propertyzoningdesc              34.934385\n",
       "rawcensustractandblock           0.000000\n",
       "regionidcity                     1.897543\n",
       "regionidcounty                   0.000000\n",
       "regionidneighborhood            60.072963\n",
       "regionidzip                      0.064455\n",
       "roomcnt                          0.000000\n",
       "storytypeid                     99.935545\n",
       "threequarterbathnbr             86.973728\n",
       "typeconstructiontypeid          99.713822\n",
       "unitcnt                         34.640472\n",
       "yardbuildingsqft17              96.915204\n",
       "yardbuildingsqft26              99.909764\n",
       "yearbuilt                        0.346766\n",
       "numberofstories                 77.317142\n",
       "fireplaceflag                   99.778276\n",
       "structuretaxvaluedollarcnt       0.148246\n",
       "taxvaluedollarcnt                0.001289\n",
       "assessmentyear                   0.000000\n",
       "landtaxvaluedollarcnt            0.002578\n",
       "taxamount                        0.006445\n",
       "taxdelinquencyflag              96.261634\n",
       "taxdelinquencyyear              96.261634\n",
       "censustractandblock              0.318406\n",
       "logerror                         0.000000\n",
       "transactiondate                  0.000000\n",
       "airconditioningdesc             67.764973\n",
       "architecturalstyledesc          99.734447\n",
       "buildingclassdesc               99.980664\n",
       "heatingorsystemdesc             36.101013\n",
       "propertylandusedesc              0.000000\n",
       "storydesc                       99.935545\n",
       "typeconstructiondesc            99.713822\n",
       "dtype: float64"
      ]
     },
     "execution_count": 9,
     "metadata": {},
     "output_type": "execute_result"
    }
   ],
   "source": [
    "# what percentage of null values for every column.  weird that all my buildingclasstypeid\n",
    "# are null after sql query, there were values before\n",
    "\n",
    "df.isnull().sum()/len(df)*100"
   ]
  },
  {
   "cell_type": "code",
   "execution_count": 10,
   "id": "f1d4eff8",
   "metadata": {},
   "outputs": [
    {
     "data": {
      "text/plain": [
       "id                                  0\n",
       "parcelid                            0\n",
       "airconditioningtypeid           52568\n",
       "architecturalstyletypeid        77368\n",
       "basementsqft                    77524\n",
       "bathroomcnt                         0\n",
       "bedroomcnt                          0\n",
       "buildingclasstypeid             77559\n",
       "buildingqualitytypeid           27766\n",
       "calculatedbathnbr                 615\n",
       "decktypeid                      76960\n",
       "finishedfloor1squarefeet        71539\n",
       "calculatedfinishedsquarefeet      200\n",
       "finishedsquarefeet12             3655\n",
       "finishedsquarefeet13            77532\n",
       "finishedsquarefeet15            74547\n",
       "finishedsquarefeet50            71539\n",
       "finishedsquarefeet6             77188\n",
       "fips                                0\n",
       "fireplacecnt                    69287\n",
       "fullbathcnt                       615\n",
       "garagecarcnt                    52057\n",
       "garagetotalsqft                 52057\n",
       "hashottuborspa                  76035\n",
       "heatingorsystemtypeid           28005\n",
       "latitude                            0\n",
       "longitude                           0\n",
       "lotsizesquarefeet                8257\n",
       "poolcnt                         61401\n",
       "poolsizesum                     76705\n",
       "pooltypeid10                    77109\n",
       "pooltypeid2                     76500\n",
       "pooltypeid7                     62496\n",
       "propertycountylandusecode           0\n",
       "propertylandusetypeid               0\n",
       "propertyzoningdesc              27100\n",
       "rawcensustractandblock              0\n",
       "regionidcity                     1472\n",
       "regionidcounty                      0\n",
       "regionidneighborhood            46601\n",
       "regionidzip                        50\n",
       "roomcnt                             0\n",
       "storytypeid                     77524\n",
       "threequarterbathnbr             67469\n",
       "typeconstructiontypeid          77352\n",
       "unitcnt                         26872\n",
       "yardbuildingsqft17              75181\n",
       "yardbuildingsqft26              77504\n",
       "yearbuilt                         269\n",
       "numberofstories                 59978\n",
       "fireplaceflag                   77402\n",
       "structuretaxvaluedollarcnt        115\n",
       "taxvaluedollarcnt                   1\n",
       "assessmentyear                      0\n",
       "landtaxvaluedollarcnt               2\n",
       "taxamount                           5\n",
       "taxdelinquencyflag              74674\n",
       "taxdelinquencyyear              74674\n",
       "censustractandblock               247\n",
       "logerror                            0\n",
       "transactiondate                     0\n",
       "airconditioningdesc             52568\n",
       "architecturalstyledesc          77368\n",
       "buildingclassdesc               77559\n",
       "heatingorsystemdesc             28005\n",
       "propertylandusedesc                 0\n",
       "storydesc                       77524\n",
       "typeconstructiondesc            77352\n",
       "dtype: int64"
      ]
     },
     "execution_count": 10,
     "metadata": {},
     "output_type": "execute_result"
    }
   ],
   "source": [
    "df.isnull().sum()"
   ]
  },
  {
   "cell_type": "code",
   "execution_count": 11,
   "id": "3e09400b",
   "metadata": {
    "scrolled": false
   },
   "outputs": [
    {
     "data": {
      "image/png": "[encoded data removed]",
      "text/plain": [
       "<Figure size 1152x216 with 7 Axes>"
      ]
     },
     "metadata": {
      "needs_background": "light"
     },
     "output_type": "display_data"
    },
    {
     "data": {
      "image/png": "[encoded data removed]",
      "text/plain": [
       "<Figure size 1152x216 with 7 Axes>"
      ]
     },
     "metadata": {
      "needs_background": "light"
     },
     "output_type": "display_data"
    }
   ],
   "source": [
    "viz.histograms1(df)"
   ]
  },
  {
   "cell_type": "markdown",
   "id": "a39f6dbc",
   "metadata": {},
   "source": [
    "The \"easy\" attributes (beds, baths, garages) are mostly normally distributed with some modestly significant outliers However, some, such as sq_ft and lot_size have some massively outlying data to be dealt with"
   ]
  },
  {
   "cell_type": "code",
   "execution_count": 12,
   "id": "dc8eecc8",
   "metadata": {},
   "outputs": [
    {
     "data": {
      "image/png": "[encoded data removed]",
      "text/plain": [
       "<Figure size 1152x216 with 6 Axes>"
      ]
     },
     "metadata": {
      "needs_background": "light"
     },
     "output_type": "display_data"
    },
    {
     "data": {
      "image/png": "[encoded data removed]",
      "text/plain": [
       "<Figure size 1152x216 with 6 Axes>"
      ]
     },
     "metadata": {
      "needs_background": "light"
     },
     "output_type": "display_data"
    }
   ],
   "source": [
    "viz.histograms2(df)"
   ]
  },
  {
   "cell_type": "markdown",
   "id": "3e746ccf",
   "metadata": {},
   "source": [
    "Similar here (year_built and room count are normal--assuming the 0 values are actually 1 or null...) Tax value has some massive outliers. Logerror...needs to be looked into more closely"
   ]
  },
  {
   "cell_type": "code",
   "execution_count": 13,
   "id": "03bd1833",
   "metadata": {
    "scrolled": true
   },
   "outputs": [
    {
     "data": {
      "text/plain": [
       "33    14817\n",
       "34    13356\n",
       "32    12606\n",
       "31     9911\n",
       "36     5793\n",
       "29     5285\n",
       "35     5163\n",
       "37     3630\n",
       "30     3465\n",
       "38     1932\n",
       "28      457\n",
       "27      316\n",
       "39      285\n",
       "40      230\n",
       "44       79\n",
       "26       65\n",
       "45       50\n",
       "41       29\n",
       "43       29\n",
       "42       26\n",
       "25       24\n",
       "24       13\n",
       "46        5\n",
       "47        3\n",
       "48        3\n",
       "23        2\n",
       "dtype: int64"
      ]
     },
     "execution_count": 13,
     "metadata": {},
     "output_type": "execute_result"
    }
   ],
   "source": [
    "# How many nulls have in each row?\n",
    "# ...as in... 11995 rows have 33 nulls?\n",
    "df.isnull().sum(axis =1).value_counts()"
   ]
  },
  {
   "cell_type": "markdown",
   "id": "0f9062f1",
   "metadata": {},
   "source": [
    "### 3. Write a function that takes in a dataframe of observations and attributes and returns a dataframe where each row is an atttribute name, the first column is the number of rows with missing values for that attribute, and the second column is percent of total rows that have missing values for that attribute. Run the function and document takeaways from this on how you want to handle missing values."
   ]
  },
  {
   "cell_type": "code",
   "execution_count": 14,
   "id": "7a583f2b",
   "metadata": {},
   "outputs": [],
   "source": [
    "def missing_values_col_wise(df):\n",
    "    '''\n",
    "    Function that takes in a df and returns a list of attributes with the number and percent\n",
    "    of missing values for that attribute.\n",
    "    '''\n",
    "    new_df = pd.DataFrame(df.isnull().sum())\n",
    "    new_df['number_missing'] = df.isnull().sum()\n",
    "    new_df['percent_missing'] = df.isnull().sum()/len(df)*100\n",
    "    new_df.drop([0], axis=1, inplace=True)\n",
    "    return new_df"
   ]
  },
  {
   "cell_type": "code",
   "execution_count": 15,
   "id": "9d71b975",
   "metadata": {},
   "outputs": [
    {
     "data": {
      "text/html": [
       "<div>\n",
       "<style scoped>\n",
       "    .dataframe tbody tr th:only-of-type {\n",
       "        vertical-align: middle;\n",
       "    }\n",
       "\n",
       "    .dataframe tbody tr th {\n",
       "        vertical-align: top;\n",
       "    }\n",
       "\n",
       "    .dataframe thead th {\n",
       "        text-align: right;\n",
       "    }\n",
       "</style>\n",
       "<table border=\"1\" class=\"dataframe\">\n",
       "  <thead>\n",
       "    <tr style=\"text-align: right;\">\n",
       "      <th></th>\n",
       "      <th>number_missing</th>\n",
       "      <th>percent_missing</th>\n",
       "    </tr>\n",
       "  </thead>\n",
       "  <tbody>\n",
       "    <tr>\n",
       "      <th>id</th>\n",
       "      <td>0</td>\n",
       "      <td>0.000000</td>\n",
       "    </tr>\n",
       "    <tr>\n",
       "      <th>parcelid</th>\n",
       "      <td>0</td>\n",
       "      <td>0.000000</td>\n",
       "    </tr>\n",
       "    <tr>\n",
       "      <th>airconditioningtypeid</th>\n",
       "      <td>52568</td>\n",
       "      <td>67.764973</td>\n",
       "    </tr>\n",
       "    <tr>\n",
       "      <th>architecturalstyletypeid</th>\n",
       "      <td>77368</td>\n",
       "      <td>99.734447</td>\n",
       "    </tr>\n",
       "    <tr>\n",
       "      <th>basementsqft</th>\n",
       "      <td>77524</td>\n",
       "      <td>99.935545</td>\n",
       "    </tr>\n",
       "    <tr>\n",
       "      <th>bathroomcnt</th>\n",
       "      <td>0</td>\n",
       "      <td>0.000000</td>\n",
       "    </tr>\n",
       "    <tr>\n",
       "      <th>bedroomcnt</th>\n",
       "      <td>0</td>\n",
       "      <td>0.000000</td>\n",
       "    </tr>\n",
       "    <tr>\n",
       "      <th>buildingclasstypeid</th>\n",
       "      <td>77559</td>\n",
       "      <td>99.980664</td>\n",
       "    </tr>\n",
       "    <tr>\n",
       "      <th>buildingqualitytypeid</th>\n",
       "      <td>27766</td>\n",
       "      <td>35.792920</td>\n",
       "    </tr>\n",
       "    <tr>\n",
       "      <th>calculatedbathnbr</th>\n",
       "      <td>615</td>\n",
       "      <td>0.792791</td>\n",
       "    </tr>\n",
       "    <tr>\n",
       "      <th>decktypeid</th>\n",
       "      <td>76960</td>\n",
       "      <td>99.208498</td>\n",
       "    </tr>\n",
       "    <tr>\n",
       "      <th>finishedfloor1squarefeet</th>\n",
       "      <td>71539</td>\n",
       "      <td>92.220332</td>\n",
       "    </tr>\n",
       "    <tr>\n",
       "      <th>calculatedfinishedsquarefeet</th>\n",
       "      <td>200</td>\n",
       "      <td>0.257818</td>\n",
       "    </tr>\n",
       "    <tr>\n",
       "      <th>finishedsquarefeet12</th>\n",
       "      <td>3655</td>\n",
       "      <td>4.711630</td>\n",
       "    </tr>\n",
       "    <tr>\n",
       "      <th>finishedsquarefeet13</th>\n",
       "      <td>77532</td>\n",
       "      <td>99.945858</td>\n",
       "    </tr>\n",
       "    <tr>\n",
       "      <th>finishedsquarefeet15</th>\n",
       "      <td>74547</td>\n",
       "      <td>96.097919</td>\n",
       "    </tr>\n",
       "    <tr>\n",
       "      <th>finishedsquarefeet50</th>\n",
       "      <td>71539</td>\n",
       "      <td>92.220332</td>\n",
       "    </tr>\n",
       "    <tr>\n",
       "      <th>finishedsquarefeet6</th>\n",
       "      <td>77188</td>\n",
       "      <td>99.502411</td>\n",
       "    </tr>\n",
       "    <tr>\n",
       "      <th>fips</th>\n",
       "      <td>0</td>\n",
       "      <td>0.000000</td>\n",
       "    </tr>\n",
       "    <tr>\n",
       "      <th>fireplacecnt</th>\n",
       "      <td>69287</td>\n",
       "      <td>89.317297</td>\n",
       "    </tr>\n",
       "    <tr>\n",
       "      <th>fullbathcnt</th>\n",
       "      <td>615</td>\n",
       "      <td>0.792791</td>\n",
       "    </tr>\n",
       "    <tr>\n",
       "      <th>garagecarcnt</th>\n",
       "      <td>52057</td>\n",
       "      <td>67.106247</td>\n",
       "    </tr>\n",
       "    <tr>\n",
       "      <th>garagetotalsqft</th>\n",
       "      <td>52057</td>\n",
       "      <td>67.106247</td>\n",
       "    </tr>\n",
       "    <tr>\n",
       "      <th>hashottuborspa</th>\n",
       "      <td>76035</td>\n",
       "      <td>98.016088</td>\n",
       "    </tr>\n",
       "    <tr>\n",
       "      <th>heatingorsystemtypeid</th>\n",
       "      <td>28005</td>\n",
       "      <td>36.101013</td>\n",
       "    </tr>\n",
       "    <tr>\n",
       "      <th>latitude</th>\n",
       "      <td>0</td>\n",
       "      <td>0.000000</td>\n",
       "    </tr>\n",
       "    <tr>\n",
       "      <th>longitude</th>\n",
       "      <td>0</td>\n",
       "      <td>0.000000</td>\n",
       "    </tr>\n",
       "    <tr>\n",
       "      <th>lotsizesquarefeet</th>\n",
       "      <td>8257</td>\n",
       "      <td>10.644030</td>\n",
       "    </tr>\n",
       "    <tr>\n",
       "      <th>poolcnt</th>\n",
       "      <td>61401</td>\n",
       "      <td>79.151520</td>\n",
       "    </tr>\n",
       "    <tr>\n",
       "      <th>poolsizesum</th>\n",
       "      <td>76705</td>\n",
       "      <td>98.879779</td>\n",
       "    </tr>\n",
       "    <tr>\n",
       "      <th>pooltypeid10</th>\n",
       "      <td>77109</td>\n",
       "      <td>99.400572</td>\n",
       "    </tr>\n",
       "    <tr>\n",
       "      <th>pooltypeid2</th>\n",
       "      <td>76500</td>\n",
       "      <td>98.615516</td>\n",
       "    </tr>\n",
       "    <tr>\n",
       "      <th>pooltypeid7</th>\n",
       "      <td>62496</td>\n",
       "      <td>80.563075</td>\n",
       "    </tr>\n",
       "    <tr>\n",
       "      <th>propertycountylandusecode</th>\n",
       "      <td>0</td>\n",
       "      <td>0.000000</td>\n",
       "    </tr>\n",
       "    <tr>\n",
       "      <th>propertylandusetypeid</th>\n",
       "      <td>0</td>\n",
       "      <td>0.000000</td>\n",
       "    </tr>\n",
       "    <tr>\n",
       "      <th>propertyzoningdesc</th>\n",
       "      <td>27100</td>\n",
       "      <td>34.934385</td>\n",
       "    </tr>\n",
       "    <tr>\n",
       "      <th>rawcensustractandblock</th>\n",
       "      <td>0</td>\n",
       "      <td>0.000000</td>\n",
       "    </tr>\n",
       "    <tr>\n",
       "      <th>regionidcity</th>\n",
       "      <td>1472</td>\n",
       "      <td>1.897543</td>\n",
       "    </tr>\n",
       "    <tr>\n",
       "      <th>regionidcounty</th>\n",
       "      <td>0</td>\n",
       "      <td>0.000000</td>\n",
       "    </tr>\n",
       "    <tr>\n",
       "      <th>regionidneighborhood</th>\n",
       "      <td>46601</td>\n",
       "      <td>60.072963</td>\n",
       "    </tr>\n",
       "    <tr>\n",
       "      <th>regionidzip</th>\n",
       "      <td>50</td>\n",
       "      <td>0.064455</td>\n",
       "    </tr>\n",
       "    <tr>\n",
       "      <th>roomcnt</th>\n",
       "      <td>0</td>\n",
       "      <td>0.000000</td>\n",
       "    </tr>\n",
       "    <tr>\n",
       "      <th>storytypeid</th>\n",
       "      <td>77524</td>\n",
       "      <td>99.935545</td>\n",
       "    </tr>\n",
       "    <tr>\n",
       "      <th>threequarterbathnbr</th>\n",
       "      <td>67469</td>\n",
       "      <td>86.973728</td>\n",
       "    </tr>\n",
       "    <tr>\n",
       "      <th>typeconstructiontypeid</th>\n",
       "      <td>77352</td>\n",
       "      <td>99.713822</td>\n",
       "    </tr>\n",
       "    <tr>\n",
       "      <th>unitcnt</th>\n",
       "      <td>26872</td>\n",
       "      <td>34.640472</td>\n",
       "    </tr>\n",
       "    <tr>\n",
       "      <th>yardbuildingsqft17</th>\n",
       "      <td>75181</td>\n",
       "      <td>96.915204</td>\n",
       "    </tr>\n",
       "    <tr>\n",
       "      <th>yardbuildingsqft26</th>\n",
       "      <td>77504</td>\n",
       "      <td>99.909764</td>\n",
       "    </tr>\n",
       "    <tr>\n",
       "      <th>yearbuilt</th>\n",
       "      <td>269</td>\n",
       "      <td>0.346766</td>\n",
       "    </tr>\n",
       "    <tr>\n",
       "      <th>numberofstories</th>\n",
       "      <td>59978</td>\n",
       "      <td>77.317142</td>\n",
       "    </tr>\n",
       "    <tr>\n",
       "      <th>fireplaceflag</th>\n",
       "      <td>77402</td>\n",
       "      <td>99.778276</td>\n",
       "    </tr>\n",
       "    <tr>\n",
       "      <th>structuretaxvaluedollarcnt</th>\n",
       "      <td>115</td>\n",
       "      <td>0.148246</td>\n",
       "    </tr>\n",
       "    <tr>\n",
       "      <th>taxvaluedollarcnt</th>\n",
       "      <td>1</td>\n",
       "      <td>0.001289</td>\n",
       "    </tr>\n",
       "    <tr>\n",
       "      <th>assessmentyear</th>\n",
       "      <td>0</td>\n",
       "      <td>0.000000</td>\n",
       "    </tr>\n",
       "    <tr>\n",
       "      <th>landtaxvaluedollarcnt</th>\n",
       "      <td>2</td>\n",
       "      <td>0.002578</td>\n",
       "    </tr>\n",
       "    <tr>\n",
       "      <th>taxamount</th>\n",
       "      <td>5</td>\n",
       "      <td>0.006445</td>\n",
       "    </tr>\n",
       "    <tr>\n",
       "      <th>taxdelinquencyflag</th>\n",
       "      <td>74674</td>\n",
       "      <td>96.261634</td>\n",
       "    </tr>\n",
       "    <tr>\n",
       "      <th>taxdelinquencyyear</th>\n",
       "      <td>74674</td>\n",
       "      <td>96.261634</td>\n",
       "    </tr>\n",
       "    <tr>\n",
       "      <th>censustractandblock</th>\n",
       "      <td>247</td>\n",
       "      <td>0.318406</td>\n",
       "    </tr>\n",
       "    <tr>\n",
       "      <th>logerror</th>\n",
       "      <td>0</td>\n",
       "      <td>0.000000</td>\n",
       "    </tr>\n",
       "    <tr>\n",
       "      <th>transactiondate</th>\n",
       "      <td>0</td>\n",
       "      <td>0.000000</td>\n",
       "    </tr>\n",
       "    <tr>\n",
       "      <th>airconditioningdesc</th>\n",
       "      <td>52568</td>\n",
       "      <td>67.764973</td>\n",
       "    </tr>\n",
       "    <tr>\n",
       "      <th>architecturalstyledesc</th>\n",
       "      <td>77368</td>\n",
       "      <td>99.734447</td>\n",
       "    </tr>\n",
       "    <tr>\n",
       "      <th>buildingclassdesc</th>\n",
       "      <td>77559</td>\n",
       "      <td>99.980664</td>\n",
       "    </tr>\n",
       "    <tr>\n",
       "      <th>heatingorsystemdesc</th>\n",
       "      <td>28005</td>\n",
       "      <td>36.101013</td>\n",
       "    </tr>\n",
       "    <tr>\n",
       "      <th>propertylandusedesc</th>\n",
       "      <td>0</td>\n",
       "      <td>0.000000</td>\n",
       "    </tr>\n",
       "    <tr>\n",
       "      <th>storydesc</th>\n",
       "      <td>77524</td>\n",
       "      <td>99.935545</td>\n",
       "    </tr>\n",
       "    <tr>\n",
       "      <th>typeconstructiondesc</th>\n",
       "      <td>77352</td>\n",
       "      <td>99.713822</td>\n",
       "    </tr>\n",
       "  </tbody>\n",
       "</table>\n",
       "</div>"
      ],
      "text/plain": [
       "                              number_missing  percent_missing\n",
       "id                                         0         0.000000\n",
       "parcelid                                   0         0.000000\n",
       "airconditioningtypeid                  52568        67.764973\n",
       "architecturalstyletypeid               77368        99.734447\n",
       "basementsqft                           77524        99.935545\n",
       "bathroomcnt                                0         0.000000\n",
       "bedroomcnt                                 0         0.000000\n",
       "buildingclasstypeid                    77559        99.980664\n",
       "buildingqualitytypeid                  27766        35.792920\n",
       "calculatedbathnbr                        615         0.792791\n",
       "decktypeid                             76960        99.208498\n",
       "finishedfloor1squarefeet               71539        92.220332\n",
       "calculatedfinishedsquarefeet             200         0.257818\n",
       "finishedsquarefeet12                    3655         4.711630\n",
       "finishedsquarefeet13                   77532        99.945858\n",
       "finishedsquarefeet15                   74547        96.097919\n",
       "finishedsquarefeet50                   71539        92.220332\n",
       "finishedsquarefeet6                    77188        99.502411\n",
       "fips                                       0         0.000000\n",
       "fireplacecnt                           69287        89.317297\n",
       "fullbathcnt                              615         0.792791\n",
       "garagecarcnt                           52057        67.106247\n",
       "garagetotalsqft                        52057        67.106247\n",
       "hashottuborspa                         76035        98.016088\n",
       "heatingorsystemtypeid                  28005        36.101013\n",
       "latitude                                   0         0.000000\n",
       "longitude                                  0         0.000000\n",
       "lotsizesquarefeet                       8257        10.644030\n",
       "poolcnt                                61401        79.151520\n",
       "poolsizesum                            76705        98.879779\n",
       "pooltypeid10                           77109        99.400572\n",
       "pooltypeid2                            76500        98.615516\n",
       "pooltypeid7                            62496        80.563075\n",
       "propertycountylandusecode                  0         0.000000\n",
       "propertylandusetypeid                      0         0.000000\n",
       "propertyzoningdesc                     27100        34.934385\n",
       "rawcensustractandblock                     0         0.000000\n",
       "regionidcity                            1472         1.897543\n",
       "regionidcounty                             0         0.000000\n",
       "regionidneighborhood                   46601        60.072963\n",
       "regionidzip                               50         0.064455\n",
       "roomcnt                                    0         0.000000\n",
       "storytypeid                            77524        99.935545\n",
       "threequarterbathnbr                    67469        86.973728\n",
       "typeconstructiontypeid                 77352        99.713822\n",
       "unitcnt                                26872        34.640472\n",
       "yardbuildingsqft17                     75181        96.915204\n",
       "yardbuildingsqft26                     77504        99.909764\n",
       "yearbuilt                                269         0.346766\n",
       "numberofstories                        59978        77.317142\n",
       "fireplaceflag                          77402        99.778276\n",
       "structuretaxvaluedollarcnt               115         0.148246\n",
       "taxvaluedollarcnt                          1         0.001289\n",
       "assessmentyear                             0         0.000000\n",
       "landtaxvaluedollarcnt                      2         0.002578\n",
       "taxamount                                  5         0.006445\n",
       "taxdelinquencyflag                     74674        96.261634\n",
       "taxdelinquencyyear                     74674        96.261634\n",
       "censustractandblock                      247         0.318406\n",
       "logerror                                   0         0.000000\n",
       "transactiondate                            0         0.000000\n",
       "airconditioningdesc                    52568        67.764973\n",
       "architecturalstyledesc                 77368        99.734447\n",
       "buildingclassdesc                      77559        99.980664\n",
       "heatingorsystemdesc                    28005        36.101013\n",
       "propertylandusedesc                        0         0.000000\n",
       "storydesc                              77524        99.935545\n",
       "typeconstructiondesc                   77352        99.713822"
      ]
     },
     "execution_count": 15,
     "metadata": {},
     "output_type": "execute_result"
    }
   ],
   "source": [
    "missing_cols = missing_values_col_wise(df)\n",
    "missing_cols"
   ]
  },
  {
   "cell_type": "markdown",
   "id": "56bc4a06",
   "metadata": {},
   "source": [
    "### Takeaways, missing values: \n",
    "Drop all columns over 50% except...\n",
    "- pool count: i think pool count is 0 unless otherwise specified\n",
    "- fireplace count: same\n",
    "- unit count...see below"
   ]
  },
  {
   "cell_type": "markdown",
   "id": "624c8d88",
   "metadata": {},
   "source": [
    "### 4. Write a function that takes in a dataframe and returns a dataframe with 3 columns: the number of columns missing, percent of columns missing, and number of rows with n columns missing. Run the function and document takeaways from this on how you want to handle missing values."
   ]
  },
  {
   "cell_type": "code",
   "execution_count": 16,
   "id": "e6b8fc0e",
   "metadata": {},
   "outputs": [],
   "source": [
    "def missing_values_row_wise(df):\n",
    "    '''\n",
    "    Function that takes in a df and returns a list of rows with the number and percent\n",
    "    of missing values.\n",
    "    '''\n",
    "    new_df = pd.DataFrame(df.isnull().sum(axis =1).value_counts())\n",
    "    new_df['percent_missing'] = new_df.index/len(df.columns)*100\n",
    "    new_df['num_of_rows'] = df.isnull().sum(axis =1).value_counts()\n",
    "    new_df.drop([0], axis=1, inplace=True)\n",
    "    new_df.index.rename('num_cols_missing_from_row', inplace = True)\n",
    "    return new_df"
   ]
  },
  {
   "cell_type": "code",
   "execution_count": 17,
   "id": "efb6fdc9",
   "metadata": {},
   "outputs": [
    {
     "data": {
      "text/html": [
       "<div>\n",
       "<style scoped>\n",
       "    .dataframe tbody tr th:only-of-type {\n",
       "        vertical-align: middle;\n",
       "    }\n",
       "\n",
       "    .dataframe tbody tr th {\n",
       "        vertical-align: top;\n",
       "    }\n",
       "\n",
       "    .dataframe thead th {\n",
       "        text-align: right;\n",
       "    }\n",
       "</style>\n",
       "<table border=\"1\" class=\"dataframe\">\n",
       "  <thead>\n",
       "    <tr style=\"text-align: right;\">\n",
       "      <th></th>\n",
       "      <th>percent_missing</th>\n",
       "      <th>num_of_rows</th>\n",
       "    </tr>\n",
       "    <tr>\n",
       "      <th>num_cols_missing_from_row</th>\n",
       "      <th></th>\n",
       "      <th></th>\n",
       "    </tr>\n",
       "  </thead>\n",
       "  <tbody>\n",
       "    <tr>\n",
       "      <th>33</th>\n",
       "      <td>48.529412</td>\n",
       "      <td>14817</td>\n",
       "    </tr>\n",
       "    <tr>\n",
       "      <th>34</th>\n",
       "      <td>50.000000</td>\n",
       "      <td>13356</td>\n",
       "    </tr>\n",
       "    <tr>\n",
       "      <th>32</th>\n",
       "      <td>47.058824</td>\n",
       "      <td>12606</td>\n",
       "    </tr>\n",
       "    <tr>\n",
       "      <th>31</th>\n",
       "      <td>45.588235</td>\n",
       "      <td>9911</td>\n",
       "    </tr>\n",
       "    <tr>\n",
       "      <th>36</th>\n",
       "      <td>52.941176</td>\n",
       "      <td>5793</td>\n",
       "    </tr>\n",
       "    <tr>\n",
       "      <th>29</th>\n",
       "      <td>42.647059</td>\n",
       "      <td>5285</td>\n",
       "    </tr>\n",
       "    <tr>\n",
       "      <th>35</th>\n",
       "      <td>51.470588</td>\n",
       "      <td>5163</td>\n",
       "    </tr>\n",
       "    <tr>\n",
       "      <th>37</th>\n",
       "      <td>54.411765</td>\n",
       "      <td>3630</td>\n",
       "    </tr>\n",
       "    <tr>\n",
       "      <th>30</th>\n",
       "      <td>44.117647</td>\n",
       "      <td>3465</td>\n",
       "    </tr>\n",
       "    <tr>\n",
       "      <th>38</th>\n",
       "      <td>55.882353</td>\n",
       "      <td>1932</td>\n",
       "    </tr>\n",
       "    <tr>\n",
       "      <th>28</th>\n",
       "      <td>41.176471</td>\n",
       "      <td>457</td>\n",
       "    </tr>\n",
       "    <tr>\n",
       "      <th>27</th>\n",
       "      <td>39.705882</td>\n",
       "      <td>316</td>\n",
       "    </tr>\n",
       "    <tr>\n",
       "      <th>39</th>\n",
       "      <td>57.352941</td>\n",
       "      <td>285</td>\n",
       "    </tr>\n",
       "    <tr>\n",
       "      <th>40</th>\n",
       "      <td>58.823529</td>\n",
       "      <td>230</td>\n",
       "    </tr>\n",
       "    <tr>\n",
       "      <th>44</th>\n",
       "      <td>64.705882</td>\n",
       "      <td>79</td>\n",
       "    </tr>\n",
       "    <tr>\n",
       "      <th>26</th>\n",
       "      <td>38.235294</td>\n",
       "      <td>65</td>\n",
       "    </tr>\n",
       "    <tr>\n",
       "      <th>45</th>\n",
       "      <td>66.176471</td>\n",
       "      <td>50</td>\n",
       "    </tr>\n",
       "    <tr>\n",
       "      <th>41</th>\n",
       "      <td>60.294118</td>\n",
       "      <td>29</td>\n",
       "    </tr>\n",
       "    <tr>\n",
       "      <th>43</th>\n",
       "      <td>63.235294</td>\n",
       "      <td>29</td>\n",
       "    </tr>\n",
       "    <tr>\n",
       "      <th>42</th>\n",
       "      <td>61.764706</td>\n",
       "      <td>26</td>\n",
       "    </tr>\n",
       "    <tr>\n",
       "      <th>25</th>\n",
       "      <td>36.764706</td>\n",
       "      <td>24</td>\n",
       "    </tr>\n",
       "    <tr>\n",
       "      <th>24</th>\n",
       "      <td>35.294118</td>\n",
       "      <td>13</td>\n",
       "    </tr>\n",
       "    <tr>\n",
       "      <th>46</th>\n",
       "      <td>67.647059</td>\n",
       "      <td>5</td>\n",
       "    </tr>\n",
       "    <tr>\n",
       "      <th>47</th>\n",
       "      <td>69.117647</td>\n",
       "      <td>3</td>\n",
       "    </tr>\n",
       "    <tr>\n",
       "      <th>48</th>\n",
       "      <td>70.588235</td>\n",
       "      <td>3</td>\n",
       "    </tr>\n",
       "    <tr>\n",
       "      <th>23</th>\n",
       "      <td>33.823529</td>\n",
       "      <td>2</td>\n",
       "    </tr>\n",
       "  </tbody>\n",
       "</table>\n",
       "</div>"
      ],
      "text/plain": [
       "                           percent_missing  num_of_rows\n",
       "num_cols_missing_from_row                              \n",
       "33                               48.529412        14817\n",
       "34                               50.000000        13356\n",
       "32                               47.058824        12606\n",
       "31                               45.588235         9911\n",
       "36                               52.941176         5793\n",
       "29                               42.647059         5285\n",
       "35                               51.470588         5163\n",
       "37                               54.411765         3630\n",
       "30                               44.117647         3465\n",
       "38                               55.882353         1932\n",
       "28                               41.176471          457\n",
       "27                               39.705882          316\n",
       "39                               57.352941          285\n",
       "40                               58.823529          230\n",
       "44                               64.705882           79\n",
       "26                               38.235294           65\n",
       "45                               66.176471           50\n",
       "41                               60.294118           29\n",
       "43                               63.235294           29\n",
       "42                               61.764706           26\n",
       "25                               36.764706           24\n",
       "24                               35.294118           13\n",
       "46                               67.647059            5\n",
       "47                               69.117647            3\n",
       "48                               70.588235            3\n",
       "23                               33.823529            2"
      ]
     },
     "execution_count": 17,
     "metadata": {},
     "output_type": "execute_result"
    }
   ],
   "source": [
    "missing_rows = missing_values_row_wise(df)\n",
    "missing_rows"
   ]
  },
  {
   "cell_type": "markdown",
   "id": "bcafa01b",
   "metadata": {},
   "source": [
    "### Takeaways, missing values row-wise: let's drop everything above fifty percent...actually, first let's drop columns and repeat process."
   ]
  },
  {
   "cell_type": "markdown",
   "id": "31d42e86",
   "metadata": {},
   "source": [
    "## Prepare\n",
    "\n",
    "### 1. Remove any properties that are likely to be something other than single unit properties. (e.g. no duplexes, no land/lot, ...). There are multiple ways to estimate that a property is a single unit, and there is not a single \"right\" answer. But for this exercise, do not purely filter by unitcnt as we did previously. Add some new logic that will reduce the number of properties that are falsely removed. You might want to use # bedrooms, square feet, unit type or the like to then identify those with unitcnt not defined."
   ]
  },
  {
   "cell_type": "code",
   "execution_count": 18,
   "id": "5459b7ed",
   "metadata": {
    "scrolled": true
   },
   "outputs": [
    {
     "data": {
      "text/plain": [
       "1.0      47412\n",
       "2.0       2031\n",
       "4.0        726\n",
       "3.0        529\n",
       "42.0         1\n",
       "237.0        1\n",
       "45.0         1\n",
       "6.0          1\n",
       "Name: unitcnt, dtype: int64"
      ]
     },
     "execution_count": 18,
     "metadata": {},
     "output_type": "execute_result"
    }
   ],
   "source": [
    "df.unitcnt.value_counts()"
   ]
  },
  {
   "cell_type": "markdown",
   "id": "ef3d4e4a",
   "metadata": {},
   "source": [
    "Start by removing anything above 1.0 units"
   ]
  },
  {
   "cell_type": "code",
   "execution_count": 19,
   "id": "40c3e333",
   "metadata": {},
   "outputs": [
    {
     "data": {
      "text/plain": [
       "3.0     30435\n",
       "2.0     19222\n",
       "4.0     17549\n",
       "5.0      4550\n",
       "1.0      3391\n",
       "6.0      1000\n",
       "0.0       836\n",
       "8.0       253\n",
       "7.0       208\n",
       "9.0        70\n",
       "10.0       31\n",
       "12.0       16\n",
       "11.0        9\n",
       "13.0        2\n",
       "14.0        1\n",
       "16.0        1\n",
       "Name: bedroomcnt, dtype: int64"
      ]
     },
     "execution_count": 19,
     "metadata": {},
     "output_type": "execute_result"
    }
   ],
   "source": [
    "df.bedroomcnt.value_counts()"
   ]
  },
  {
   "cell_type": "code",
   "execution_count": 20,
   "id": "e5d4edf6",
   "metadata": {},
   "outputs": [
    {
     "data": {
      "text/plain": [
       "<AxesSubplot:>"
      ]
     },
     "execution_count": 20,
     "metadata": {},
     "output_type": "execute_result"
    },
    {
     "data": {
      "image/png": "[encoded data removed]",
      "text/plain": [
       "<Figure size 432x288 with 1 Axes>"
      ]
     },
     "metadata": {
      "needs_background": "light"
     },
     "output_type": "display_data"
    }
   ],
   "source": [
    "df.calculatedfinishedsquarefeet.hist()"
   ]
  },
  {
   "cell_type": "code",
   "execution_count": 21,
   "id": "da1e1b3f",
   "metadata": {},
   "outputs": [
    {
     "data": {
      "text/plain": [
       "1.0      47412\n",
       "NaN      26872\n",
       "2.0       2031\n",
       "4.0        726\n",
       "3.0        529\n",
       "42.0         1\n",
       "237.0        1\n",
       "45.0         1\n",
       "6.0          1\n",
       "Name: unitcnt, dtype: int64"
      ]
     },
     "execution_count": 21,
     "metadata": {},
     "output_type": "execute_result"
    }
   ],
   "source": [
    "# look at value counts for 'unitcnt'\n",
    "\n",
    "df.unitcnt.value_counts(dropna = False)"
   ]
  },
  {
   "cell_type": "code",
   "execution_count": 22,
   "id": "642fc671",
   "metadata": {
    "scrolled": true
   },
   "outputs": [],
   "source": [
    "# (df.calculatedfinishedsquarefeet/df.bedroomcnt).hist()"
   ]
  },
  {
   "cell_type": "code",
   "execution_count": 23,
   "id": "5d982513",
   "metadata": {},
   "outputs": [
    {
     "data": {
      "text/plain": [
       "(71355, 68)"
      ]
     },
     "execution_count": 23,
     "metadata": {},
     "output_type": "execute_result"
    }
   ],
   "source": [
    "# Restrict df to only properties that meet single unit criteria\n",
    "\n",
    "single_use = [261, 262, 263, 264, 266, 268, 273, 276, 279]\n",
    "df = df[df.propertylandusetypeid.isin(single_use)]\n",
    "    \n",
    "    \n",
    "# Restrict df to only those properties with at least 1 bath & bed and >350 sqft area\n",
    "df = df[(df.bedroomcnt > 0) & (df.bathroomcnt > 0) & ((df.unitcnt<=1)|df.unitcnt.isnull()) & (df.calculatedfinishedsquarefeet>350)]\n",
    "\n",
    "df.shape"
   ]
  },
  {
   "cell_type": "code",
   "execution_count": 24,
   "id": "64b814dd",
   "metadata": {},
   "outputs": [],
   "source": [
    "def handle_missing_values(df, prop_required_row, prop_required_col):\n",
    "    ''' function which takes in a dataframe, proportion of non-null rows and columns\n",
    "    (respectively) required to prevent the columns and rows being dropped:'''\n",
    "    \n",
    "    #drop columns with nulls\n",
    "    threshold = int(prop_required_col * len(df.index)) # Require that many non-NA values.\n",
    "    df.dropna(axis = 1, thresh = threshold, inplace = True)\n",
    "    \n",
    "    #drop rows with nulls\n",
    "    threshold = int(prop_required_row * len(df.columns)) # Require that many non-NA values.\n",
    "    df.dropna(axis = 0, thresh = threshold, inplace = True)\n",
    "    \n",
    "    \n",
    "    return df"
   ]
  },
  {
   "cell_type": "code",
   "execution_count": 25,
   "id": "6624d3d0",
   "metadata": {},
   "outputs": [],
   "source": [
    "df = handle_missing_values(df, .7, .5)"
   ]
  },
  {
   "cell_type": "code",
   "execution_count": 26,
   "id": "f60682ad",
   "metadata": {},
   "outputs": [
    {
     "data": {
      "text/plain": [
       "(71355, 34)"
      ]
     },
     "execution_count": 26,
     "metadata": {},
     "output_type": "execute_result"
    }
   ],
   "source": [
    "df.shape"
   ]
  },
  {
   "cell_type": "code",
   "execution_count": 27,
   "id": "1b0c36b9",
   "metadata": {},
   "outputs": [
    {
     "name": "stdout",
     "output_type": "stream",
     "text": [
      "<class 'pandas.core.frame.DataFrame'>\n",
      "Int64Index: 71355 entries, 0 to 77573\n",
      "Data columns (total 34 columns):\n",
      " #   Column                        Non-Null Count  Dtype  \n",
      "---  ------                        --------------  -----  \n",
      " 0   id                            71355 non-null  int64  \n",
      " 1   parcelid                      71355 non-null  int64  \n",
      " 2   bathroomcnt                   71355 non-null  float64\n",
      " 3   bedroomcnt                    71355 non-null  float64\n",
      " 4   buildingqualitytypeid         44841 non-null  float64\n",
      " 5   calculatedbathnbr             71340 non-null  float64\n",
      " 6   calculatedfinishedsquarefeet  71355 non-null  float64\n",
      " 7   finishedsquarefeet12          71188 non-null  float64\n",
      " 8   fips                          71355 non-null  float64\n",
      " 9   fullbathcnt                   71340 non-null  float64\n",
      " 10  heatingorsystemtypeid         46412 non-null  float64\n",
      " 11  latitude                      71355 non-null  float64\n",
      " 12  longitude                     71355 non-null  float64\n",
      " 13  lotsizesquarefeet             63321 non-null  float64\n",
      " 14  propertycountylandusecode     71355 non-null  object \n",
      " 15  propertylandusetypeid         71355 non-null  float64\n",
      " 16  propertyzoningdesc            45134 non-null  object \n",
      " 17  rawcensustractandblock        71355 non-null  float64\n",
      " 18  regionidcity                  70033 non-null  float64\n",
      " 19  regionidcounty                71355 non-null  float64\n",
      " 20  regionidzip                   71315 non-null  float64\n",
      " 21  roomcnt                       71355 non-null  float64\n",
      " 22  unitcnt                       45160 non-null  float64\n",
      " 23  yearbuilt                     71320 non-null  float64\n",
      " 24  structuretaxvaluedollarcnt    71280 non-null  float64\n",
      " 25  taxvaluedollarcnt             71354 non-null  float64\n",
      " 26  assessmentyear                71355 non-null  float64\n",
      " 27  landtaxvaluedollarcnt         71354 non-null  float64\n",
      " 28  taxamount                     71350 non-null  float64\n",
      " 29  censustractandblock           71147 non-null  float64\n",
      " 30  logerror                      71355 non-null  float64\n",
      " 31  transactiondate               71355 non-null  object \n",
      " 32  heatingorsystemdesc           46412 non-null  object \n",
      " 33  propertylandusedesc           71355 non-null  object \n",
      "dtypes: float64(27), int64(2), object(5)\n",
      "memory usage: 19.1+ MB\n"
     ]
    }
   ],
   "source": [
    "df.info()"
   ]
  },
  {
   "cell_type": "code",
   "execution_count": 28,
   "id": "f27962b3",
   "metadata": {},
   "outputs": [
    {
     "data": {
      "text/plain": [
       "Central       31357\n",
       "NaN           24943\n",
       "Floor/Wall    13229\n",
       "Yes             850\n",
       "Forced air      775\n",
       "Solar           101\n",
       "None             60\n",
       "Radiant          23\n",
       "Baseboard        13\n",
       "Gravity           3\n",
       "Heat Pump         1\n",
       "Name: heatingorsystemdesc, dtype: int64"
      ]
     },
     "execution_count": 28,
     "metadata": {},
     "output_type": "execute_result"
    }
   ],
   "source": [
    "df.heatingorsystemdesc.value_counts(dropna=False)"
   ]
  },
  {
   "cell_type": "code",
   "execution_count": 29,
   "id": "0ddf53e6",
   "metadata": {},
   "outputs": [],
   "source": [
    "# use your judgement to remove certain columns which you don't need\n",
    "\n",
    "cols_to_remove = ['id',\n",
    "       'calculatedbathnbr', 'finishedsquarefeet12', 'heatingorsystemtypeid'\n",
    "       ,'propertycountylandusecode', 'propertylandusetypeid','propertyzoningdesc'\n",
    "       ,'regionidcounty', \n",
    "        'censustractandblock', 'propertylandusedesc', 'unitcnt']"
   ]
  },
  {
   "cell_type": "code",
   "execution_count": 30,
   "id": "d14bacd6",
   "metadata": {},
   "outputs": [],
   "source": [
    "def remove_columns(df, cols_to_remove):  \n",
    "    df = df.drop(columns=cols_to_remove)\n",
    "    return df"
   ]
  },
  {
   "cell_type": "code",
   "execution_count": 31,
   "id": "e534cb77",
   "metadata": {},
   "outputs": [
    {
     "data": {
      "text/plain": [
       "(71355, 23)"
      ]
     },
     "execution_count": 31,
     "metadata": {},
     "output_type": "execute_result"
    }
   ],
   "source": [
    "df = remove_columns(df,cols_to_remove)\n",
    "df.shape"
   ]
  },
  {
   "cell_type": "code",
   "execution_count": 32,
   "id": "0a760ab2",
   "metadata": {},
   "outputs": [
    {
     "data": {
      "text/plain": [
       "parcelid                            0\n",
       "bathroomcnt                         0\n",
       "bedroomcnt                          0\n",
       "buildingqualitytypeid           26514\n",
       "calculatedfinishedsquarefeet        0\n",
       "fips                                0\n",
       "fullbathcnt                        15\n",
       "latitude                            0\n",
       "longitude                           0\n",
       "lotsizesquarefeet                8034\n",
       "rawcensustractandblock              0\n",
       "regionidcity                     1322\n",
       "regionidzip                        40\n",
       "roomcnt                             0\n",
       "yearbuilt                          35\n",
       "structuretaxvaluedollarcnt         75\n",
       "taxvaluedollarcnt                   1\n",
       "assessmentyear                      0\n",
       "landtaxvaluedollarcnt               1\n",
       "taxamount                           5\n",
       "logerror                            0\n",
       "transactiondate                     0\n",
       "heatingorsystemdesc             24943\n",
       "dtype: int64"
      ]
     },
     "execution_count": 32,
     "metadata": {},
     "output_type": "execute_result"
    }
   ],
   "source": [
    "df.isnull().sum()"
   ]
  },
  {
   "cell_type": "code",
   "execution_count": 33,
   "id": "0569b9e7",
   "metadata": {},
   "outputs": [
    {
     "data": {
      "text/plain": [
       "Central       31357\n",
       "NaN           24943\n",
       "Floor/Wall    13229\n",
       "Yes             850\n",
       "Forced air      775\n",
       "Solar           101\n",
       "None             60\n",
       "Radiant          23\n",
       "Baseboard        13\n",
       "Gravity           3\n",
       "Heat Pump         1\n",
       "Name: heatingorsystemdesc, dtype: int64"
      ]
     },
     "execution_count": 33,
     "metadata": {},
     "output_type": "execute_result"
    }
   ],
   "source": [
    "df.heatingorsystemdesc.value_counts(dropna = False)"
   ]
  },
  {
   "cell_type": "code",
   "execution_count": 34,
   "id": "06027c1b",
   "metadata": {},
   "outputs": [],
   "source": [
    "# not sure i agree that there are so many homes lacking heat in southern CA\n",
    "# but i do agree the attribute should be dropped\n",
    "\n",
    "df.drop(columns = 'heatingorsystemdesc', inplace = True)"
   ]
  },
  {
   "cell_type": "code",
   "execution_count": 35,
   "id": "3a9655d5",
   "metadata": {},
   "outputs": [
    {
     "data": {
      "text/plain": [
       "parcelid                            0\n",
       "bathroomcnt                         0\n",
       "bedroomcnt                          0\n",
       "buildingqualitytypeid           26514\n",
       "calculatedfinishedsquarefeet        0\n",
       "fips                                0\n",
       "fullbathcnt                        15\n",
       "latitude                            0\n",
       "longitude                           0\n",
       "lotsizesquarefeet                8034\n",
       "rawcensustractandblock              0\n",
       "regionidcity                     1322\n",
       "regionidzip                        40\n",
       "roomcnt                             0\n",
       "yearbuilt                          35\n",
       "structuretaxvaluedollarcnt         75\n",
       "taxvaluedollarcnt                   1\n",
       "assessmentyear                      0\n",
       "landtaxvaluedollarcnt               1\n",
       "taxamount                           5\n",
       "logerror                            0\n",
       "transactiondate                     0\n",
       "dtype: int64"
      ]
     },
     "execution_count": 35,
     "metadata": {},
     "output_type": "execute_result"
    }
   ],
   "source": [
    "df.isnull().sum()"
   ]
  },
  {
   "cell_type": "code",
   "execution_count": 36,
   "id": "14986ebd",
   "metadata": {},
   "outputs": [
    {
     "data": {
      "text/plain": [
       "NaN     26514\n",
       "8.0     13404\n",
       "6.0     12673\n",
       "4.0      8226\n",
       "7.0      5505\n",
       "9.0      2113\n",
       "5.0      1499\n",
       "11.0      846\n",
       "10.0      301\n",
       "3.0       149\n",
       "12.0      113\n",
       "1.0         9\n",
       "2.0         3\n",
       "Name: buildingqualitytypeid, dtype: int64"
      ]
     },
     "execution_count": 36,
     "metadata": {},
     "output_type": "execute_result"
    }
   ],
   "source": [
    "# buildingqualitytypeid\n",
    "# Overall assessment of condition of the building from \n",
    "# low number = best quality\n",
    "# higher numbers = worse quality\n",
    "\n",
    "df.buildingqualitytypeid.value_counts(dropna = False)"
   ]
  },
  {
   "cell_type": "code",
   "execution_count": 37,
   "id": "707d85a6",
   "metadata": {},
   "outputs": [
    {
     "data": {
      "text/html": [
       "<div>\n",
       "<style scoped>\n",
       "    .dataframe tbody tr th:only-of-type {\n",
       "        vertical-align: middle;\n",
       "    }\n",
       "\n",
       "    .dataframe tbody tr th {\n",
       "        vertical-align: top;\n",
       "    }\n",
       "\n",
       "    .dataframe thead th {\n",
       "        text-align: right;\n",
       "    }\n",
       "</style>\n",
       "<table border=\"1\" class=\"dataframe\">\n",
       "  <thead>\n",
       "    <tr style=\"text-align: right;\">\n",
       "      <th></th>\n",
       "      <th>number_missing</th>\n",
       "      <th>percent_missing</th>\n",
       "    </tr>\n",
       "  </thead>\n",
       "  <tbody>\n",
       "    <tr>\n",
       "      <th>parcelid</th>\n",
       "      <td>0</td>\n",
       "      <td>0.000000</td>\n",
       "    </tr>\n",
       "    <tr>\n",
       "      <th>bathroomcnt</th>\n",
       "      <td>0</td>\n",
       "      <td>0.000000</td>\n",
       "    </tr>\n",
       "    <tr>\n",
       "      <th>bedroomcnt</th>\n",
       "      <td>0</td>\n",
       "      <td>0.000000</td>\n",
       "    </tr>\n",
       "    <tr>\n",
       "      <th>buildingqualitytypeid</th>\n",
       "      <td>26514</td>\n",
       "      <td>37.157873</td>\n",
       "    </tr>\n",
       "    <tr>\n",
       "      <th>calculatedfinishedsquarefeet</th>\n",
       "      <td>0</td>\n",
       "      <td>0.000000</td>\n",
       "    </tr>\n",
       "    <tr>\n",
       "      <th>fips</th>\n",
       "      <td>0</td>\n",
       "      <td>0.000000</td>\n",
       "    </tr>\n",
       "    <tr>\n",
       "      <th>fullbathcnt</th>\n",
       "      <td>15</td>\n",
       "      <td>0.021022</td>\n",
       "    </tr>\n",
       "    <tr>\n",
       "      <th>latitude</th>\n",
       "      <td>0</td>\n",
       "      <td>0.000000</td>\n",
       "    </tr>\n",
       "    <tr>\n",
       "      <th>longitude</th>\n",
       "      <td>0</td>\n",
       "      <td>0.000000</td>\n",
       "    </tr>\n",
       "    <tr>\n",
       "      <th>lotsizesquarefeet</th>\n",
       "      <td>8034</td>\n",
       "      <td>11.259197</td>\n",
       "    </tr>\n",
       "    <tr>\n",
       "      <th>rawcensustractandblock</th>\n",
       "      <td>0</td>\n",
       "      <td>0.000000</td>\n",
       "    </tr>\n",
       "    <tr>\n",
       "      <th>regionidcity</th>\n",
       "      <td>1322</td>\n",
       "      <td>1.852708</td>\n",
       "    </tr>\n",
       "    <tr>\n",
       "      <th>regionidzip</th>\n",
       "      <td>40</td>\n",
       "      <td>0.056058</td>\n",
       "    </tr>\n",
       "    <tr>\n",
       "      <th>roomcnt</th>\n",
       "      <td>0</td>\n",
       "      <td>0.000000</td>\n",
       "    </tr>\n",
       "    <tr>\n",
       "      <th>yearbuilt</th>\n",
       "      <td>35</td>\n",
       "      <td>0.049051</td>\n",
       "    </tr>\n",
       "    <tr>\n",
       "      <th>structuretaxvaluedollarcnt</th>\n",
       "      <td>75</td>\n",
       "      <td>0.105108</td>\n",
       "    </tr>\n",
       "    <tr>\n",
       "      <th>taxvaluedollarcnt</th>\n",
       "      <td>1</td>\n",
       "      <td>0.001401</td>\n",
       "    </tr>\n",
       "    <tr>\n",
       "      <th>assessmentyear</th>\n",
       "      <td>0</td>\n",
       "      <td>0.000000</td>\n",
       "    </tr>\n",
       "    <tr>\n",
       "      <th>landtaxvaluedollarcnt</th>\n",
       "      <td>1</td>\n",
       "      <td>0.001401</td>\n",
       "    </tr>\n",
       "    <tr>\n",
       "      <th>taxamount</th>\n",
       "      <td>5</td>\n",
       "      <td>0.007007</td>\n",
       "    </tr>\n",
       "    <tr>\n",
       "      <th>logerror</th>\n",
       "      <td>0</td>\n",
       "      <td>0.000000</td>\n",
       "    </tr>\n",
       "    <tr>\n",
       "      <th>transactiondate</th>\n",
       "      <td>0</td>\n",
       "      <td>0.000000</td>\n",
       "    </tr>\n",
       "  </tbody>\n",
       "</table>\n",
       "</div>"
      ],
      "text/plain": [
       "                              number_missing  percent_missing\n",
       "parcelid                                   0         0.000000\n",
       "bathroomcnt                                0         0.000000\n",
       "bedroomcnt                                 0         0.000000\n",
       "buildingqualitytypeid                  26514        37.157873\n",
       "calculatedfinishedsquarefeet               0         0.000000\n",
       "fips                                       0         0.000000\n",
       "fullbathcnt                               15         0.021022\n",
       "latitude                                   0         0.000000\n",
       "longitude                                  0         0.000000\n",
       "lotsizesquarefeet                       8034        11.259197\n",
       "rawcensustractandblock                     0         0.000000\n",
       "regionidcity                            1322         1.852708\n",
       "regionidzip                               40         0.056058\n",
       "roomcnt                                    0         0.000000\n",
       "yearbuilt                                 35         0.049051\n",
       "structuretaxvaluedollarcnt                75         0.105108\n",
       "taxvaluedollarcnt                          1         0.001401\n",
       "assessmentyear                             0         0.000000\n",
       "landtaxvaluedollarcnt                      1         0.001401\n",
       "taxamount                                  5         0.007007\n",
       "logerror                                   0         0.000000\n",
       "transactiondate                            0         0.000000"
      ]
     },
     "execution_count": 37,
     "metadata": {},
     "output_type": "execute_result"
    }
   ],
   "source": [
    "missing_values_col_wise(df)"
   ]
  },
  {
   "cell_type": "code",
   "execution_count": 38,
   "id": "e3b9fa58",
   "metadata": {},
   "outputs": [
    {
     "data": {
      "text/plain": [
       "6.0"
      ]
     },
     "execution_count": 38,
     "metadata": {},
     "output_type": "execute_result"
    }
   ],
   "source": [
    "# what is the median value of buildingqualitytypeid?\n",
    "\n",
    "df.buildingqualitytypeid.median()"
   ]
  },
  {
   "cell_type": "code",
   "execution_count": 39,
   "id": "0e2c5f8a",
   "metadata": {},
   "outputs": [],
   "source": [
    "# should I fill missing values for buildingqualitytypeid with median value?\n",
    "df.buildingqualitytypeid.fillna(6.0, inplace = True)"
   ]
  },
  {
   "cell_type": "code",
   "execution_count": 40,
   "id": "f8abf5f2",
   "metadata": {},
   "outputs": [
    {
     "data": {
      "text/plain": [
       "parcelid                           0\n",
       "bathroomcnt                        0\n",
       "bedroomcnt                         0\n",
       "buildingqualitytypeid              0\n",
       "calculatedfinishedsquarefeet       0\n",
       "fips                               0\n",
       "fullbathcnt                       15\n",
       "latitude                           0\n",
       "longitude                          0\n",
       "lotsizesquarefeet               8034\n",
       "rawcensustractandblock             0\n",
       "regionidcity                    1322\n",
       "regionidzip                       40\n",
       "roomcnt                            0\n",
       "yearbuilt                         35\n",
       "structuretaxvaluedollarcnt        75\n",
       "taxvaluedollarcnt                  1\n",
       "assessmentyear                     0\n",
       "landtaxvaluedollarcnt              1\n",
       "taxamount                          5\n",
       "logerror                           0\n",
       "transactiondate                    0\n",
       "dtype: int64"
      ]
     },
     "execution_count": 40,
     "metadata": {},
     "output_type": "execute_result"
    }
   ],
   "source": [
    "df.isnull().sum()"
   ]
  },
  {
   "cell_type": "code",
   "execution_count": 41,
   "id": "3fabd17b",
   "metadata": {
    "scrolled": true
   },
   "outputs": [
    {
     "data": {
      "text/plain": [
       "<AxesSubplot:>"
      ]
     },
     "execution_count": 41,
     "metadata": {},
     "output_type": "execute_result"
    },
    {
     "data": {
      "image/png": "[encoded data removed]",
      "text/plain": [
       "<Figure size 432x288 with 1 Axes>"
      ]
     },
     "metadata": {
      "needs_background": "light"
     },
     "output_type": "display_data"
    }
   ],
   "source": [
    "# look at lot-size distribution\n",
    "df.lotsizesquarefeet.hist(bins = 100)"
   ]
  },
  {
   "cell_type": "markdown",
   "id": "0d7cafe0",
   "metadata": {},
   "source": [
    "A few massive lots skewing the distribution"
   ]
  },
  {
   "cell_type": "code",
   "execution_count": 42,
   "id": "f6208ff1",
   "metadata": {},
   "outputs": [
    {
     "data": {
      "text/plain": [
       "7313.0"
      ]
     },
     "execution_count": 42,
     "metadata": {},
     "output_type": "execute_result"
    }
   ],
   "source": [
    "# median lot size?\n",
    "df.lotsizesquarefeet.median()"
   ]
  },
  {
   "cell_type": "code",
   "execution_count": 43,
   "id": "290742d3",
   "metadata": {},
   "outputs": [],
   "source": [
    "df.lotsizesquarefeet.fillna(7313,inplace=True)"
   ]
  },
  {
   "cell_type": "code",
   "execution_count": 44,
   "id": "8eadc51a",
   "metadata": {},
   "outputs": [
    {
     "data": {
      "text/plain": [
       "parcelid                           0\n",
       "bathroomcnt                        0\n",
       "bedroomcnt                         0\n",
       "buildingqualitytypeid              0\n",
       "calculatedfinishedsquarefeet       0\n",
       "fips                               0\n",
       "fullbathcnt                       15\n",
       "latitude                           0\n",
       "longitude                          0\n",
       "lotsizesquarefeet                  0\n",
       "rawcensustractandblock             0\n",
       "regionidcity                    1322\n",
       "regionidzip                       40\n",
       "roomcnt                            0\n",
       "yearbuilt                         35\n",
       "structuretaxvaluedollarcnt        75\n",
       "taxvaluedollarcnt                  1\n",
       "assessmentyear                     0\n",
       "landtaxvaluedollarcnt              1\n",
       "taxamount                          5\n",
       "logerror                           0\n",
       "transactiondate                    0\n",
       "dtype: int64"
      ]
     },
     "execution_count": 44,
     "metadata": {},
     "output_type": "execute_result"
    }
   ],
   "source": [
    "df.isnull().sum()"
   ]
  },
  {
   "cell_type": "code",
   "execution_count": 45,
   "id": "5114b5db",
   "metadata": {},
   "outputs": [],
   "source": [
    "# I am going to drop the rest of nulls \n",
    "\n",
    "df.dropna(inplace = True)"
   ]
  },
  {
   "cell_type": "code",
   "execution_count": 46,
   "id": "82e6b502",
   "metadata": {},
   "outputs": [
    {
     "data": {
      "text/plain": [
       "(69904, 22)"
      ]
     },
     "execution_count": 46,
     "metadata": {},
     "output_type": "execute_result"
    }
   ],
   "source": [
    "df.shape"
   ]
  },
  {
   "cell_type": "code",
   "execution_count": 47,
   "id": "1072d23e",
   "metadata": {},
   "outputs": [
    {
     "data": {
      "text/html": [
       "<div>\n",
       "<style scoped>\n",
       "    .dataframe tbody tr th:only-of-type {\n",
       "        vertical-align: middle;\n",
       "    }\n",
       "\n",
       "    .dataframe tbody tr th {\n",
       "        vertical-align: top;\n",
       "    }\n",
       "\n",
       "    .dataframe thead th {\n",
       "        text-align: right;\n",
       "    }\n",
       "</style>\n",
       "<table border=\"1\" class=\"dataframe\">\n",
       "  <thead>\n",
       "    <tr style=\"text-align: right;\">\n",
       "      <th></th>\n",
       "      <th>0</th>\n",
       "      <th>1</th>\n",
       "      <th>2</th>\n",
       "      <th>3</th>\n",
       "      <th>4</th>\n",
       "    </tr>\n",
       "  </thead>\n",
       "  <tbody>\n",
       "    <tr>\n",
       "      <th>parcelid</th>\n",
       "      <td>14297519</td>\n",
       "      <td>17052889</td>\n",
       "      <td>14186244</td>\n",
       "      <td>12177905</td>\n",
       "      <td>10887214</td>\n",
       "    </tr>\n",
       "    <tr>\n",
       "      <th>bathroomcnt</th>\n",
       "      <td>3.5</td>\n",
       "      <td>1.0</td>\n",
       "      <td>2.0</td>\n",
       "      <td>3.0</td>\n",
       "      <td>3.0</td>\n",
       "    </tr>\n",
       "    <tr>\n",
       "      <th>bedroomcnt</th>\n",
       "      <td>4.0</td>\n",
       "      <td>2.0</td>\n",
       "      <td>3.0</td>\n",
       "      <td>4.0</td>\n",
       "      <td>3.0</td>\n",
       "    </tr>\n",
       "    <tr>\n",
       "      <th>buildingqualitytypeid</th>\n",
       "      <td>6.0</td>\n",
       "      <td>6.0</td>\n",
       "      <td>6.0</td>\n",
       "      <td>8.0</td>\n",
       "      <td>8.0</td>\n",
       "    </tr>\n",
       "    <tr>\n",
       "      <th>calculatedfinishedsquarefeet</th>\n",
       "      <td>3100.0</td>\n",
       "      <td>1465.0</td>\n",
       "      <td>1243.0</td>\n",
       "      <td>2376.0</td>\n",
       "      <td>1312.0</td>\n",
       "    </tr>\n",
       "    <tr>\n",
       "      <th>fips</th>\n",
       "      <td>6059.0</td>\n",
       "      <td>6111.0</td>\n",
       "      <td>6059.0</td>\n",
       "      <td>6037.0</td>\n",
       "      <td>6037.0</td>\n",
       "    </tr>\n",
       "    <tr>\n",
       "      <th>fullbathcnt</th>\n",
       "      <td>3.0</td>\n",
       "      <td>1.0</td>\n",
       "      <td>2.0</td>\n",
       "      <td>3.0</td>\n",
       "      <td>3.0</td>\n",
       "    </tr>\n",
       "    <tr>\n",
       "      <th>latitude</th>\n",
       "      <td>33634931.0</td>\n",
       "      <td>34449266.0</td>\n",
       "      <td>33886168.0</td>\n",
       "      <td>34245180.0</td>\n",
       "      <td>34185120.0</td>\n",
       "    </tr>\n",
       "    <tr>\n",
       "      <th>longitude</th>\n",
       "      <td>-117869207.0</td>\n",
       "      <td>-119281531.0</td>\n",
       "      <td>-117823170.0</td>\n",
       "      <td>-118240722.0</td>\n",
       "      <td>-118414640.0</td>\n",
       "    </tr>\n",
       "    <tr>\n",
       "      <th>lotsizesquarefeet</th>\n",
       "      <td>4506.0</td>\n",
       "      <td>12647.0</td>\n",
       "      <td>8432.0</td>\n",
       "      <td>13038.0</td>\n",
       "      <td>278581.0</td>\n",
       "    </tr>\n",
       "    <tr>\n",
       "      <th>rawcensustractandblock</th>\n",
       "      <td>60590630.072012</td>\n",
       "      <td>61110010.023006</td>\n",
       "      <td>60590218.022012</td>\n",
       "      <td>60373001.001006</td>\n",
       "      <td>60371236.012</td>\n",
       "    </tr>\n",
       "    <tr>\n",
       "      <th>regionidcity</th>\n",
       "      <td>53571.0</td>\n",
       "      <td>13091.0</td>\n",
       "      <td>21412.0</td>\n",
       "      <td>396551.0</td>\n",
       "      <td>12447.0</td>\n",
       "    </tr>\n",
       "    <tr>\n",
       "      <th>regionidzip</th>\n",
       "      <td>96978.0</td>\n",
       "      <td>97099.0</td>\n",
       "      <td>97078.0</td>\n",
       "      <td>96330.0</td>\n",
       "      <td>96451.0</td>\n",
       "    </tr>\n",
       "    <tr>\n",
       "      <th>roomcnt</th>\n",
       "      <td>0.0</td>\n",
       "      <td>5.0</td>\n",
       "      <td>6.0</td>\n",
       "      <td>0.0</td>\n",
       "      <td>0.0</td>\n",
       "    </tr>\n",
       "    <tr>\n",
       "      <th>yearbuilt</th>\n",
       "      <td>1998.0</td>\n",
       "      <td>1967.0</td>\n",
       "      <td>1962.0</td>\n",
       "      <td>1970.0</td>\n",
       "      <td>1964.0</td>\n",
       "    </tr>\n",
       "    <tr>\n",
       "      <th>structuretaxvaluedollarcnt</th>\n",
       "      <td>485713.0</td>\n",
       "      <td>88000.0</td>\n",
       "      <td>85289.0</td>\n",
       "      <td>108918.0</td>\n",
       "      <td>73681.0</td>\n",
       "    </tr>\n",
       "    <tr>\n",
       "      <th>taxvaluedollarcnt</th>\n",
       "      <td>1023282.0</td>\n",
       "      <td>464000.0</td>\n",
       "      <td>564778.0</td>\n",
       "      <td>145143.0</td>\n",
       "      <td>119407.0</td>\n",
       "    </tr>\n",
       "    <tr>\n",
       "      <th>assessmentyear</th>\n",
       "      <td>2016.0</td>\n",
       "      <td>2016.0</td>\n",
       "      <td>2016.0</td>\n",
       "      <td>2016.0</td>\n",
       "      <td>2016.0</td>\n",
       "    </tr>\n",
       "    <tr>\n",
       "      <th>landtaxvaluedollarcnt</th>\n",
       "      <td>537569.0</td>\n",
       "      <td>376000.0</td>\n",
       "      <td>479489.0</td>\n",
       "      <td>36225.0</td>\n",
       "      <td>45726.0</td>\n",
       "    </tr>\n",
       "    <tr>\n",
       "      <th>taxamount</th>\n",
       "      <td>11013.72</td>\n",
       "      <td>5672.48</td>\n",
       "      <td>6488.3</td>\n",
       "      <td>1777.51</td>\n",
       "      <td>1533.89</td>\n",
       "    </tr>\n",
       "    <tr>\n",
       "      <th>logerror</th>\n",
       "      <td>0.025595</td>\n",
       "      <td>0.055619</td>\n",
       "      <td>0.005383</td>\n",
       "      <td>-0.10341</td>\n",
       "      <td>0.00694</td>\n",
       "    </tr>\n",
       "    <tr>\n",
       "      <th>transactiondate</th>\n",
       "      <td>2017-01-01</td>\n",
       "      <td>2017-01-01</td>\n",
       "      <td>2017-01-01</td>\n",
       "      <td>2017-01-01</td>\n",
       "      <td>2017-01-01</td>\n",
       "    </tr>\n",
       "  </tbody>\n",
       "</table>\n",
       "</div>"
      ],
      "text/plain": [
       "                                            0                1  \\\n",
       "parcelid                             14297519         17052889   \n",
       "bathroomcnt                               3.5              1.0   \n",
       "bedroomcnt                                4.0              2.0   \n",
       "buildingqualitytypeid                     6.0              6.0   \n",
       "calculatedfinishedsquarefeet           3100.0           1465.0   \n",
       "fips                                   6059.0           6111.0   \n",
       "fullbathcnt                               3.0              1.0   \n",
       "latitude                           33634931.0       34449266.0   \n",
       "longitude                        -117869207.0     -119281531.0   \n",
       "lotsizesquarefeet                      4506.0          12647.0   \n",
       "rawcensustractandblock        60590630.072012  61110010.023006   \n",
       "regionidcity                          53571.0          13091.0   \n",
       "regionidzip                           96978.0          97099.0   \n",
       "roomcnt                                   0.0              5.0   \n",
       "yearbuilt                              1998.0           1967.0   \n",
       "structuretaxvaluedollarcnt           485713.0          88000.0   \n",
       "taxvaluedollarcnt                   1023282.0         464000.0   \n",
       "assessmentyear                         2016.0           2016.0   \n",
       "landtaxvaluedollarcnt                537569.0         376000.0   \n",
       "taxamount                            11013.72          5672.48   \n",
       "logerror                             0.025595         0.055619   \n",
       "transactiondate                    2017-01-01       2017-01-01   \n",
       "\n",
       "                                            2                3             4  \n",
       "parcelid                             14186244         12177905      10887214  \n",
       "bathroomcnt                               2.0              3.0           3.0  \n",
       "bedroomcnt                                3.0              4.0           3.0  \n",
       "buildingqualitytypeid                     6.0              8.0           8.0  \n",
       "calculatedfinishedsquarefeet           1243.0           2376.0        1312.0  \n",
       "fips                                   6059.0           6037.0        6037.0  \n",
       "fullbathcnt                               2.0              3.0           3.0  \n",
       "latitude                           33886168.0       34245180.0    34185120.0  \n",
       "longitude                        -117823170.0     -118240722.0  -118414640.0  \n",
       "lotsizesquarefeet                      8432.0          13038.0      278581.0  \n",
       "rawcensustractandblock        60590218.022012  60373001.001006  60371236.012  \n",
       "regionidcity                          21412.0         396551.0       12447.0  \n",
       "regionidzip                           97078.0          96330.0       96451.0  \n",
       "roomcnt                                   6.0              0.0           0.0  \n",
       "yearbuilt                              1962.0           1970.0        1964.0  \n",
       "structuretaxvaluedollarcnt            85289.0         108918.0       73681.0  \n",
       "taxvaluedollarcnt                    564778.0         145143.0      119407.0  \n",
       "assessmentyear                         2016.0           2016.0        2016.0  \n",
       "landtaxvaluedollarcnt                479489.0          36225.0       45726.0  \n",
       "taxamount                              6488.3          1777.51       1533.89  \n",
       "logerror                             0.005383         -0.10341       0.00694  \n",
       "transactiondate                    2017-01-01       2017-01-01    2017-01-01  "
      ]
     },
     "execution_count": 47,
     "metadata": {},
     "output_type": "execute_result"
    }
   ],
   "source": [
    "df.head(5).T"
   ]
  },
  {
   "cell_type": "code",
   "execution_count": 48,
   "id": "e312d34e",
   "metadata": {},
   "outputs": [
    {
     "data": {
      "text/plain": [
       "parcelid                        0\n",
       "bathroomcnt                     0\n",
       "bedroomcnt                      0\n",
       "buildingqualitytypeid           0\n",
       "calculatedfinishedsquarefeet    0\n",
       "fips                            0\n",
       "fullbathcnt                     0\n",
       "latitude                        0\n",
       "longitude                       0\n",
       "lotsizesquarefeet               0\n",
       "rawcensustractandblock          0\n",
       "regionidcity                    0\n",
       "regionidzip                     0\n",
       "roomcnt                         0\n",
       "yearbuilt                       0\n",
       "structuretaxvaluedollarcnt      0\n",
       "taxvaluedollarcnt               0\n",
       "assessmentyear                  0\n",
       "landtaxvaluedollarcnt           0\n",
       "taxamount                       0\n",
       "logerror                        0\n",
       "transactiondate                 0\n",
       "dtype: int64"
      ]
     },
     "execution_count": 48,
     "metadata": {},
     "output_type": "execute_result"
    }
   ],
   "source": [
    "df.isnull().sum()"
   ]
  },
  {
   "cell_type": "code",
   "execution_count": 49,
   "id": "fa630a32",
   "metadata": {},
   "outputs": [
    {
     "data": {
      "image/png": "[encoded data removed]",
      "text/plain": [
       "<Figure size 1728x720 with 25 Axes>"
      ]
     },
     "metadata": {
      "needs_background": "light"
     },
     "output_type": "display_data"
    }
   ],
   "source": [
    "# look at distributions for all columns\n",
    "\n",
    "df.hist(figsize=(24, 10), bins=20)\n",
    "plt.tight_layout;"
   ]
  },
  {
   "cell_type": "code",
   "execution_count": 50,
   "id": "79632339",
   "metadata": {},
   "outputs": [
    {
     "data": {
      "text/plain": [
       "(69714, 22)"
      ]
     },
     "execution_count": 50,
     "metadata": {},
     "output_type": "execute_result"
    }
   ],
   "source": [
    "# Remove properties valued more than 5 million dollars\n",
    "\n",
    "df = df[df.taxvaluedollarcnt < 5_000_000]\n",
    "df.shape"
   ]
  },
  {
   "cell_type": "code",
   "execution_count": 51,
   "id": "88c29698",
   "metadata": {},
   "outputs": [],
   "source": [
    "# Function to read and wrangle data:\n",
    "\n",
    "def wrangle_zillow():\n",
    "    df = pd.read_csv('zillow_df.csv')\n",
    "    \n",
    "    # Restrict df to only properties that meet single unit use criteria\n",
    "    single_use = [261, 262, 263, 264, 266, 268, 273, 276, 279]\n",
    "    df = df[df.propertylandusetypeid.isin(single_use)]\n",
    "    \n",
    "    # Restrict df to only those properties with at least 1 bath & bed and 350 sqft area\n",
    "    df = df[(df.bedroomcnt > 0) & (df.bathroomcnt > 0) & ((df.unitcnt<=1)|df.unitcnt.isnull())\\\n",
    "            & (df.calculatedfinishedsquarefeet>350)]\n",
    "\n",
    "    # Handle missing values i.e. drop columns and rows based on a threshold\n",
    "    df = handle_missing_values(df,.7,.5\n",
    "                              )\n",
    "    \n",
    "    # Add column for counties\n",
    "    df['county'] = np.where(df.fips == 6037, 'Los_Angeles',\n",
    "                           np.where(df.fips == 6059, 'Orange', \n",
    "                                   'Ventura'))    \n",
    "    # drop columns not needed\n",
    "    df = remove_columns(df, ['id',\n",
    "       'calculatedbathnbr', 'finishedsquarefeet12', 'heatingorsystemtypeid'\n",
    "       ,'propertycountylandusecode', 'propertylandusetypeid','propertyzoningdesc'\n",
    "       ,'regionidcounty', \n",
    "        'censustractandblock', 'propertylandusedesc', 'unitcnt'])\n",
    "\n",
    "\n",
    "#     replace nulls in unitcnt with 1\n",
    "#     df.unitcnt.fillna(1, inplace = True)\n",
    "    \n",
    "    # assume that since this is Southern CA, null means 'None' for heating system\n",
    "#     df.heatingorsystemdesc.fillna('None', inplace = True)\n",
    "\n",
    "    # actually, I'm not assuming this, and I am dropping the heatingsystem col\n",
    "    df.drop(columns = 'heatingorsystemdesc', inplace = True)\n",
    "    \n",
    "    # replace nulls with median values for select columns\n",
    "    df.lotsizesquarefeet.fillna(7313, inplace = True)\n",
    "    df.buildingqualitytypeid.fillna(6.0, inplace = True)\n",
    "\n",
    "    # Columns to look for outliers\n",
    "    df = df[df.taxvaluedollarcnt < 5_000_000]\n",
    "    df = df[df.calculatedfinishedsquarefeet < 8000]\n",
    "    \n",
    "    # Just to be sure we caught all nulls, drop them here\n",
    "    df = df.dropna()\n",
    "    \n",
    "    return df"
   ]
  },
  {
   "cell_type": "code",
   "execution_count": 52,
   "id": "51ccb96e",
   "metadata": {},
   "outputs": [
    {
     "data": {
      "text/html": [
       "<div>\n",
       "<style scoped>\n",
       "    .dataframe tbody tr th:only-of-type {\n",
       "        vertical-align: middle;\n",
       "    }\n",
       "\n",
       "    .dataframe tbody tr th {\n",
       "        vertical-align: top;\n",
       "    }\n",
       "\n",
       "    .dataframe thead th {\n",
       "        text-align: right;\n",
       "    }\n",
       "</style>\n",
       "<table border=\"1\" class=\"dataframe\">\n",
       "  <thead>\n",
       "    <tr style=\"text-align: right;\">\n",
       "      <th></th>\n",
       "      <th>Unnamed: 0</th>\n",
       "      <th>parcelid</th>\n",
       "      <th>bathroomcnt</th>\n",
       "      <th>bedroomcnt</th>\n",
       "      <th>buildingqualitytypeid</th>\n",
       "      <th>calculatedfinishedsquarefeet</th>\n",
       "      <th>fips</th>\n",
       "      <th>fullbathcnt</th>\n",
       "      <th>latitude</th>\n",
       "      <th>longitude</th>\n",
       "      <th>...</th>\n",
       "      <th>roomcnt</th>\n",
       "      <th>yearbuilt</th>\n",
       "      <th>structuretaxvaluedollarcnt</th>\n",
       "      <th>taxvaluedollarcnt</th>\n",
       "      <th>assessmentyear</th>\n",
       "      <th>landtaxvaluedollarcnt</th>\n",
       "      <th>taxamount</th>\n",
       "      <th>logerror</th>\n",
       "      <th>transactiondate</th>\n",
       "      <th>county</th>\n",
       "    </tr>\n",
       "  </thead>\n",
       "  <tbody>\n",
       "    <tr>\n",
       "      <th>0</th>\n",
       "      <td>0</td>\n",
       "      <td>14297519</td>\n",
       "      <td>3.5</td>\n",
       "      <td>4.0</td>\n",
       "      <td>6.0</td>\n",
       "      <td>3100.0</td>\n",
       "      <td>6059.0</td>\n",
       "      <td>3.0</td>\n",
       "      <td>33634931.0</td>\n",
       "      <td>-117869207.0</td>\n",
       "      <td>...</td>\n",
       "      <td>0.0</td>\n",
       "      <td>1998.0</td>\n",
       "      <td>485713.0</td>\n",
       "      <td>1023282.0</td>\n",
       "      <td>2016.0</td>\n",
       "      <td>537569.0</td>\n",
       "      <td>11013.72</td>\n",
       "      <td>0.025595</td>\n",
       "      <td>2017-01-01</td>\n",
       "      <td>Orange</td>\n",
       "    </tr>\n",
       "    <tr>\n",
       "      <th>1</th>\n",
       "      <td>1</td>\n",
       "      <td>17052889</td>\n",
       "      <td>1.0</td>\n",
       "      <td>2.0</td>\n",
       "      <td>6.0</td>\n",
       "      <td>1465.0</td>\n",
       "      <td>6111.0</td>\n",
       "      <td>1.0</td>\n",
       "      <td>34449266.0</td>\n",
       "      <td>-119281531.0</td>\n",
       "      <td>...</td>\n",
       "      <td>5.0</td>\n",
       "      <td>1967.0</td>\n",
       "      <td>88000.0</td>\n",
       "      <td>464000.0</td>\n",
       "      <td>2016.0</td>\n",
       "      <td>376000.0</td>\n",
       "      <td>5672.48</td>\n",
       "      <td>0.055619</td>\n",
       "      <td>2017-01-01</td>\n",
       "      <td>Ventura</td>\n",
       "    </tr>\n",
       "    <tr>\n",
       "      <th>2</th>\n",
       "      <td>2</td>\n",
       "      <td>14186244</td>\n",
       "      <td>2.0</td>\n",
       "      <td>3.0</td>\n",
       "      <td>6.0</td>\n",
       "      <td>1243.0</td>\n",
       "      <td>6059.0</td>\n",
       "      <td>2.0</td>\n",
       "      <td>33886168.0</td>\n",
       "      <td>-117823170.0</td>\n",
       "      <td>...</td>\n",
       "      <td>6.0</td>\n",
       "      <td>1962.0</td>\n",
       "      <td>85289.0</td>\n",
       "      <td>564778.0</td>\n",
       "      <td>2016.0</td>\n",
       "      <td>479489.0</td>\n",
       "      <td>6488.30</td>\n",
       "      <td>0.005383</td>\n",
       "      <td>2017-01-01</td>\n",
       "      <td>Orange</td>\n",
       "    </tr>\n",
       "    <tr>\n",
       "      <th>3</th>\n",
       "      <td>3</td>\n",
       "      <td>12177905</td>\n",
       "      <td>3.0</td>\n",
       "      <td>4.0</td>\n",
       "      <td>8.0</td>\n",
       "      <td>2376.0</td>\n",
       "      <td>6037.0</td>\n",
       "      <td>3.0</td>\n",
       "      <td>34245180.0</td>\n",
       "      <td>-118240722.0</td>\n",
       "      <td>...</td>\n",
       "      <td>0.0</td>\n",
       "      <td>1970.0</td>\n",
       "      <td>108918.0</td>\n",
       "      <td>145143.0</td>\n",
       "      <td>2016.0</td>\n",
       "      <td>36225.0</td>\n",
       "      <td>1777.51</td>\n",
       "      <td>-0.103410</td>\n",
       "      <td>2017-01-01</td>\n",
       "      <td>Los_Angeles</td>\n",
       "    </tr>\n",
       "    <tr>\n",
       "      <th>4</th>\n",
       "      <td>4</td>\n",
       "      <td>10887214</td>\n",
       "      <td>3.0</td>\n",
       "      <td>3.0</td>\n",
       "      <td>8.0</td>\n",
       "      <td>1312.0</td>\n",
       "      <td>6037.0</td>\n",
       "      <td>3.0</td>\n",
       "      <td>34185120.0</td>\n",
       "      <td>-118414640.0</td>\n",
       "      <td>...</td>\n",
       "      <td>0.0</td>\n",
       "      <td>1964.0</td>\n",
       "      <td>73681.0</td>\n",
       "      <td>119407.0</td>\n",
       "      <td>2016.0</td>\n",
       "      <td>45726.0</td>\n",
       "      <td>1533.89</td>\n",
       "      <td>0.006940</td>\n",
       "      <td>2017-01-01</td>\n",
       "      <td>Los_Angeles</td>\n",
       "    </tr>\n",
       "  </tbody>\n",
       "</table>\n",
       "<p>5 rows × 24 columns</p>\n",
       "</div>"
      ],
      "text/plain": [
       "   Unnamed: 0  parcelid  bathroomcnt  bedroomcnt  buildingqualitytypeid  \\\n",
       "0           0  14297519          3.5         4.0                    6.0   \n",
       "1           1  17052889          1.0         2.0                    6.0   \n",
       "2           2  14186244          2.0         3.0                    6.0   \n",
       "3           3  12177905          3.0         4.0                    8.0   \n",
       "4           4  10887214          3.0         3.0                    8.0   \n",
       "\n",
       "   calculatedfinishedsquarefeet    fips  fullbathcnt    latitude    longitude  \\\n",
       "0                        3100.0  6059.0          3.0  33634931.0 -117869207.0   \n",
       "1                        1465.0  6111.0          1.0  34449266.0 -119281531.0   \n",
       "2                        1243.0  6059.0          2.0  33886168.0 -117823170.0   \n",
       "3                        2376.0  6037.0          3.0  34245180.0 -118240722.0   \n",
       "4                        1312.0  6037.0          3.0  34185120.0 -118414640.0   \n",
       "\n",
       "   ...  roomcnt  yearbuilt  structuretaxvaluedollarcnt  taxvaluedollarcnt  \\\n",
       "0  ...      0.0     1998.0                    485713.0          1023282.0   \n",
       "1  ...      5.0     1967.0                     88000.0           464000.0   \n",
       "2  ...      6.0     1962.0                     85289.0           564778.0   \n",
       "3  ...      0.0     1970.0                    108918.0           145143.0   \n",
       "4  ...      0.0     1964.0                     73681.0           119407.0   \n",
       "\n",
       "   assessmentyear  landtaxvaluedollarcnt  taxamount  logerror  \\\n",
       "0          2016.0               537569.0   11013.72  0.025595   \n",
       "1          2016.0               376000.0    5672.48  0.055619   \n",
       "2          2016.0               479489.0    6488.30  0.005383   \n",
       "3          2016.0                36225.0    1777.51 -0.103410   \n",
       "4          2016.0                45726.0    1533.89  0.006940   \n",
       "\n",
       "   transactiondate       county  \n",
       "0       2017-01-01       Orange  \n",
       "1       2017-01-01      Ventura  \n",
       "2       2017-01-01       Orange  \n",
       "3       2017-01-01  Los_Angeles  \n",
       "4       2017-01-01  Los_Angeles  \n",
       "\n",
       "[5 rows x 24 columns]"
      ]
     },
     "execution_count": 52,
     "metadata": {},
     "output_type": "execute_result"
    }
   ],
   "source": [
    "df = wrangle_zillow()\n",
    "df.head()"
   ]
  },
  {
   "cell_type": "code",
   "execution_count": 53,
   "id": "ef6e7414",
   "metadata": {},
   "outputs": [
    {
     "data": {
      "text/html": [
       "<div>\n",
       "<style scoped>\n",
       "    .dataframe tbody tr th:only-of-type {\n",
       "        vertical-align: middle;\n",
       "    }\n",
       "\n",
       "    .dataframe tbody tr th {\n",
       "        vertical-align: top;\n",
       "    }\n",
       "\n",
       "    .dataframe thead th {\n",
       "        text-align: right;\n",
       "    }\n",
       "</style>\n",
       "<table border=\"1\" class=\"dataframe\">\n",
       "  <thead>\n",
       "    <tr style=\"text-align: right;\">\n",
       "      <th></th>\n",
       "      <th>0</th>\n",
       "      <th>1</th>\n",
       "      <th>2</th>\n",
       "      <th>3</th>\n",
       "      <th>4</th>\n",
       "    </tr>\n",
       "  </thead>\n",
       "  <tbody>\n",
       "    <tr>\n",
       "      <th>Unnamed: 0</th>\n",
       "      <td>0</td>\n",
       "      <td>1</td>\n",
       "      <td>2</td>\n",
       "      <td>3</td>\n",
       "      <td>4</td>\n",
       "    </tr>\n",
       "    <tr>\n",
       "      <th>parcelid</th>\n",
       "      <td>14297519</td>\n",
       "      <td>17052889</td>\n",
       "      <td>14186244</td>\n",
       "      <td>12177905</td>\n",
       "      <td>10887214</td>\n",
       "    </tr>\n",
       "    <tr>\n",
       "      <th>bathroomcnt</th>\n",
       "      <td>3.5</td>\n",
       "      <td>1.0</td>\n",
       "      <td>2.0</td>\n",
       "      <td>3.0</td>\n",
       "      <td>3.0</td>\n",
       "    </tr>\n",
       "    <tr>\n",
       "      <th>bedroomcnt</th>\n",
       "      <td>4.0</td>\n",
       "      <td>2.0</td>\n",
       "      <td>3.0</td>\n",
       "      <td>4.0</td>\n",
       "      <td>3.0</td>\n",
       "    </tr>\n",
       "    <tr>\n",
       "      <th>buildingqualitytypeid</th>\n",
       "      <td>6.0</td>\n",
       "      <td>6.0</td>\n",
       "      <td>6.0</td>\n",
       "      <td>8.0</td>\n",
       "      <td>8.0</td>\n",
       "    </tr>\n",
       "    <tr>\n",
       "      <th>calculatedfinishedsquarefeet</th>\n",
       "      <td>3100.0</td>\n",
       "      <td>1465.0</td>\n",
       "      <td>1243.0</td>\n",
       "      <td>2376.0</td>\n",
       "      <td>1312.0</td>\n",
       "    </tr>\n",
       "    <tr>\n",
       "      <th>fips</th>\n",
       "      <td>6059.0</td>\n",
       "      <td>6111.0</td>\n",
       "      <td>6059.0</td>\n",
       "      <td>6037.0</td>\n",
       "      <td>6037.0</td>\n",
       "    </tr>\n",
       "    <tr>\n",
       "      <th>fullbathcnt</th>\n",
       "      <td>3.0</td>\n",
       "      <td>1.0</td>\n",
       "      <td>2.0</td>\n",
       "      <td>3.0</td>\n",
       "      <td>3.0</td>\n",
       "    </tr>\n",
       "    <tr>\n",
       "      <th>latitude</th>\n",
       "      <td>33634931.0</td>\n",
       "      <td>34449266.0</td>\n",
       "      <td>33886168.0</td>\n",
       "      <td>34245180.0</td>\n",
       "      <td>34185120.0</td>\n",
       "    </tr>\n",
       "    <tr>\n",
       "      <th>longitude</th>\n",
       "      <td>-117869207.0</td>\n",
       "      <td>-119281531.0</td>\n",
       "      <td>-117823170.0</td>\n",
       "      <td>-118240722.0</td>\n",
       "      <td>-118414640.0</td>\n",
       "    </tr>\n",
       "    <tr>\n",
       "      <th>lotsizesquarefeet</th>\n",
       "      <td>4506.0</td>\n",
       "      <td>12647.0</td>\n",
       "      <td>8432.0</td>\n",
       "      <td>13038.0</td>\n",
       "      <td>278581.0</td>\n",
       "    </tr>\n",
       "    <tr>\n",
       "      <th>rawcensustractandblock</th>\n",
       "      <td>60590630.072012</td>\n",
       "      <td>61110010.023006</td>\n",
       "      <td>60590218.022012</td>\n",
       "      <td>60373001.001006</td>\n",
       "      <td>60371236.012</td>\n",
       "    </tr>\n",
       "    <tr>\n",
       "      <th>regionidcity</th>\n",
       "      <td>53571.0</td>\n",
       "      <td>13091.0</td>\n",
       "      <td>21412.0</td>\n",
       "      <td>396551.0</td>\n",
       "      <td>12447.0</td>\n",
       "    </tr>\n",
       "    <tr>\n",
       "      <th>regionidzip</th>\n",
       "      <td>96978.0</td>\n",
       "      <td>97099.0</td>\n",
       "      <td>97078.0</td>\n",
       "      <td>96330.0</td>\n",
       "      <td>96451.0</td>\n",
       "    </tr>\n",
       "    <tr>\n",
       "      <th>roomcnt</th>\n",
       "      <td>0.0</td>\n",
       "      <td>5.0</td>\n",
       "      <td>6.0</td>\n",
       "      <td>0.0</td>\n",
       "      <td>0.0</td>\n",
       "    </tr>\n",
       "    <tr>\n",
       "      <th>yearbuilt</th>\n",
       "      <td>1998.0</td>\n",
       "      <td>1967.0</td>\n",
       "      <td>1962.0</td>\n",
       "      <td>1970.0</td>\n",
       "      <td>1964.0</td>\n",
       "    </tr>\n",
       "    <tr>\n",
       "      <th>structuretaxvaluedollarcnt</th>\n",
       "      <td>485713.0</td>\n",
       "      <td>88000.0</td>\n",
       "      <td>85289.0</td>\n",
       "      <td>108918.0</td>\n",
       "      <td>73681.0</td>\n",
       "    </tr>\n",
       "    <tr>\n",
       "      <th>taxvaluedollarcnt</th>\n",
       "      <td>1023282.0</td>\n",
       "      <td>464000.0</td>\n",
       "      <td>564778.0</td>\n",
       "      <td>145143.0</td>\n",
       "      <td>119407.0</td>\n",
       "    </tr>\n",
       "    <tr>\n",
       "      <th>assessmentyear</th>\n",
       "      <td>2016.0</td>\n",
       "      <td>2016.0</td>\n",
       "      <td>2016.0</td>\n",
       "      <td>2016.0</td>\n",
       "      <td>2016.0</td>\n",
       "    </tr>\n",
       "    <tr>\n",
       "      <th>landtaxvaluedollarcnt</th>\n",
       "      <td>537569.0</td>\n",
       "      <td>376000.0</td>\n",
       "      <td>479489.0</td>\n",
       "      <td>36225.0</td>\n",
       "      <td>45726.0</td>\n",
       "    </tr>\n",
       "    <tr>\n",
       "      <th>taxamount</th>\n",
       "      <td>11013.72</td>\n",
       "      <td>5672.48</td>\n",
       "      <td>6488.3</td>\n",
       "      <td>1777.51</td>\n",
       "      <td>1533.89</td>\n",
       "    </tr>\n",
       "    <tr>\n",
       "      <th>logerror</th>\n",
       "      <td>0.025595</td>\n",
       "      <td>0.055619</td>\n",
       "      <td>0.005383</td>\n",
       "      <td>-0.10341</td>\n",
       "      <td>0.00694</td>\n",
       "    </tr>\n",
       "    <tr>\n",
       "      <th>transactiondate</th>\n",
       "      <td>2017-01-01</td>\n",
       "      <td>2017-01-01</td>\n",
       "      <td>2017-01-01</td>\n",
       "      <td>2017-01-01</td>\n",
       "      <td>2017-01-01</td>\n",
       "    </tr>\n",
       "    <tr>\n",
       "      <th>county</th>\n",
       "      <td>Orange</td>\n",
       "      <td>Ventura</td>\n",
       "      <td>Orange</td>\n",
       "      <td>Los_Angeles</td>\n",
       "      <td>Los_Angeles</td>\n",
       "    </tr>\n",
       "  </tbody>\n",
       "</table>\n",
       "</div>"
      ],
      "text/plain": [
       "                                            0                1  \\\n",
       "Unnamed: 0                                  0                1   \n",
       "parcelid                             14297519         17052889   \n",
       "bathroomcnt                               3.5              1.0   \n",
       "bedroomcnt                                4.0              2.0   \n",
       "buildingqualitytypeid                     6.0              6.0   \n",
       "calculatedfinishedsquarefeet           3100.0           1465.0   \n",
       "fips                                   6059.0           6111.0   \n",
       "fullbathcnt                               3.0              1.0   \n",
       "latitude                           33634931.0       34449266.0   \n",
       "longitude                        -117869207.0     -119281531.0   \n",
       "lotsizesquarefeet                      4506.0          12647.0   \n",
       "rawcensustractandblock        60590630.072012  61110010.023006   \n",
       "regionidcity                          53571.0          13091.0   \n",
       "regionidzip                           96978.0          97099.0   \n",
       "roomcnt                                   0.0              5.0   \n",
       "yearbuilt                              1998.0           1967.0   \n",
       "structuretaxvaluedollarcnt           485713.0          88000.0   \n",
       "taxvaluedollarcnt                   1023282.0         464000.0   \n",
       "assessmentyear                         2016.0           2016.0   \n",
       "landtaxvaluedollarcnt                537569.0         376000.0   \n",
       "taxamount                            11013.72          5672.48   \n",
       "logerror                             0.025595         0.055619   \n",
       "transactiondate                    2017-01-01       2017-01-01   \n",
       "county                                 Orange          Ventura   \n",
       "\n",
       "                                            2                3             4  \n",
       "Unnamed: 0                                  2                3             4  \n",
       "parcelid                             14186244         12177905      10887214  \n",
       "bathroomcnt                               2.0              3.0           3.0  \n",
       "bedroomcnt                                3.0              4.0           3.0  \n",
       "buildingqualitytypeid                     6.0              8.0           8.0  \n",
       "calculatedfinishedsquarefeet           1243.0           2376.0        1312.0  \n",
       "fips                                   6059.0           6037.0        6037.0  \n",
       "fullbathcnt                               2.0              3.0           3.0  \n",
       "latitude                           33886168.0       34245180.0    34185120.0  \n",
       "longitude                        -117823170.0     -118240722.0  -118414640.0  \n",
       "lotsizesquarefeet                      8432.0          13038.0      278581.0  \n",
       "rawcensustractandblock        60590218.022012  60373001.001006  60371236.012  \n",
       "regionidcity                          21412.0         396551.0       12447.0  \n",
       "regionidzip                           97078.0          96330.0       96451.0  \n",
       "roomcnt                                   6.0              0.0           0.0  \n",
       "yearbuilt                              1962.0           1970.0        1964.0  \n",
       "structuretaxvaluedollarcnt            85289.0         108918.0       73681.0  \n",
       "taxvaluedollarcnt                    564778.0         145143.0      119407.0  \n",
       "assessmentyear                         2016.0           2016.0        2016.0  \n",
       "landtaxvaluedollarcnt                479489.0          36225.0       45726.0  \n",
       "taxamount                              6488.3          1777.51       1533.89  \n",
       "logerror                             0.005383         -0.10341       0.00694  \n",
       "transactiondate                    2017-01-01       2017-01-01    2017-01-01  \n",
       "county                                 Orange      Los_Angeles   Los_Angeles  "
      ]
     },
     "execution_count": 53,
     "metadata": {},
     "output_type": "execute_result"
    }
   ],
   "source": [
    "df.head().T"
   ]
  },
  {
   "cell_type": "code",
   "execution_count": 54,
   "id": "bbf75e59",
   "metadata": {
    "scrolled": true
   },
   "outputs": [
    {
     "data": {
      "text/plain": [
       "(69665, 24)"
      ]
     },
     "execution_count": 54,
     "metadata": {},
     "output_type": "execute_result"
    }
   ],
   "source": [
    "df.shape"
   ]
  },
  {
   "cell_type": "code",
   "execution_count": 55,
   "id": "46f9b1e9",
   "metadata": {},
   "outputs": [
    {
     "data": {
      "text/plain": [
       "'2017-09-25'"
      ]
     },
     "execution_count": 55,
     "metadata": {},
     "output_type": "execute_result"
    }
   ],
   "source": [
    "df.transactiondate.max()"
   ]
  },
  {
   "cell_type": "markdown",
   "id": "d878ef63",
   "metadata": {},
   "source": [
    "# RETURN TO THIS NOTEBOOK TO COMPLETE THE MALL DATA EXERCISES"
   ]
  },
  {
   "cell_type": "code",
   "execution_count": 56,
   "id": "7bdc6dfa",
   "metadata": {},
   "outputs": [],
   "source": [
    "sql = 'select * from customers'"
   ]
  },
  {
   "cell_type": "code",
   "execution_count": 57,
   "id": "c5c79d10",
   "metadata": {},
   "outputs": [],
   "source": [
    "# acquire data\n",
    "\n",
    "mall_df = wrangle_mall.get_mall_customers(sql)"
   ]
  },
  {
   "cell_type": "code",
   "execution_count": 58,
   "id": "040d3023",
   "metadata": {},
   "outputs": [
    {
     "data": {
      "text/html": [
       "<div>\n",
       "<style scoped>\n",
       "    .dataframe tbody tr th:only-of-type {\n",
       "        vertical-align: middle;\n",
       "    }\n",
       "\n",
       "    .dataframe tbody tr th {\n",
       "        vertical-align: top;\n",
       "    }\n",
       "\n",
       "    .dataframe thead th {\n",
       "        text-align: right;\n",
       "    }\n",
       "</style>\n",
       "<table border=\"1\" class=\"dataframe\">\n",
       "  <thead>\n",
       "    <tr style=\"text-align: right;\">\n",
       "      <th></th>\n",
       "      <th>gender</th>\n",
       "      <th>age</th>\n",
       "      <th>annual_income</th>\n",
       "      <th>spending_score</th>\n",
       "    </tr>\n",
       "    <tr>\n",
       "      <th>customer_id</th>\n",
       "      <th></th>\n",
       "      <th></th>\n",
       "      <th></th>\n",
       "      <th></th>\n",
       "    </tr>\n",
       "  </thead>\n",
       "  <tbody>\n",
       "    <tr>\n",
       "      <th>1</th>\n",
       "      <td>Male</td>\n",
       "      <td>19</td>\n",
       "      <td>15</td>\n",
       "      <td>39</td>\n",
       "    </tr>\n",
       "    <tr>\n",
       "      <th>2</th>\n",
       "      <td>Male</td>\n",
       "      <td>21</td>\n",
       "      <td>15</td>\n",
       "      <td>81</td>\n",
       "    </tr>\n",
       "    <tr>\n",
       "      <th>3</th>\n",
       "      <td>Female</td>\n",
       "      <td>20</td>\n",
       "      <td>16</td>\n",
       "      <td>6</td>\n",
       "    </tr>\n",
       "    <tr>\n",
       "      <th>4</th>\n",
       "      <td>Female</td>\n",
       "      <td>23</td>\n",
       "      <td>16</td>\n",
       "      <td>77</td>\n",
       "    </tr>\n",
       "    <tr>\n",
       "      <th>5</th>\n",
       "      <td>Female</td>\n",
       "      <td>31</td>\n",
       "      <td>17</td>\n",
       "      <td>40</td>\n",
       "    </tr>\n",
       "  </tbody>\n",
       "</table>\n",
       "</div>"
      ],
      "text/plain": [
       "             gender  age  annual_income  spending_score\n",
       "customer_id                                            \n",
       "1              Male   19             15              39\n",
       "2              Male   21             15              81\n",
       "3            Female   20             16               6\n",
       "4            Female   23             16              77\n",
       "5            Female   31             17              40"
      ]
     },
     "execution_count": 58,
     "metadata": {},
     "output_type": "execute_result"
    }
   ],
   "source": [
    "mall_df.head()"
   ]
  },
  {
   "cell_type": "code",
   "execution_count": 59,
   "id": "145a0228",
   "metadata": {},
   "outputs": [
    {
     "name": "stdout",
     "output_type": "stream",
     "text": [
      "<class 'pandas.core.frame.DataFrame'>\n",
      "Int64Index: 200 entries, 1 to 200\n",
      "Data columns (total 4 columns):\n",
      " #   Column          Non-Null Count  Dtype \n",
      "---  ------          --------------  ----- \n",
      " 0   gender          200 non-null    object\n",
      " 1   age             200 non-null    int64 \n",
      " 2   annual_income   200 non-null    int64 \n",
      " 3   spending_score  200 non-null    int64 \n",
      "dtypes: int64(3), object(1)\n",
      "memory usage: 7.8+ KB\n"
     ]
    }
   ],
   "source": [
    "mall_df.info()"
   ]
  },
  {
   "cell_type": "code",
   "execution_count": 60,
   "id": "6a360c01",
   "metadata": {},
   "outputs": [
    {
     "data": {
      "text/plain": [
       "(200, 4)"
      ]
     },
     "execution_count": 60,
     "metadata": {},
     "output_type": "execute_result"
    }
   ],
   "source": [
    "mall_df.shape"
   ]
  },
  {
   "cell_type": "code",
   "execution_count": 61,
   "id": "1e8c8194",
   "metadata": {},
   "outputs": [
    {
     "data": {
      "text/html": [
       "<div>\n",
       "<style scoped>\n",
       "    .dataframe tbody tr th:only-of-type {\n",
       "        vertical-align: middle;\n",
       "    }\n",
       "\n",
       "    .dataframe tbody tr th {\n",
       "        vertical-align: top;\n",
       "    }\n",
       "\n",
       "    .dataframe thead th {\n",
       "        text-align: right;\n",
       "    }\n",
       "</style>\n",
       "<table border=\"1\" class=\"dataframe\">\n",
       "  <thead>\n",
       "    <tr style=\"text-align: right;\">\n",
       "      <th></th>\n",
       "      <th>count</th>\n",
       "      <th>mean</th>\n",
       "      <th>std</th>\n",
       "      <th>min</th>\n",
       "      <th>25%</th>\n",
       "      <th>50%</th>\n",
       "      <th>75%</th>\n",
       "      <th>max</th>\n",
       "    </tr>\n",
       "  </thead>\n",
       "  <tbody>\n",
       "    <tr>\n",
       "      <th>age</th>\n",
       "      <td>200.0</td>\n",
       "      <td>38.85</td>\n",
       "      <td>13.969007</td>\n",
       "      <td>18.0</td>\n",
       "      <td>28.75</td>\n",
       "      <td>36.0</td>\n",
       "      <td>49.0</td>\n",
       "      <td>70.0</td>\n",
       "    </tr>\n",
       "    <tr>\n",
       "      <th>annual_income</th>\n",
       "      <td>200.0</td>\n",
       "      <td>60.56</td>\n",
       "      <td>26.264721</td>\n",
       "      <td>15.0</td>\n",
       "      <td>41.50</td>\n",
       "      <td>61.5</td>\n",
       "      <td>78.0</td>\n",
       "      <td>137.0</td>\n",
       "    </tr>\n",
       "    <tr>\n",
       "      <th>spending_score</th>\n",
       "      <td>200.0</td>\n",
       "      <td>50.20</td>\n",
       "      <td>25.823522</td>\n",
       "      <td>1.0</td>\n",
       "      <td>34.75</td>\n",
       "      <td>50.0</td>\n",
       "      <td>73.0</td>\n",
       "      <td>99.0</td>\n",
       "    </tr>\n",
       "  </tbody>\n",
       "</table>\n",
       "</div>"
      ],
      "text/plain": [
       "                count   mean        std   min    25%   50%   75%    max\n",
       "age             200.0  38.85  13.969007  18.0  28.75  36.0  49.0   70.0\n",
       "annual_income   200.0  60.56  26.264721  15.0  41.50  61.5  78.0  137.0\n",
       "spending_score  200.0  50.20  25.823522   1.0  34.75  50.0  73.0   99.0"
      ]
     },
     "execution_count": 61,
     "metadata": {},
     "output_type": "execute_result"
    }
   ],
   "source": [
    "mall_df.describe().T"
   ]
  },
  {
   "cell_type": "code",
   "execution_count": 62,
   "id": "b7765422",
   "metadata": {},
   "outputs": [
    {
     "data": {
      "text/plain": [
       "gender            0\n",
       "age               0\n",
       "annual_income     0\n",
       "spending_score    0\n",
       "dtype: int64"
      ]
     },
     "execution_count": 62,
     "metadata": {},
     "output_type": "execute_result"
    }
   ],
   "source": [
    "mall_df.isnull().sum()"
   ]
  },
  {
   "cell_type": "code",
   "execution_count": 63,
   "id": "56f39e87",
   "metadata": {},
   "outputs": [
    {
     "data": {
      "text/plain": [
       "Female    112\n",
       "Male       88\n",
       "Name: gender, dtype: int64"
      ]
     },
     "execution_count": 63,
     "metadata": {},
     "output_type": "execute_result"
    }
   ],
   "source": [
    "mall_df.gender.value_counts()"
   ]
  },
  {
   "cell_type": "code",
   "execution_count": 64,
   "id": "56a7d1a0",
   "metadata": {},
   "outputs": [
    {
     "data": {
      "text/plain": [
       "array([[<AxesSubplot:title={'center':'age'}>,\n",
       "        <AxesSubplot:title={'center':'annual_income'}>],\n",
       "       [<AxesSubplot:title={'center':'spending_score'}>, <AxesSubplot:>]],\n",
       "      dtype=object)"
      ]
     },
     "execution_count": 64,
     "metadata": {},
     "output_type": "execute_result"
    },
    {
     "data": {
      "image/png": "[encoded data removed]",
      "text/plain": [
       "<Figure size 432x288 with 4 Axes>"
      ]
     },
     "metadata": {
      "needs_background": "light"
     },
     "output_type": "display_data"
    }
   ],
   "source": [
    "mall_df.hist()"
   ]
  },
  {
   "cell_type": "code",
   "execution_count": 65,
   "id": "4d16bca9",
   "metadata": {},
   "outputs": [
    {
     "data": {
      "text/plain": [
       "<AxesSubplot:ylabel='spending_score'>"
      ]
     },
     "execution_count": 65,
     "metadata": {},
     "output_type": "execute_result"
    },
    {
     "data": {
      "image/png": "[encoded data removed]",
      "text/plain": [
       "<Figure size 864x576 with 3 Axes>"
      ]
     },
     "metadata": {
      "needs_background": "light"
     },
     "output_type": "display_data"
    }
   ],
   "source": [
    "# visualize outliers using boxplots:\n",
    "# why does my notebook require .pyplot? (and not ravinder's)\n",
    "\n",
    "\n",
    "plt.pyplot.figure(figsize = (12,8))\n",
    "plt.pyplot.subplot(221)\n",
    "sns.boxplot(y = mall_df.age)\n",
    "\n",
    "plt.pyplot.subplot(222)\n",
    "sns.boxplot(y = mall_df.annual_income)\n",
    "\n",
    "plt.pyplot.subplot(223)\n",
    "sns.boxplot(y = mall_df.spending_score)"
   ]
  },
  {
   "cell_type": "markdown",
   "id": "8bf5e9ed",
   "metadata": {},
   "source": [
    "Not many outliers, just a little in income"
   ]
  },
  {
   "cell_type": "code",
   "execution_count": 66,
   "id": "b8178678",
   "metadata": {},
   "outputs": [
    {
     "data": {
      "text/plain": [
       "132.75"
      ]
     },
     "execution_count": 66,
     "metadata": {},
     "output_type": "execute_result"
    }
   ],
   "source": [
    "# Calculate q1, q3 and iqr for income\n",
    "\n",
    "q1 = mall_df.annual_income.quantile(0.25)\n",
    "q3 = mall_df.annual_income.quantile(0.75)\n",
    "iqr = q3 - q1\n",
    "k = 1.5\n",
    "\n",
    "# calculate upper and lower ranges\n",
    "upper_bound_income =  q3 + k * iqr\n",
    "lower_bound_income =  q1 - k * iqr\n",
    "\n",
    "upper_bound_income"
   ]
  },
  {
   "cell_type": "code",
   "execution_count": 67,
   "id": "11688958",
   "metadata": {},
   "outputs": [
    {
     "data": {
      "text/html": [
       "<div>\n",
       "<style scoped>\n",
       "    .dataframe tbody tr th:only-of-type {\n",
       "        vertical-align: middle;\n",
       "    }\n",
       "\n",
       "    .dataframe tbody tr th {\n",
       "        vertical-align: top;\n",
       "    }\n",
       "\n",
       "    .dataframe thead th {\n",
       "        text-align: right;\n",
       "    }\n",
       "</style>\n",
       "<table border=\"1\" class=\"dataframe\">\n",
       "  <thead>\n",
       "    <tr style=\"text-align: right;\">\n",
       "      <th></th>\n",
       "      <th>gender</th>\n",
       "      <th>age</th>\n",
       "      <th>annual_income</th>\n",
       "      <th>spending_score</th>\n",
       "    </tr>\n",
       "    <tr>\n",
       "      <th>customer_id</th>\n",
       "      <th></th>\n",
       "      <th></th>\n",
       "      <th></th>\n",
       "      <th></th>\n",
       "    </tr>\n",
       "  </thead>\n",
       "  <tbody>\n",
       "    <tr>\n",
       "      <th>1</th>\n",
       "      <td>Male</td>\n",
       "      <td>19</td>\n",
       "      <td>15</td>\n",
       "      <td>39</td>\n",
       "    </tr>\n",
       "    <tr>\n",
       "      <th>2</th>\n",
       "      <td>Male</td>\n",
       "      <td>21</td>\n",
       "      <td>15</td>\n",
       "      <td>81</td>\n",
       "    </tr>\n",
       "    <tr>\n",
       "      <th>3</th>\n",
       "      <td>Female</td>\n",
       "      <td>20</td>\n",
       "      <td>16</td>\n",
       "      <td>6</td>\n",
       "    </tr>\n",
       "    <tr>\n",
       "      <th>4</th>\n",
       "      <td>Female</td>\n",
       "      <td>23</td>\n",
       "      <td>16</td>\n",
       "      <td>77</td>\n",
       "    </tr>\n",
       "    <tr>\n",
       "      <th>5</th>\n",
       "      <td>Female</td>\n",
       "      <td>31</td>\n",
       "      <td>17</td>\n",
       "      <td>40</td>\n",
       "    </tr>\n",
       "  </tbody>\n",
       "</table>\n",
       "</div>"
      ],
      "text/plain": [
       "             gender  age  annual_income  spending_score\n",
       "customer_id                                            \n",
       "1              Male   19             15              39\n",
       "2              Male   21             15              81\n",
       "3            Female   20             16               6\n",
       "4            Female   23             16              77\n",
       "5            Female   31             17              40"
      ]
     },
     "execution_count": 67,
     "metadata": {},
     "output_type": "execute_result"
    }
   ],
   "source": [
    "mall_df.head()\n"
   ]
  },
  {
   "cell_type": "code",
   "execution_count": 68,
   "id": "0b729090",
   "metadata": {},
   "outputs": [
    {
     "data": {
      "text/html": [
       "<div>\n",
       "<style scoped>\n",
       "    .dataframe tbody tr th:only-of-type {\n",
       "        vertical-align: middle;\n",
       "    }\n",
       "\n",
       "    .dataframe tbody tr th {\n",
       "        vertical-align: top;\n",
       "    }\n",
       "\n",
       "    .dataframe thead th {\n",
       "        text-align: right;\n",
       "    }\n",
       "</style>\n",
       "<table border=\"1\" class=\"dataframe\">\n",
       "  <thead>\n",
       "    <tr style=\"text-align: right;\">\n",
       "      <th></th>\n",
       "      <th>gender</th>\n",
       "      <th>age</th>\n",
       "      <th>annual_income</th>\n",
       "      <th>spending_score</th>\n",
       "    </tr>\n",
       "    <tr>\n",
       "      <th>customer_id</th>\n",
       "      <th></th>\n",
       "      <th></th>\n",
       "      <th></th>\n",
       "      <th></th>\n",
       "    </tr>\n",
       "  </thead>\n",
       "  <tbody>\n",
       "    <tr>\n",
       "      <th>199</th>\n",
       "      <td>Male</td>\n",
       "      <td>32</td>\n",
       "      <td>137</td>\n",
       "      <td>18</td>\n",
       "    </tr>\n",
       "    <tr>\n",
       "      <th>200</th>\n",
       "      <td>Male</td>\n",
       "      <td>30</td>\n",
       "      <td>137</td>\n",
       "      <td>83</td>\n",
       "    </tr>\n",
       "  </tbody>\n",
       "</table>\n",
       "</div>"
      ],
      "text/plain": [
       "            gender  age  annual_income  spending_score\n",
       "customer_id                                           \n",
       "199           Male   32            137              18\n",
       "200           Male   30            137              83"
      ]
     },
     "execution_count": 68,
     "metadata": {},
     "output_type": "execute_result"
    }
   ],
   "source": [
    "mall_df[mall_df.annual_income > upper_bound_income]"
   ]
  },
  {
   "cell_type": "code",
   "execution_count": 69,
   "id": "662aae48",
   "metadata": {},
   "outputs": [
    {
     "data": {
      "text/plain": [
       "(198, 4)"
      ]
     },
     "execution_count": 69,
     "metadata": {},
     "output_type": "execute_result"
    }
   ],
   "source": [
    "# use the outlier function defined above to handle outliers in numeric columns. k = 1.5\n",
    "\n",
    "mall_df = wrangle_mall.outlier_function(mall_df, ['age', 'spending_score', 'annual_income'], 1.5)\n",
    "mall_df.shape"
   ]
  },
  {
   "cell_type": "code",
   "execution_count": 70,
   "id": "ae5b74c8",
   "metadata": {},
   "outputs": [
    {
     "data": {
      "text/html": [
       "<div>\n",
       "<style scoped>\n",
       "    .dataframe tbody tr th:only-of-type {\n",
       "        vertical-align: middle;\n",
       "    }\n",
       "\n",
       "    .dataframe tbody tr th {\n",
       "        vertical-align: top;\n",
       "    }\n",
       "\n",
       "    .dataframe thead th {\n",
       "        text-align: right;\n",
       "    }\n",
       "</style>\n",
       "<table border=\"1\" class=\"dataframe\">\n",
       "  <thead>\n",
       "    <tr style=\"text-align: right;\">\n",
       "      <th></th>\n",
       "      <th>gender</th>\n",
       "      <th>age</th>\n",
       "      <th>annual_income</th>\n",
       "      <th>spending_score</th>\n",
       "    </tr>\n",
       "    <tr>\n",
       "      <th>customer_id</th>\n",
       "      <th></th>\n",
       "      <th></th>\n",
       "      <th></th>\n",
       "      <th></th>\n",
       "    </tr>\n",
       "  </thead>\n",
       "  <tbody>\n",
       "    <tr>\n",
       "      <th>1</th>\n",
       "      <td>Male</td>\n",
       "      <td>19</td>\n",
       "      <td>15</td>\n",
       "      <td>39</td>\n",
       "    </tr>\n",
       "    <tr>\n",
       "      <th>2</th>\n",
       "      <td>Male</td>\n",
       "      <td>21</td>\n",
       "      <td>15</td>\n",
       "      <td>81</td>\n",
       "    </tr>\n",
       "    <tr>\n",
       "      <th>3</th>\n",
       "      <td>Female</td>\n",
       "      <td>20</td>\n",
       "      <td>16</td>\n",
       "      <td>6</td>\n",
       "    </tr>\n",
       "    <tr>\n",
       "      <th>4</th>\n",
       "      <td>Female</td>\n",
       "      <td>23</td>\n",
       "      <td>16</td>\n",
       "      <td>77</td>\n",
       "    </tr>\n",
       "    <tr>\n",
       "      <th>5</th>\n",
       "      <td>Female</td>\n",
       "      <td>31</td>\n",
       "      <td>17</td>\n",
       "      <td>40</td>\n",
       "    </tr>\n",
       "  </tbody>\n",
       "</table>\n",
       "</div>"
      ],
      "text/plain": [
       "             gender  age  annual_income  spending_score\n",
       "customer_id                                            \n",
       "1              Male   19             15              39\n",
       "2              Male   21             15              81\n",
       "3            Female   20             16               6\n",
       "4            Female   23             16              77\n",
       "5            Female   31             17              40"
      ]
     },
     "execution_count": 70,
     "metadata": {},
     "output_type": "execute_result"
    }
   ],
   "source": [
    "mall_df.head()"
   ]
  },
  {
   "cell_type": "code",
   "execution_count": 71,
   "id": "68df0488",
   "metadata": {},
   "outputs": [
    {
     "data": {
      "text/html": [
       "<div>\n",
       "<style scoped>\n",
       "    .dataframe tbody tr th:only-of-type {\n",
       "        vertical-align: middle;\n",
       "    }\n",
       "\n",
       "    .dataframe tbody tr th {\n",
       "        vertical-align: top;\n",
       "    }\n",
       "\n",
       "    .dataframe thead th {\n",
       "        text-align: right;\n",
       "    }\n",
       "</style>\n",
       "<table border=\"1\" class=\"dataframe\">\n",
       "  <thead>\n",
       "    <tr style=\"text-align: right;\">\n",
       "      <th></th>\n",
       "      <th>Female</th>\n",
       "      <th>Male</th>\n",
       "    </tr>\n",
       "    <tr>\n",
       "      <th>customer_id</th>\n",
       "      <th></th>\n",
       "      <th></th>\n",
       "    </tr>\n",
       "  </thead>\n",
       "  <tbody>\n",
       "    <tr>\n",
       "      <th>1</th>\n",
       "      <td>0</td>\n",
       "      <td>1</td>\n",
       "    </tr>\n",
       "    <tr>\n",
       "      <th>2</th>\n",
       "      <td>0</td>\n",
       "      <td>1</td>\n",
       "    </tr>\n",
       "    <tr>\n",
       "      <th>3</th>\n",
       "      <td>1</td>\n",
       "      <td>0</td>\n",
       "    </tr>\n",
       "    <tr>\n",
       "      <th>4</th>\n",
       "      <td>1</td>\n",
       "      <td>0</td>\n",
       "    </tr>\n",
       "    <tr>\n",
       "      <th>5</th>\n",
       "      <td>1</td>\n",
       "      <td>0</td>\n",
       "    </tr>\n",
       "  </tbody>\n",
       "</table>\n",
       "</div>"
      ],
      "text/plain": [
       "             Female  Male\n",
       "customer_id              \n",
       "1                 0     1\n",
       "2                 0     1\n",
       "3                 1     0\n",
       "4                 1     0\n",
       "5                 1     0"
      ]
     },
     "execution_count": 71,
     "metadata": {},
     "output_type": "execute_result"
    }
   ],
   "source": [
    "# encode the gender column\n",
    "\n",
    "dummy_df = pd.get_dummies(mall_df.gender, drop_first=False)\n",
    "dummy_df.head()"
   ]
  },
  {
   "cell_type": "markdown",
   "id": "baa71296",
   "metadata": {},
   "source": [
    "### Encode"
   ]
  },
  {
   "cell_type": "code",
   "execution_count": 72,
   "id": "65f2ad5b",
   "metadata": {},
   "outputs": [
    {
     "data": {
      "text/html": [
       "<div>\n",
       "<style scoped>\n",
       "    .dataframe tbody tr th:only-of-type {\n",
       "        vertical-align: middle;\n",
       "    }\n",
       "\n",
       "    .dataframe tbody tr th {\n",
       "        vertical-align: top;\n",
       "    }\n",
       "\n",
       "    .dataframe thead th {\n",
       "        text-align: right;\n",
       "    }\n",
       "</style>\n",
       "<table border=\"1\" class=\"dataframe\">\n",
       "  <thead>\n",
       "    <tr style=\"text-align: right;\">\n",
       "      <th></th>\n",
       "      <th>age</th>\n",
       "      <th>annual_income</th>\n",
       "      <th>spending_score</th>\n",
       "      <th>Female</th>\n",
       "      <th>Male</th>\n",
       "    </tr>\n",
       "    <tr>\n",
       "      <th>customer_id</th>\n",
       "      <th></th>\n",
       "      <th></th>\n",
       "      <th></th>\n",
       "      <th></th>\n",
       "      <th></th>\n",
       "    </tr>\n",
       "  </thead>\n",
       "  <tbody>\n",
       "    <tr>\n",
       "      <th>1</th>\n",
       "      <td>19</td>\n",
       "      <td>15</td>\n",
       "      <td>39</td>\n",
       "      <td>0</td>\n",
       "      <td>1</td>\n",
       "    </tr>\n",
       "    <tr>\n",
       "      <th>2</th>\n",
       "      <td>21</td>\n",
       "      <td>15</td>\n",
       "      <td>81</td>\n",
       "      <td>0</td>\n",
       "      <td>1</td>\n",
       "    </tr>\n",
       "    <tr>\n",
       "      <th>3</th>\n",
       "      <td>20</td>\n",
       "      <td>16</td>\n",
       "      <td>6</td>\n",
       "      <td>1</td>\n",
       "      <td>0</td>\n",
       "    </tr>\n",
       "    <tr>\n",
       "      <th>4</th>\n",
       "      <td>23</td>\n",
       "      <td>16</td>\n",
       "      <td>77</td>\n",
       "      <td>1</td>\n",
       "      <td>0</td>\n",
       "    </tr>\n",
       "    <tr>\n",
       "      <th>5</th>\n",
       "      <td>31</td>\n",
       "      <td>17</td>\n",
       "      <td>40</td>\n",
       "      <td>1</td>\n",
       "      <td>0</td>\n",
       "    </tr>\n",
       "  </tbody>\n",
       "</table>\n",
       "</div>"
      ],
      "text/plain": [
       "             age  annual_income  spending_score  Female  Male\n",
       "customer_id                                                  \n",
       "1             19             15              39       0     1\n",
       "2             21             15              81       0     1\n",
       "3             20             16               6       1     0\n",
       "4             23             16              77       1     0\n",
       "5             31             17              40       1     0"
      ]
     },
     "execution_count": 72,
     "metadata": {},
     "output_type": "execute_result"
    }
   ],
   "source": [
    "# concat the dummies df with original df. Drop the 'gender' column\n",
    "\n",
    "mall_df = pd.concat([mall_df, dummy_df], axis=1).drop(columns = ['gender'])\n",
    "mall_df.head()"
   ]
  },
  {
   "cell_type": "markdown",
   "id": "16d1fa5f",
   "metadata": {},
   "source": [
    "### Split"
   ]
  },
  {
   "cell_type": "code",
   "execution_count": 73,
   "id": "bbf853b4",
   "metadata": {},
   "outputs": [
    {
     "data": {
      "text/plain": [
       "((118, 5), (40, 5), (40, 5))"
      ]
     },
     "execution_count": 73,
     "metadata": {},
     "output_type": "execute_result"
    }
   ],
   "source": [
    "from sklearn.model_selection import train_test_split\n",
    "\n",
    "\n",
    "train, test = train_test_split(mall_df, train_size = 0.8, random_state = 123)\n",
    "train, validate = train_test_split(train, train_size = 0.75, random_state = 123)\n",
    "train.shape, validate.shape, test.shape"
   ]
  },
  {
   "cell_type": "markdown",
   "id": "8e18c16e",
   "metadata": {},
   "source": [
    "### Scale"
   ]
  },
  {
   "cell_type": "code",
   "execution_count": 74,
   "id": "160918d7",
   "metadata": {},
   "outputs": [],
   "source": [
    "from sklearn.preprocessing import MinMaxScaler"
   ]
  },
  {
   "cell_type": "code",
   "execution_count": 75,
   "id": "1c585661",
   "metadata": {},
   "outputs": [],
   "source": [
    "def min_max_scaler(train, valid, test):\n",
    "    '''\n",
    "    Uses the train & test datasets created by the split_my_data function\n",
    "    Returns actually 4 items: mm_scaler, train_scaled_mm, valid_scaled_mm, test_scaled_mm\n",
    "    This is a linear transformation. Values will lie between 0 and 1\n",
    "    '''\n",
    "    num_vars = list(train.select_dtypes('number').columns)\n",
    "    scaler = MinMaxScaler(copy=True, feature_range=(0,1))\n",
    "    train[num_vars] = scaler.fit_transform(train[num_vars])\n",
    "    valid[num_vars] = scaler.transform(valid[num_vars])\n",
    "    test[num_vars] = scaler.transform(test[num_vars])\n",
    "    return scaler, train, valid, test"
   ]
  },
  {
   "cell_type": "code",
   "execution_count": 76,
   "id": "3b34ab40",
   "metadata": {},
   "outputs": [
    {
     "data": {
      "text/html": [
       "<div>\n",
       "<style scoped>\n",
       "    .dataframe tbody tr th:only-of-type {\n",
       "        vertical-align: middle;\n",
       "    }\n",
       "\n",
       "    .dataframe tbody tr th {\n",
       "        vertical-align: top;\n",
       "    }\n",
       "\n",
       "    .dataframe thead th {\n",
       "        text-align: right;\n",
       "    }\n",
       "</style>\n",
       "<table border=\"1\" class=\"dataframe\">\n",
       "  <thead>\n",
       "    <tr style=\"text-align: right;\">\n",
       "      <th></th>\n",
       "      <th>age</th>\n",
       "      <th>annual_income</th>\n",
       "      <th>spending_score</th>\n",
       "      <th>Female</th>\n",
       "      <th>Male</th>\n",
       "    </tr>\n",
       "    <tr>\n",
       "      <th>customer_id</th>\n",
       "      <th></th>\n",
       "      <th></th>\n",
       "      <th></th>\n",
       "      <th></th>\n",
       "      <th></th>\n",
       "    </tr>\n",
       "  </thead>\n",
       "  <tbody>\n",
       "    <tr>\n",
       "      <th>1</th>\n",
       "      <td>19</td>\n",
       "      <td>15</td>\n",
       "      <td>39</td>\n",
       "      <td>0</td>\n",
       "      <td>1</td>\n",
       "    </tr>\n",
       "    <tr>\n",
       "      <th>2</th>\n",
       "      <td>21</td>\n",
       "      <td>15</td>\n",
       "      <td>81</td>\n",
       "      <td>0</td>\n",
       "      <td>1</td>\n",
       "    </tr>\n",
       "    <tr>\n",
       "      <th>3</th>\n",
       "      <td>20</td>\n",
       "      <td>16</td>\n",
       "      <td>6</td>\n",
       "      <td>1</td>\n",
       "      <td>0</td>\n",
       "    </tr>\n",
       "    <tr>\n",
       "      <th>4</th>\n",
       "      <td>23</td>\n",
       "      <td>16</td>\n",
       "      <td>77</td>\n",
       "      <td>1</td>\n",
       "      <td>0</td>\n",
       "    </tr>\n",
       "    <tr>\n",
       "      <th>5</th>\n",
       "      <td>31</td>\n",
       "      <td>17</td>\n",
       "      <td>40</td>\n",
       "      <td>1</td>\n",
       "      <td>0</td>\n",
       "    </tr>\n",
       "    <tr>\n",
       "      <th>...</th>\n",
       "      <td>...</td>\n",
       "      <td>...</td>\n",
       "      <td>...</td>\n",
       "      <td>...</td>\n",
       "      <td>...</td>\n",
       "    </tr>\n",
       "    <tr>\n",
       "      <th>194</th>\n",
       "      <td>38</td>\n",
       "      <td>113</td>\n",
       "      <td>91</td>\n",
       "      <td>1</td>\n",
       "      <td>0</td>\n",
       "    </tr>\n",
       "    <tr>\n",
       "      <th>195</th>\n",
       "      <td>47</td>\n",
       "      <td>120</td>\n",
       "      <td>16</td>\n",
       "      <td>1</td>\n",
       "      <td>0</td>\n",
       "    </tr>\n",
       "    <tr>\n",
       "      <th>196</th>\n",
       "      <td>35</td>\n",
       "      <td>120</td>\n",
       "      <td>79</td>\n",
       "      <td>1</td>\n",
       "      <td>0</td>\n",
       "    </tr>\n",
       "    <tr>\n",
       "      <th>197</th>\n",
       "      <td>45</td>\n",
       "      <td>126</td>\n",
       "      <td>28</td>\n",
       "      <td>1</td>\n",
       "      <td>0</td>\n",
       "    </tr>\n",
       "    <tr>\n",
       "      <th>198</th>\n",
       "      <td>32</td>\n",
       "      <td>126</td>\n",
       "      <td>74</td>\n",
       "      <td>0</td>\n",
       "      <td>1</td>\n",
       "    </tr>\n",
       "  </tbody>\n",
       "</table>\n",
       "<p>198 rows × 5 columns</p>\n",
       "</div>"
      ],
      "text/plain": [
       "             age  annual_income  spending_score  Female  Male\n",
       "customer_id                                                  \n",
       "1             19             15              39       0     1\n",
       "2             21             15              81       0     1\n",
       "3             20             16               6       1     0\n",
       "4             23             16              77       1     0\n",
       "5             31             17              40       1     0\n",
       "...          ...            ...             ...     ...   ...\n",
       "194           38            113              91       1     0\n",
       "195           47            120              16       1     0\n",
       "196           35            120              79       1     0\n",
       "197           45            126              28       1     0\n",
       "198           32            126              74       0     1\n",
       "\n",
       "[198 rows x 5 columns]"
      ]
     },
     "execution_count": 76,
     "metadata": {},
     "output_type": "execute_result"
    }
   ],
   "source": [
    "mall_df.select_dtypes('number')"
   ]
  },
  {
   "cell_type": "code",
   "execution_count": 77,
   "id": "d05d6e81",
   "metadata": {},
   "outputs": [
    {
     "data": {
      "text/plain": [
       "Index(['age', 'annual_income', 'spending_score', 'Female', 'Male'], dtype='object')"
      ]
     },
     "execution_count": 77,
     "metadata": {},
     "output_type": "execute_result"
    }
   ],
   "source": [
    "mall_df.columns"
   ]
  },
  {
   "cell_type": "code",
   "execution_count": 78,
   "id": "0da58aa6",
   "metadata": {},
   "outputs": [],
   "source": [
    "# use the scaler\n",
    "scaler, train_scaled, validate_scaled, test_scaled = min_max_scaler(train, validate, test)"
   ]
  },
  {
   "cell_type": "code",
   "execution_count": 79,
   "id": "77da5859",
   "metadata": {},
   "outputs": [
    {
     "data": {
      "text/html": [
       "<div>\n",
       "<style scoped>\n",
       "    .dataframe tbody tr th:only-of-type {\n",
       "        vertical-align: middle;\n",
       "    }\n",
       "\n",
       "    .dataframe tbody tr th {\n",
       "        vertical-align: top;\n",
       "    }\n",
       "\n",
       "    .dataframe thead th {\n",
       "        text-align: right;\n",
       "    }\n",
       "</style>\n",
       "<table border=\"1\" class=\"dataframe\">\n",
       "  <thead>\n",
       "    <tr style=\"text-align: right;\">\n",
       "      <th></th>\n",
       "      <th>age</th>\n",
       "      <th>annual_income</th>\n",
       "      <th>spending_score</th>\n",
       "      <th>Female</th>\n",
       "      <th>Male</th>\n",
       "    </tr>\n",
       "    <tr>\n",
       "      <th>customer_id</th>\n",
       "      <th></th>\n",
       "      <th></th>\n",
       "      <th></th>\n",
       "      <th></th>\n",
       "      <th></th>\n",
       "    </tr>\n",
       "  </thead>\n",
       "  <tbody>\n",
       "    <tr>\n",
       "      <th>182</th>\n",
       "      <td>0.269231</td>\n",
       "      <td>0.738739</td>\n",
       "      <td>0.867347</td>\n",
       "      <td>1.0</td>\n",
       "      <td>0.0</td>\n",
       "    </tr>\n",
       "    <tr>\n",
       "      <th>49</th>\n",
       "      <td>0.211538</td>\n",
       "      <td>0.225225</td>\n",
       "      <td>0.418367</td>\n",
       "      <td>1.0</td>\n",
       "      <td>0.0</td>\n",
       "    </tr>\n",
       "    <tr>\n",
       "      <th>35</th>\n",
       "      <td>0.596154</td>\n",
       "      <td>0.162162</td>\n",
       "      <td>0.132653</td>\n",
       "      <td>1.0</td>\n",
       "      <td>0.0</td>\n",
       "    </tr>\n",
       "    <tr>\n",
       "      <th>186</th>\n",
       "      <td>0.230769</td>\n",
       "      <td>0.756757</td>\n",
       "      <td>0.979592</td>\n",
       "      <td>0.0</td>\n",
       "      <td>1.0</td>\n",
       "    </tr>\n",
       "    <tr>\n",
       "      <th>114</th>\n",
       "      <td>0.019231</td>\n",
       "      <td>0.441441</td>\n",
       "      <td>0.459184</td>\n",
       "      <td>0.0</td>\n",
       "      <td>1.0</td>\n",
       "    </tr>\n",
       "  </tbody>\n",
       "</table>\n",
       "</div>"
      ],
      "text/plain": [
       "                  age  annual_income  spending_score  Female  Male\n",
       "customer_id                                                       \n",
       "182          0.269231       0.738739        0.867347     1.0   0.0\n",
       "49           0.211538       0.225225        0.418367     1.0   0.0\n",
       "35           0.596154       0.162162        0.132653     1.0   0.0\n",
       "186          0.230769       0.756757        0.979592     0.0   1.0\n",
       "114          0.019231       0.441441        0.459184     0.0   1.0"
      ]
     },
     "execution_count": 79,
     "metadata": {},
     "output_type": "execute_result"
    }
   ],
   "source": [
    "train_scaled.head()"
   ]
  },
  {
   "cell_type": "code",
   "execution_count": 80,
   "id": "e6256880",
   "metadata": {},
   "outputs": [
    {
     "data": {
      "text/plain": [
       "(118, 5)"
      ]
     },
     "execution_count": 80,
     "metadata": {},
     "output_type": "execute_result"
    }
   ],
   "source": [
    "train_scaled.shape"
   ]
  },
  {
   "cell_type": "code",
   "execution_count": 82,
   "id": "ee417f3e",
   "metadata": {},
   "outputs": [],
   "source": [
    "# use the wrangle function:\n",
    "\n",
    "train, validate, test = wrangle_mall.wrangle_mall_df()"
   ]
  },
  {
   "cell_type": "code",
   "execution_count": 83,
   "id": "6880a8c8",
   "metadata": {},
   "outputs": [],
   "source": [
    "#scaled the values\n",
    "scaler, train_scaled, validate_scaled, test_scaled = min_max_scaler(train, validate, test)"
   ]
  },
  {
   "cell_type": "code",
   "execution_count": 84,
   "id": "ab11447c",
   "metadata": {},
   "outputs": [
    {
     "data": {
      "text/html": [
       "<div>\n",
       "<style scoped>\n",
       "    .dataframe tbody tr th:only-of-type {\n",
       "        vertical-align: middle;\n",
       "    }\n",
       "\n",
       "    .dataframe tbody tr th {\n",
       "        vertical-align: top;\n",
       "    }\n",
       "\n",
       "    .dataframe thead th {\n",
       "        text-align: right;\n",
       "    }\n",
       "</style>\n",
       "<table border=\"1\" class=\"dataframe\">\n",
       "  <thead>\n",
       "    <tr style=\"text-align: right;\">\n",
       "      <th></th>\n",
       "      <th>age</th>\n",
       "      <th>annual_income</th>\n",
       "      <th>spending_score</th>\n",
       "      <th>is_male</th>\n",
       "    </tr>\n",
       "    <tr>\n",
       "      <th>customer_id</th>\n",
       "      <th></th>\n",
       "      <th></th>\n",
       "      <th></th>\n",
       "      <th></th>\n",
       "    </tr>\n",
       "  </thead>\n",
       "  <tbody>\n",
       "    <tr>\n",
       "      <th>182</th>\n",
       "      <td>0.269231</td>\n",
       "      <td>0.738739</td>\n",
       "      <td>0.867347</td>\n",
       "      <td>0.0</td>\n",
       "    </tr>\n",
       "    <tr>\n",
       "      <th>49</th>\n",
       "      <td>0.211538</td>\n",
       "      <td>0.225225</td>\n",
       "      <td>0.418367</td>\n",
       "      <td>0.0</td>\n",
       "    </tr>\n",
       "    <tr>\n",
       "      <th>35</th>\n",
       "      <td>0.596154</td>\n",
       "      <td>0.162162</td>\n",
       "      <td>0.132653</td>\n",
       "      <td>0.0</td>\n",
       "    </tr>\n",
       "    <tr>\n",
       "      <th>186</th>\n",
       "      <td>0.230769</td>\n",
       "      <td>0.756757</td>\n",
       "      <td>0.979592</td>\n",
       "      <td>1.0</td>\n",
       "    </tr>\n",
       "    <tr>\n",
       "      <th>114</th>\n",
       "      <td>0.019231</td>\n",
       "      <td>0.441441</td>\n",
       "      <td>0.459184</td>\n",
       "      <td>1.0</td>\n",
       "    </tr>\n",
       "  </tbody>\n",
       "</table>\n",
       "</div>"
      ],
      "text/plain": [
       "                  age  annual_income  spending_score  is_male\n",
       "customer_id                                                  \n",
       "182          0.269231       0.738739        0.867347      0.0\n",
       "49           0.211538       0.225225        0.418367      0.0\n",
       "35           0.596154       0.162162        0.132653      0.0\n",
       "186          0.230769       0.756757        0.979592      1.0\n",
       "114          0.019231       0.441441        0.459184      1.0"
      ]
     },
     "execution_count": 84,
     "metadata": {},
     "output_type": "execute_result"
    }
   ],
   "source": [
    "train_scaled.head()"
   ]
  },
  {
   "cell_type": "code",
   "execution_count": null,
   "id": "b65b18b5",
   "metadata": {},
   "outputs": [],
   "source": []
  }
 ],
 "metadata": {
  "kernelspec": {
   "display_name": "Python 3",
   "language": "python",
   "name": "python3"
  },
  "language_info": {
   "codemirror_mode": {
    "name": "ipython",
    "version": 3
   },
   "file_extension": ".py",
   "mimetype": "text/x-python",
   "name": "python",
   "nbconvert_exporter": "python",
   "pygments_lexer": "ipython3",
   "version": "3.8.8"
  }
 },
 "nbformat": 4,
 "nbformat_minor": 5
}
